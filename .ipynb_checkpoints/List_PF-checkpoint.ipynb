{
 "cells": [
  {
   "cell_type": "markdown",
   "id": "7be317d9",
   "metadata": {},
   "source": [
    "# Lists\n",
    "-  Anything can be a lists\n",
    "- Comma separated values\n",
    "- In square brackets\n",
    "- Can be any value, and a mix of values: Integer, Float, Boolean, None, String, List, Dictionary, …\n",
    "- ..... But usually they are of the same type:\n",
    "- Distances of astronomical objects\n",
    "- Chemical Formulas\n",
    "- Filenames\n",
    "- Names of devices\n",
    "- Objects describing attributes of a network device.\n",
    "- Actions to do on your data."
   ]
  },
  {
   "cell_type": "code",
   "execution_count": 2,
   "id": "9e747cc8",
   "metadata": {},
   "outputs": [
    {
     "name": "stdout",
     "output_type": "stream",
     "text": [
      "[42, 3.14, True, None, 'Foo Bar', ['another', 'list'], {'a': 'Dictionary', 'language': 'Python'}]\n"
     ]
    }
   ],
   "source": [
    "stuff = [42, 3.14, True, None, \"Foo Bar\", ['another', 'list'], {'a': 'Dictionary', '\\\n",
    "language' : 'Python'}]\n",
    "print(stuff)"
   ]
  },
  {
   "cell_type": "code",
   "execution_count": 3,
   "id": "0db81f5b",
   "metadata": {},
   "outputs": [
    {
     "name": "stdout",
     "output_type": "stream",
     "text": [
      "[42, 3.14, True, None, 'Foo Bar', ['another', 'list'], {'a': 'Dictionary', 'language': 'Python'}]\n"
     ]
    }
   ],
   "source": [
    "more_stuff = [\n",
    "42,\n",
    "3.14,\n",
    "True,\n",
    "None,\n",
    "\"Foo Bar\",\n",
    "['another', 'list'],\n",
    "{\n",
    "'a': 'Dictionary',\n",
    "'language' : 'Python',\n",
    "},\n",
    "]\n",
    "print(more_stuff)"
   ]
  },
  {
   "cell_type": "markdown",
   "id": "67ae5073",
   "metadata": {},
   "source": [
    "#### Lists\n",
    "- Access single element: [index]\n",
    "- Access a sublist: [start:end]\n",
    "- Creates a copy of that sublist"
   ]
  },
  {
   "cell_type": "code",
   "execution_count": 5,
   "id": "556a103b",
   "metadata": {},
   "outputs": [
    {
     "name": "stdout",
     "output_type": "stream",
     "text": [
      "['Mercury', 'Venus', 'Earth', 'Mars', 'Jupiter', 'Saturn']\n",
      "6\n",
      "Mercury\n",
      "<class 'str'>\n",
      "Mars\n",
      "['Mercury']\n",
      "<class 'list'>\n",
      "['Mercury', 'Venus']\n",
      "['Venus', 'Earth']\n",
      "['Earth', 'Mars', 'Jupiter', 'Saturn']\n",
      "['Mercury', 'Venus', 'Earth']\n",
      "['Mercury', 'Venus', 'Earth', 'Mars', 'Jupiter', 'Saturn']\n"
     ]
    }
   ],
   "source": [
    " planets = ['Mercury', 'Venus', 'Earth', 'Mars', 'Jupiter', 'Saturn']\n",
    " \n",
    "print(planets)   # ['Mercury', 'Venus', 'Earth', 'Mars', 'Jupiter', 'Saturn']\n",
    "print(len(planets))    # 6\n",
    "\n",
    "print(planets[0])         # Mercury\n",
    "print(type(planets[0]))   # <class 'str'>\n",
    "print(planets[3])         # Mars\n",
    "\n",
    "print(planets[0:1])       # ['Mercury']\n",
    "print(type(planets[0:1])) # <class 'list'>\n",
    "print(planets[0:2])       # ['Mercury', 'Venus']\n",
    "print(planets[1:3])       # ['Venus', 'Earth']\n",
    "\n",
    "print(planets[2:])        # ['Earth', 'Mars', 'Jupiter', 'Saturn']\n",
    "print(planets[:3])        # ['Mercury', 'Venus', 'Earth']\n",
    "\n",
    "print(planets[:])         # ['Mercury', 'Venus', 'Earth', 'Mars', 'Jupiter', 'Saturn\\']"
   ]
  },
  {
   "cell_type": "code",
   "execution_count": 6,
   "id": "5331a643",
   "metadata": {},
   "outputs": [
    {
     "name": "stdout",
     "output_type": "stream",
     "text": [
      "['Mercury', 'Venus', 'Earth', 'Mars', 'Jupiter', 'Saturn']\n"
     ]
    }
   ],
   "source": [
    "print(planets)   # ['Mercury', 'Venus', 'Earth', 'Mars', 'Jupiter', 'Saturn']"
   ]
  },
  {
   "cell_type": "code",
   "execution_count": 26,
   "id": "68f474bf",
   "metadata": {},
   "outputs": [
    {
     "name": "stdout",
     "output_type": "stream",
     "text": [
      "6\n"
     ]
    }
   ],
   "source": [
    "print(len(planets))   "
   ]
  },
  {
   "cell_type": "code",
   "execution_count": 27,
   "id": "bc63b2ef",
   "metadata": {},
   "outputs": [
    {
     "name": "stdout",
     "output_type": "stream",
     "text": [
      "Mercury\n"
     ]
    }
   ],
   "source": [
    "print(planets[0])         "
   ]
  },
  {
   "cell_type": "code",
   "execution_count": 28,
   "id": "4a07204e",
   "metadata": {},
   "outputs": [
    {
     "name": "stdout",
     "output_type": "stream",
     "text": [
      "<class 'str'>\n"
     ]
    }
   ],
   "source": [
    "print(type(planets[0]))  "
   ]
  },
  {
   "cell_type": "code",
   "execution_count": 29,
   "id": "9dfece7b",
   "metadata": {},
   "outputs": [
    {
     "name": "stdout",
     "output_type": "stream",
     "text": [
      "Mars\n"
     ]
    }
   ],
   "source": [
    "print(planets[3])       "
   ]
  },
  {
   "cell_type": "code",
   "execution_count": 30,
   "id": "92181d89",
   "metadata": {},
   "outputs": [
    {
     "name": "stdout",
     "output_type": "stream",
     "text": [
      "['Mercury']\n"
     ]
    }
   ],
   "source": [
    "print(planets[0:1])      "
   ]
  },
  {
   "cell_type": "code",
   "execution_count": 31,
   "id": "e41064f8",
   "metadata": {},
   "outputs": [
    {
     "name": "stdout",
     "output_type": "stream",
     "text": [
      "<class 'list'>\n"
     ]
    }
   ],
   "source": [
    "print(type(planets[0:1])) "
   ]
  },
  {
   "cell_type": "code",
   "execution_count": 32,
   "id": "d74575c2",
   "metadata": {},
   "outputs": [
    {
     "name": "stdout",
     "output_type": "stream",
     "text": [
      "['Mercury', 'Venus']\n"
     ]
    }
   ],
   "source": [
    "print(planets[0:2])     "
   ]
  },
  {
   "cell_type": "code",
   "execution_count": 33,
   "id": "d3d16fc5",
   "metadata": {},
   "outputs": [
    {
     "name": "stdout",
     "output_type": "stream",
     "text": [
      "['Venus', 'Earth']\n"
     ]
    }
   ],
   "source": [
    "print(planets[1:3])     "
   ]
  },
  {
   "cell_type": "code",
   "execution_count": 34,
   "id": "f848f6fc",
   "metadata": {},
   "outputs": [
    {
     "name": "stdout",
     "output_type": "stream",
     "text": [
      "['Earth', 'Mars', 'Jupiter', 'Saturn']\n"
     ]
    }
   ],
   "source": [
    "print(planets[2:])    "
   ]
  },
  {
   "cell_type": "code",
   "execution_count": 35,
   "id": "e27a571b",
   "metadata": {},
   "outputs": [
    {
     "name": "stdout",
     "output_type": "stream",
     "text": [
      "['Mercury', 'Venus', 'Earth']\n"
     ]
    }
   ],
   "source": [
    "print(planets[:3])     "
   ]
  },
  {
   "cell_type": "code",
   "execution_count": 36,
   "id": "b778c15b",
   "metadata": {},
   "outputs": [
    {
     "name": "stdout",
     "output_type": "stream",
     "text": [
      "['Mercury', 'Venus', 'Earth', 'Mars', 'Jupiter', 'Saturn']\n"
     ]
    }
   ],
   "source": [
    "print(planets[:])      "
   ]
  },
  {
   "cell_type": "markdown",
   "id": "45849803",
   "metadata": {},
   "source": [
    "### List slice with steps\n",
    "### - List slice with step: [start:end:step]"
   ]
  },
  {
   "cell_type": "code",
   "execution_count": 37,
   "id": "4d678fb0",
   "metadata": {},
   "outputs": [],
   "source": [
    "letters = ['a', 'b', 'c', 'd', 'e', 'f', 'g', 'h', 'i', 'j']"
   ]
  },
  {
   "cell_type": "code",
   "execution_count": 38,
   "id": "d1a6837f",
   "metadata": {},
   "outputs": [
    {
     "name": "stdout",
     "output_type": "stream",
     "text": [
      "['a', 'b', 'c', 'd', 'e', 'f', 'g', 'h', 'i', 'j']\n",
      "['a', 'b', 'c', 'd', 'e', 'f', 'g', 'h', 'i', 'j']\n",
      "['a', 'c', 'e', 'g', 'i']\n",
      "['b', 'd', 'f', 'h', 'j']\n",
      "['c', 'e', 'g']\n",
      "['b', 'e', 'h']\n"
     ]
    }
   ],
   "source": [
    "print(letters[::])       # ['a', 'b', 'c', 'd', 'e', 'f', 'g', 'h', 'i', 'j']\n",
    "\n",
    "print(letters[::1])      # ['a', 'b', 'c', 'd', 'e', 'f', 'g', 'h', 'i', 'j']\n",
    "\n",
    "print(letters[::2])      # ['a', 'c', 'e', 'g', 'i']\n",
    " \n",
    "print(letters[1::2])     # ['b', 'd', 'f', 'h', 'j']\n",
    "\n",
    "print(letters[2:8:2])    # ['c', 'e', 'g']\n",
    "\n",
    "print(letters[1:20:3])   # ['b', 'e', 'h']"
   ]
  },
  {
   "cell_type": "code",
   "execution_count": 39,
   "id": "e2232f15",
   "metadata": {},
   "outputs": [
    {
     "name": "stdout",
     "output_type": "stream",
     "text": [
      "['a', 'b', 'c', 'd', 'e', 'f', 'g', 'h', 'i', 'j']\n"
     ]
    }
   ],
   "source": [
    "print(letters[::]) "
   ]
  },
  {
   "cell_type": "code",
   "execution_count": 40,
   "id": "09302e3f",
   "metadata": {},
   "outputs": [
    {
     "name": "stdout",
     "output_type": "stream",
     "text": [
      "['a', 'b', 'c', 'd', 'e', 'f', 'g', 'h', 'i', 'j']\n"
     ]
    }
   ],
   "source": [
    "print(letters[::1]) "
   ]
  },
  {
   "cell_type": "code",
   "execution_count": 41,
   "id": "dc98102f",
   "metadata": {},
   "outputs": [
    {
     "name": "stdout",
     "output_type": "stream",
     "text": [
      "['a', 'c', 'e', 'g', 'i']\n"
     ]
    }
   ],
   "source": [
    "print(letters[::2]) "
   ]
  },
  {
   "cell_type": "code",
   "execution_count": 42,
   "id": "fe3e864f",
   "metadata": {},
   "outputs": [
    {
     "name": "stdout",
     "output_type": "stream",
     "text": [
      "['b', 'd', 'f', 'h', 'j']\n"
     ]
    }
   ],
   "source": [
    "print(letters[1::2])"
   ]
  },
  {
   "cell_type": "code",
   "execution_count": 43,
   "id": "5dae844c",
   "metadata": {},
   "outputs": [
    {
     "name": "stdout",
     "output_type": "stream",
     "text": [
      "['c', 'e', 'g']\n"
     ]
    }
   ],
   "source": [
    "print(letters[2:8:2])"
   ]
  },
  {
   "cell_type": "code",
   "execution_count": 44,
   "id": "34cf95f3",
   "metadata": {},
   "outputs": [
    {
     "name": "stdout",
     "output_type": "stream",
     "text": [
      "['b', 'e', 'h']\n"
     ]
    }
   ],
   "source": [
    "print(letters[1:20:3])"
   ]
  },
  {
   "cell_type": "markdown",
   "id": "b73b8806",
   "metadata": {},
   "source": [
    "### Change a List\n",
    "-  Unlike strings, lists are mutable. You can change the content of a list by assigning values to its elements.\n",
    "-  You can use the slice notation to change several elements at once.\n",
    "-  You can even have different number of elements in the slice and in the replacement. This will also change the length of the array."
   ]
  },
  {
   "cell_type": "code",
   "execution_count": 45,
   "id": "23e8c0f8",
   "metadata": {},
   "outputs": [
    {
     "name": "stdout",
     "output_type": "stream",
     "text": [
      "['qqrq', 'def', 'ghi', 'jkl']\n",
      "['qqrq', 'xyz', 'dod', 'jkl']\n",
      "['qqrq', 'bla', 'jkl']\n",
      "['qqrq', 'elp', 'free', 'jkl']\n"
     ]
    }
   ],
   "source": [
    "x = ['abc', 'def', 'ghi', 'jkl']\n",
    "x[0] = 'qqrq'\n",
    "print(x)    # ['qqrq', 'def', 'ghi', 'jkl']\n",
    "\n",
    "x[1:3] = ['xyz', 'dod']\n",
    "print(x)    #  ['qqrq', 'xyz', 'dod', 'jkl']\n",
    "\n",
    "x[1:3] = ['bla']\n",
    "print(x)    #  ['qqrq', 'bla', 'jkl']\n",
    "\n",
    "x[1:2] = ['elp', 'free']\n",
    "print(x)    # ['qqrq', 'elp', 'free', 'jkl']\n",
    "\n",
    "#x[1] = ['elp', 'free']\n",
    "#print(x)    # ['qqrq', ['elp', 'free'], 'jkl']"
   ]
  },
  {
   "cell_type": "code",
   "execution_count": 51,
   "id": "df7d335f",
   "metadata": {},
   "outputs": [],
   "source": [
    "x = ['abc', 'def', 'ghi', 'jkl']"
   ]
  },
  {
   "cell_type": "code",
   "execution_count": 52,
   "id": "533fc426",
   "metadata": {},
   "outputs": [
    {
     "name": "stdout",
     "output_type": "stream",
     "text": [
      "['qqrq', 'def', 'ghi', 'jkl']\n"
     ]
    }
   ],
   "source": [
    "x[0] = 'qqrq'\n",
    "print(x)   "
   ]
  },
  {
   "cell_type": "code",
   "execution_count": 53,
   "id": "0da3846d",
   "metadata": {},
   "outputs": [
    {
     "name": "stdout",
     "output_type": "stream",
     "text": [
      "['qqrq', 'xyz', 'dod', 'jkl']\n"
     ]
    }
   ],
   "source": [
    "x[1:3] = ['xyz', 'dod']\n",
    "print(x)    "
   ]
  },
  {
   "cell_type": "code",
   "execution_count": 54,
   "id": "453dc262",
   "metadata": {},
   "outputs": [
    {
     "name": "stdout",
     "output_type": "stream",
     "text": [
      "['qqrq', 'bla', 'jkl']\n"
     ]
    }
   ],
   "source": [
    "x[1:3] = ['bla']\n",
    "print(x)   "
   ]
  },
  {
   "cell_type": "code",
   "execution_count": 55,
   "id": "200f1fd7",
   "metadata": {},
   "outputs": [
    {
     "name": "stdout",
     "output_type": "stream",
     "text": [
      "['qqrq', 'elp', 'free', 'jkl']\n"
     ]
    }
   ],
   "source": [
    "x[1:2] = ['elp', 'free']\n",
    "print(x)    "
   ]
  },
  {
   "cell_type": "code",
   "execution_count": 56,
   "id": "74556e83",
   "metadata": {},
   "outputs": [
    {
     "name": "stdout",
     "output_type": "stream",
     "text": [
      "['qqrq', ['elp', 'free'], 'free', 'jkl']\n"
     ]
    }
   ],
   "source": [
    "x[1] = ['elp', 'free']\n",
    "print(x)    "
   ]
  },
  {
   "cell_type": "markdown",
   "id": "10a9b69c",
   "metadata": {},
   "source": [
    "#### Change with steps"
   ]
  },
  {
   "cell_type": "code",
   "execution_count": 58,
   "id": "3426bc5c",
   "metadata": {},
   "outputs": [
    {
     "name": "stdout",
     "output_type": "stream",
     "text": [
      "[1, 2, 3, 4, 5, 6, 7, 8, 9, 10, 11, 12]\n",
      "[1, 0, 3, 0, 5, 0, 7, 0, 9, 0, 11, 0]\n"
     ]
    }
   ],
   "source": [
    "numbers = [1, 2, 3, 4, 5, 6, 7, 8, 9, 10, 11, 12]\n",
    "print(numbers)  # [1, 2, 3, 4, 5, 6, 7, 8, 9, 10, 11, 12]\n",
    "numbers[1::2] = [0, 0, 0, 0, 0, 0]\n",
    "print(numbers)  # [1, 0, 3, 0, 5, 0, 7, 0, 9, 0, 11, 0"
   ]
  },
  {
   "cell_type": "code",
   "execution_count": null,
   "id": "3a6cb17b",
   "metadata": {},
   "outputs": [],
   "source": [
    "numbers = [1, 2, 3, 4, 5, 6, 7, 8, 9, 10, 11, 12]\n",
    "print(numbers)  "
   ]
  },
  {
   "cell_type": "code",
   "execution_count": 59,
   "id": "a1e93f67",
   "metadata": {},
   "outputs": [
    {
     "name": "stdout",
     "output_type": "stream",
     "text": [
      "[1, 0, 3, 0, 5, 0, 7, 0, 9, 0, 11, 0]\n"
     ]
    }
   ],
   "source": [
    "numbers[1::2] = [0, 0, 0, 0, 0, 0]\n",
    "print(numbers)"
   ]
  },
  {
   "cell_type": "markdown",
   "id": "32696466",
   "metadata": {},
   "source": [
    "### List assignment and list copy"
   ]
  },
  {
   "cell_type": "code",
   "execution_count": 60,
   "id": "ceeb9837",
   "metadata": {},
   "outputs": [
    {
     "name": "stdout",
     "output_type": "stream",
     "text": [
      "['qqrq', 'bob', 'cat', 'drone']\n",
      "['qqrq', 'bob', 'cat', 'drone']\n"
     ]
    }
   ],
   "source": [
    "x = ['apple', 'bob', 'cat', 'drone']\n",
    "y = x\n",
    "x[0] = 'qqrq'\n",
    "print(x)    # ['qqrq', 'bob', 'cat', 'drone']\n",
    "print(y)    # ['qqrq', 'bob', 'cat', 'drone']"
   ]
  },
  {
   "cell_type": "code",
   "execution_count": 61,
   "id": "84ccc089",
   "metadata": {},
   "outputs": [],
   "source": [
    "x = ['apple', 'bob', 'cat', 'drone']\n",
    "y = x\n",
    "x[0] = 'qqrq'"
   ]
  },
  {
   "cell_type": "code",
   "execution_count": 62,
   "id": "17309773",
   "metadata": {},
   "outputs": [
    {
     "name": "stdout",
     "output_type": "stream",
     "text": [
      "['qqrq', 'bob', 'cat', 'drone']\n",
      "['qqrq', 'bob', 'cat', 'drone']\n"
     ]
    }
   ],
   "source": [
    "print(x)   \n",
    "print(y) "
   ]
  },
  {
   "cell_type": "markdown",
   "id": "03ad0df7",
   "metadata": {},
   "source": [
    "- There is one list in the memory and two pointers to it.\n",
    "- If you really want to make a copy the pythonic way is to use the slice syntax.\n",
    "- ####  It creates a shallow copy."
   ]
  },
  {
   "cell_type": "code",
   "execution_count": 67,
   "id": "beb5a775",
   "metadata": {},
   "outputs": [],
   "source": [
    "x = ['apple', 'bob', 'cat', 'drone']\n",
    "y = x[:]\n",
    "\n",
    "x[0] = 'qqrq'\n",
    "\n",
    "# print(x)    # ['qqrq', 'bob', 'cat', 'drone']\n",
    "# print(y)    # ['apple', 'bob', 'cat', 'drone']"
   ]
  },
  {
   "cell_type": "code",
   "execution_count": 68,
   "id": "54125204",
   "metadata": {},
   "outputs": [
    {
     "name": "stdout",
     "output_type": "stream",
     "text": [
      "['qqrq', 'bob', 'cat', 'drone']\n"
     ]
    }
   ],
   "source": [
    "print(x)   \n"
   ]
  },
  {
   "cell_type": "code",
   "execution_count": 69,
   "id": "fab4a717",
   "metadata": {},
   "outputs": [
    {
     "name": "stdout",
     "output_type": "stream",
     "text": [
      "['apple', 'bob', 'cat', 'drone']\n"
     ]
    }
   ],
   "source": [
    "print(y)  "
   ]
  },
  {
   "cell_type": "markdown",
   "id": "a9628903",
   "metadata": {},
   "source": [
    "#### Deep copy"
   ]
  },
  {
   "cell_type": "code",
   "execution_count": 70,
   "id": "68a9ee4b",
   "metadata": {},
   "outputs": [
    {
     "name": "stdout",
     "output_type": "stream",
     "text": [
      "['qqrq', 'bob', 'cat', 'drone']\n",
      "['apple', 'bob', 'cat', 'drone']\n"
     ]
    }
   ],
   "source": [
    "from copy import deepcopy\n",
    "\n",
    "x = ['apple', 'bob', 'cat', 'drone']\n",
    "y = deepcopy(x)\n",
    "\n",
    "x[0] = 'qqrq'\n",
    "\n",
    "print(x)    # ['qqrq', 'bob', 'cat', 'drone']\n",
    "print(y)    # ['apple', 'bob', 'cat', 'drone']"
   ]
  },
  {
   "cell_type": "code",
   "execution_count": 71,
   "id": "fa69428f",
   "metadata": {},
   "outputs": [
    {
     "name": "stdout",
     "output_type": "stream",
     "text": [
      "['qqrq', 'bob', 'cat', 'drone']\n",
      "['apple', 'bob', 'cat', 'drone']\n"
     ]
    }
   ],
   "source": [
    "\n",
    "print(x)    \n",
    "print(y)   "
   ]
  },
  {
   "cell_type": "code",
   "execution_count": 74,
   "id": "748b24b3",
   "metadata": {},
   "outputs": [
    {
     "name": "stdout",
     "output_type": "stream",
     "text": [
      "li2 ID:  2351441386048 Value:  [1, 2, [3, 5], 4]\n",
      "li3 ID:  2351441180800 Value:  [1, 2, [3, 5], 4]\n"
     ]
    }
   ],
   "source": [
    "# importing copy module\n",
    "import copy\n",
    "\n",
    "# initializing list 1\n",
    "list1 = [1, 2, [3, 5], 4]\n",
    "\n",
    "# using copy for shallow copy\n",
    "list2 = copy.copy(list1)\n",
    "print(\"li2 ID: \", id(list2), \"Value: \", list2)\n",
    "\n",
    "\n",
    "# using deepcopy for deepcopy\n",
    "list3 = copy.deepcopy(list1)\n",
    "print(\"li3 ID: \", id(list3), \"Value: \", list3)\n"
   ]
  },
  {
   "cell_type": "markdown",
   "id": "44087ca8",
   "metadata": {},
   "source": [
    "#### join"
   ]
  },
  {
   "cell_type": "code",
   "execution_count": 75,
   "id": "27e401b4",
   "metadata": {},
   "outputs": [
    {
     "name": "stdout",
     "output_type": "stream",
     "text": [
      "one:two and three:four:five\n",
      "one -=<> two and three -=<> four -=<> five\n",
      "onetwo and threefourfive\n"
     ]
    }
   ],
   "source": [
    "fields = ['one', 'two and three', 'four', 'five']\n",
    "\n",
    "together = ':'.join(fields)\n",
    "print(together) # one:two and three:four:five\n",
    "\n",
    "mixed = ' -=<> '.join(fields)\n",
    "print(mixed) # one -=<> two and three -=<> four -=<> five\n",
    "another = ''.join(fields)\n",
    "print(another)  # onetwo and threefourfive"
   ]
  },
  {
   "cell_type": "markdown",
   "id": "1c340834",
   "metadata": {},
   "source": [
    "#### join list of numbers"
   ]
  },
  {
   "cell_type": "code",
   "execution_count": 76,
   "id": "ca046e6c",
   "metadata": {},
   "outputs": [
    {
     "name": "stdout",
     "output_type": "stream",
     "text": [
      "x:2:y\n",
      "x:2:y\n",
      "x:2:y\n"
     ]
    }
   ],
   "source": [
    "a = [\"x\", \"2\", \"y\"]\n",
    "b = [\"x\", 2, \"y\"]\n",
    "print(\":\".join(a))    # x:2:y\n",
    "# print \":\".join(b)    # TypeError: sequence item 1: expected string, int found\n",
    "\n",
    "# convert elements to string using map\n",
    "print(\":\".join( map(str, b) ))        # x:2:y\n",
    "\n",
    "\n",
    "# convert elements to string using list comprehension\n",
    "print(\":\".join( str(x) for x in b ))  # x:2:y"
   ]
  },
  {
   "cell_type": "markdown",
   "id": "c4a2f91b",
   "metadata": {},
   "source": [
    "### split\n",
    "- Special case: To split a string to its characters:  Use the list() function.\n",
    "- Split using more than one splitter: use re.split"
   ]
  },
  {
   "cell_type": "code",
   "execution_count": 1,
   "id": "42c4f229",
   "metadata": {},
   "outputs": [
    {
     "name": "stdout",
     "output_type": "stream",
     "text": [
      "['ab', 'cd', 'ef']\n",
      "['foo', 'bar', 'baz']\n",
      "['a', 'b', 'c', 'd']\n"
     ]
    }
   ],
   "source": [
    "words = \"ab:cd:ef\".split(':')\n",
    "print(words)   # ['ab', 'cd', 'ef']\n",
    "\n",
    "# special case: split by spaces\n",
    "names = \"foo   bar baz\".split()\n",
    "print(names)   # ['foo', 'bar', 'baz']\n",
    " \n",
    "# special case: split to characters\n",
    "chars = list(\"abcd\")\n",
    "print(chars)   # ['a', 'b', 'c', 'd']"
   ]
  },
  {
   "cell_type": "markdown",
   "id": "e3fd666f",
   "metadata": {},
   "source": [
    "### for loop on lists"
   ]
  },
  {
   "cell_type": "code",
   "execution_count": 3,
   "id": "e5910b17",
   "metadata": {},
   "outputs": [
    {
     "name": "stdout",
     "output_type": "stream",
     "text": [
      "apple\n",
      "banana\n",
      "peach\n",
      "42\n"
     ]
    }
   ],
   "source": [
    "\n",
    "things = ['apple', 'banana', 'peach', 42]\n",
    "for var  in things:\n",
    "    print(var)"
   ]
  },
  {
   "cell_type": "markdown",
   "id": "cd903aaa",
   "metadata": {},
   "source": [
    "### in list\n",
    "Check if the value is in the list?"
   ]
  },
  {
   "cell_type": "code",
   "execution_count": 4,
   "id": "472f6a30",
   "metadata": {},
   "outputs": [
    {
     "name": "stdout",
     "output_type": "stream",
     "text": [
      "found apple\n",
      "NOT found a\n",
      "NOT found 42\n"
     ]
    }
   ],
   "source": [
    "words = ['apple', 'banana', 'peach', '42']\n",
    "if 'apple' in words:\n",
    "    print('found apple')\n",
    " \n",
    "if 'a' in words:\n",
    "    print('found a')\n",
    "else:\n",
    "    print('NOT found a')\n",
    "\n",
    "if 42 in words:\n",
    "    print('found 42')\n",
    "else:\n",
    "    print('NOT found 42')\n",
    "\n",
    "# found apple\n",
    "# NOT found a\n",
    "# NOT found 42"
   ]
  },
  {
   "cell_type": "markdown",
   "id": "9f09cb3e",
   "metadata": {},
   "source": [
    "### Where is the element in the list"
   ]
  },
  {
   "cell_type": "code",
   "execution_count": 6,
   "id": "20c731f0",
   "metadata": {},
   "outputs": [
    {
     "name": "stdout",
     "output_type": "stream",
     "text": [
      "2\n"
     ]
    }
   ],
   "source": [
    "words = ['cat', 'dog', 'snake', 'camel']\n",
    "print(words.index('snake'))\n",
    "\n",
    "print(words.index('python'))"
   ]
  },
  {
   "cell_type": "markdown",
   "id": "ecce1d78",
   "metadata": {},
   "source": [
    "### Index improved"
   ]
  },
  {
   "cell_type": "code",
   "execution_count": 7,
   "id": "1ddf239c",
   "metadata": {},
   "outputs": [
    {
     "name": "stdout",
     "output_type": "stream",
     "text": [
      "2\n"
     ]
    }
   ],
   "source": [
    "words = ['cat', 'dog', 'snake', 'camel']\n",
    "\n",
    "name = 'snake'\n",
    "if name in words:\n",
    "    print(words.index(name))\n",
    "\n",
    "name = 'python'\n",
    "if name in words:\n",
    "    print(words.index(name))"
   ]
  },
  {
   "cell_type": "markdown",
   "id": "52994f8c",
   "metadata": {},
   "source": [
    "### [ ].insert"
   ]
  },
  {
   "cell_type": "code",
   "execution_count": 9,
   "id": "68a5e672",
   "metadata": {},
   "outputs": [
    {
     "name": "stdout",
     "output_type": "stream",
     "text": [
      "['apple', 'banana', 'cat']\n",
      "['apple', 'banana', 'zebra', 'cat']\n",
      "['dog', 'apple', 'banana', 'zebra', 'cat']\n",
      "['dog', 'apple', 'banana', 'zebra', 'cat', 'olifant']\n"
     ]
    }
   ],
   "source": [
    " words = ['apple', 'banana', 'cat']\n",
    " print(words)  # ['apple', 'banana', 'cat']\n",
    " \n",
    " words.insert(2, 'zebra')\n",
    " print(words)  # ['apple', 'banana', 'zebra', 'cat']\n",
    " \n",
    " words.insert(0, 'dog')\n",
    " print(words)  # ['dog', 'apple', 'banana', 'zebra', 'cat']\n",
    " \n",
    " # Instead of this, use append (next slide)\n",
    " words.insert(len(words), 'olifant')\n",
    " print(words)  # ['dog', 'apple', 'banana', 'zebra', 'cat', 'olifant']"
   ]
  },
  {
   "cell_type": "markdown",
   "id": "11339c60",
   "metadata": {},
   "source": [
    "### [ ].append"
   ]
  },
  {
   "cell_type": "code",
   "execution_count": 10,
   "id": "52a27d41",
   "metadata": {},
   "outputs": [
    {
     "name": "stdout",
     "output_type": "stream",
     "text": [
      "['Foo', 'Bar', 'Zorg', 'Bambi']\n",
      "['Foo', 'Bar', 'Zorg', 'Bambi', 'Qux']\n"
     ]
    }
   ],
   "source": [
    " names = ['Foo', 'Bar', 'Zorg', 'Bambi']\n",
    " print(names)  # ['Foo', 'Bar', 'Zorg', 'Bambi']\n",
    " \n",
    " names.append('Qux')\n",
    " print(names)  # ['Foo', 'Bar', 'Zorg', 'Bambi', 'Qux']"
   ]
  },
  {
   "cell_type": "markdown",
   "id": "5998754f",
   "metadata": {},
   "source": [
    "### [ ].remove\n",
    "- Remove first element from a list given by its value.\n",
    "- Throws an exception if there is no such element in the list."
   ]
  },
  {
   "cell_type": "code",
   "execution_count": 12,
   "id": "62df85cc",
   "metadata": {},
   "outputs": [
    {
     "name": "stdout",
     "output_type": "stream",
     "text": [
      "['Joe', 'Kim', 'Jane', 'Bob', 'Kim']\n",
      "None\n",
      "['Joe', 'Jane', 'Bob', 'Kim']\n"
     ]
    }
   ],
   "source": [
    "  names = ['Joe', 'Kim', 'Jane', 'Bob', 'Kim']\n",
    "  print(names)                # ['Joe', 'Kim', 'Jane', 'Bob', 'Kim']\n",
    "  \n",
    "  print(names.remove('Kim'))  # None\n",
    "  print(names)                # ['Joe', 'Jane', 'Bob', 'Kim']\n",
    "  \n",
    "  print(names.remove('George'))\n",
    "     # Traceback (most recent call last):\n",
    "     #   File \"examples/lists/remove.py\", line 9, in <module>\n",
    "     #     print(names.remove('George'))  # None\n",
    "    # ValueError: list.remove(x): x not in list"
   ]
  },
  {
   "cell_type": "markdown",
   "id": "30adf0a7",
   "metadata": {},
   "source": [
    "### Remove element by index [ ].pop\n",
    "- Remove and return the last element of a list. Throws an exception if the list was empty."
   ]
  },
  {
   "cell_type": "code",
   "execution_count": 15,
   "id": "39051bb7",
   "metadata": {},
   "outputs": [
    {
     "name": "stdout",
     "output_type": "stream",
     "text": [
      "['Mercury', 'Venus', 'Earth', 'Mars', 'Jupiter']\n",
      "Earth\n",
      "['Mercury', 'Venus', 'Mars', 'Jupiter']\n",
      "Jupiter\n",
      "['Mercury', 'Venus', 'Mars']\n"
     ]
    }
   ],
   "source": [
    "  planets = ['Mercury', 'Venus', 'Earth', 'Mars', 'Jupiter']\n",
    "  print(planets)          # ['Mercury', 'Venus', 'Earth', 'Mars', 'Jupiter']\n",
    "  \n",
    "  third = planets.pop(2)\n",
    "  print(third)            # Earth\n",
    "  print(planets)          # ['Mercury', 'Venus', 'Mars', 'Jupiter']\n",
    "  \n",
    "  last = planets.pop()\n",
    "  print(last)             # Jupiter\n",
    "  print(planets)          # ['Mercury', 'Venus', 'Mars']\n",
    " \n",
    " # planets.pop(4)          # IndexError: pop index out of range\n",
    " \n",
    "jupyter_landers = []\n",
    " # jupyter_landers.pop()   # IndexError: pop from empty list"
   ]
  },
  {
   "cell_type": "markdown",
   "id": "e02da762",
   "metadata": {},
   "source": [
    "### Remove first element of list\n",
    "- To remove an element by its index, use the slice syntax:"
   ]
  },
  {
   "cell_type": "code",
   "execution_count": 16,
   "id": "d2afab8a",
   "metadata": {},
   "outputs": [
    {
     "name": "stdout",
     "output_type": "stream",
     "text": [
      "foo\n",
      "['bar', 'baz', 'moo']\n"
     ]
    }
   ],
   "source": [
    " names = ['foo', 'bar', 'baz', 'moo']\n",
    " \n",
    " first = names.pop(0)\n",
    " print(first)    # foo\n",
    " print(names)    # ['bar', 'baz', 'moo']"
   ]
  },
  {
   "cell_type": "markdown",
   "id": "6624652f",
   "metadata": {},
   "source": [
    "### Remove several elements of list by index\n",
    "- To remove an element by its index, use the slice syntax:"
   ]
  },
  {
   "cell_type": "code",
   "execution_count": 17,
   "id": "450a0c26",
   "metadata": {},
   "outputs": [
    {
     "name": "stdout",
     "output_type": "stream",
     "text": [
      "['foo', 'bar', 'qux']\n"
     ]
    }
   ],
   "source": [
    " names = ['foo', 'bar', 'baz', 'moo', 'qux']\n",
    " \n",
    " names[2:4] = []\n",
    " print(names)    # ['foo', 'bar', 'qux']"
   ]
  },
  {
   "cell_type": "markdown",
   "id": "e5dda799",
   "metadata": {},
   "source": [
    "### Use list as a queue\n",
    "- First in first out (FIFO)"
   ]
  },
  {
   "cell_type": "code",
   "execution_count": 19,
   "id": "f97fce92",
   "metadata": {},
   "outputs": [
    {
     "name": "stdout",
     "output_type": "stream",
     "text": [
      "[]\n",
      "['Moo']\n",
      "['Moo', 'Bar']\n",
      "Moo\n",
      "['Bar']\n"
     ]
    }
   ],
   "source": [
    "  a_queue = []\n",
    "  print(a_queue)\n",
    "  \n",
    "  a_queue.append('Moo')\n",
    "  print(a_queue)\n",
    "  \n",
    "  a_queue.append('Bar')\n",
    "  print(a_queue)\n",
    "  \n",
    "  first = a_queue.pop(0)\n",
    "  print(first)\n",
    "  print(a_queue)"
   ]
  },
  {
   "cell_type": "markdown",
   "id": "d29fa94a",
   "metadata": {},
   "source": [
    "### List as a stack\n",
    "- Last in first out (LIFO)"
   ]
  },
  {
   "cell_type": "code",
   "execution_count": 23,
   "id": "3710ad88",
   "metadata": {},
   "outputs": [
    {
     "name": "stdout",
     "output_type": "stream",
     "text": [
      "['Joe']\n",
      "['Joe', 'Jane']\n",
      "['Joe', 'Jane', 'Bob']\n",
      "Bob\n",
      "['Joe', 'Jane']\n",
      "Jane\n",
      "['Joe']\n",
      "Joe\n",
      "[]\n"
     ]
    }
   ],
   "source": [
    "  stack = []\n",
    "  \n",
    "  stack.append(\"Joe\")\n",
    "  print(stack)\n",
    "  stack.append(\"Jane\")\n",
    "  print(stack)\n",
    "  stack.append(\"Bob\")\n",
    "  print(stack)\n",
    "  \n",
    "  while stack:\n",
    "      name = stack.pop()\n",
    "      print(name)\n",
    "      print(stack)"
   ]
  },
  {
   "cell_type": "markdown",
   "id": "e479a5c4",
   "metadata": {},
   "source": [
    "### sort"
   ]
  },
  {
   "cell_type": "code",
   "execution_count": 24,
   "id": "4903bf85",
   "metadata": {},
   "outputs": [
    {
     "name": "stdout",
     "output_type": "stream",
     "text": [
      "['Mercury', 'Venus', 'Earth', 'Mars', 'Jupiter', 'Saturn']\n",
      "['Earth', 'Jupiter', 'Mars', 'Mercury', 'Saturn', 'Venus']\n",
      "['Venus', 'Saturn', 'Mercury', 'Mars', 'Jupiter', 'Earth']\n"
     ]
    }
   ],
   "source": [
    " planets = ['Mercury', 'Venus', 'Earth', 'Mars', 'Jupiter', 'Saturn']\n",
    " print(planets)     # ['Mercury', 'Venus', 'Earth', 'Mars', 'Jupiter', 'Saturn']\n",
    " planets.sort()\n",
    " print(planets)     # ['Earth', 'Jupiter', 'Mars', 'Mercury', 'Saturn', 'Venus']\n",
    " \n",
    " planets.sort(reverse=True)\n",
    " print(planets)     # ['Venus', 'Saturn', 'Mercury', 'Mars', 'Jupiter', 'Earth']"
   ]
  },
  {
   "cell_type": "code",
   "execution_count": 28,
   "id": "0033802e",
   "metadata": {},
   "outputs": [
    {
     "name": "stdout",
     "output_type": "stream",
     "text": [
      "[7, 2, -4, 19, 8]\n",
      "[-4, 2, 7, 8, 19]\n",
      "[19, 8, 7, 2, -4]\n",
      "[19, 8, 7, -4, 2]\n"
     ]
    }
   ],
   "source": [
    "# sort numbers\n",
    "numbers = [7, 2, -4, 19, 8]\n",
    "print(numbers)                      # [7, 2, -4, 19, 8]\n",
    "numbers.sort()\n",
    "print(numbers)                      # [-4, 2, 7, 8, 19]\n",
    "  \n",
    "numbers.sort(reverse=True)\n",
    "print(numbers)                      # [19, 9, 7, 2, -4]\n",
    "  \n",
    "numbers.sort(key=abs, reverse=True)\n",
    "print(numbers)   "
   ]
  },
  {
   "cell_type": "code",
   "execution_count": 29,
   "id": "213f5972",
   "metadata": {},
   "outputs": [
    {
     "name": "stdout",
     "output_type": "stream",
     "text": [
      "[100, 'foo', 42, 'bar']\n"
     ]
    },
    {
     "ename": "TypeError",
     "evalue": "'<' not supported between instances of 'str' and 'int'",
     "output_type": "error",
     "traceback": [
      "\u001b[1;31m---------------------------------------------------------------------------\u001b[0m",
      "\u001b[1;31mTypeError\u001b[0m                                 Traceback (most recent call last)",
      "Input \u001b[1;32mIn [29]\u001b[0m, in \u001b[0;36m<cell line: 4>\u001b[1;34m()\u001b[0m\n\u001b[0;32m      2\u001b[0m mixed \u001b[38;5;241m=\u001b[39m [\u001b[38;5;241m100\u001b[39m, \u001b[38;5;124m'\u001b[39m\u001b[38;5;124mfoo\u001b[39m\u001b[38;5;124m'\u001b[39m, \u001b[38;5;241m42\u001b[39m, \u001b[38;5;124m'\u001b[39m\u001b[38;5;124mbar\u001b[39m\u001b[38;5;124m'\u001b[39m]\n\u001b[0;32m      3\u001b[0m \u001b[38;5;28mprint\u001b[39m(mixed)\n\u001b[1;32m----> 4\u001b[0m \u001b[43mmixed\u001b[49m\u001b[38;5;241;43m.\u001b[39;49m\u001b[43msort\u001b[49m\u001b[43m(\u001b[49m\u001b[43m)\u001b[49m\n\u001b[0;32m      5\u001b[0m \u001b[38;5;28mprint\u001b[39m(mixed)\n",
      "\u001b[1;31mTypeError\u001b[0m: '<' not supported between instances of 'str' and 'int'"
     ]
    }
   ],
   "source": [
    "#sort mixed\n",
    "mixed = [100, 'foo', 42, 'bar']\n",
    "print(mixed)\n",
    "mixed.sort()\n",
    "print(mixed)\n",
    "\n",
    "\n",
    "# In Python 2 puts the numbers first in numerical order and then the strings in ASCII order.\n",
    "# In Python 3 it throws an exception."
   ]
  },
  {
   "cell_type": "markdown",
   "id": "d3e238cf",
   "metadata": {},
   "source": [
    "### key sort\n",
    "- Another example to using a key.\n",
    "- To sort the list according to length"
   ]
  },
  {
   "cell_type": "code",
   "execution_count": 30,
   "id": "181e7e85",
   "metadata": {},
   "outputs": [
    {
     "name": "stdout",
     "output_type": "stream",
     "text": [
      "['chicken', 'cow', 'snail', 'elephant']\n",
      "['chicken', 'cow', 'elephant', 'snail']\n",
      "['cow', 'snail', 'chicken', 'elephant']\n",
      "['elephant', 'chicken', 'snail', 'cow']\n"
     ]
    }
   ],
   "source": [
    "animals = ['chicken', 'cow', 'snail', 'elephant']\n",
    "print(animals)\n",
    " \n",
    "animals.sort()\n",
    "print(animals)\n",
    " \n",
    "animals.sort(key=len)\n",
    "print(animals)\n",
    " \n",
    "animals.sort(key=len, reverse=True)\n",
    "print(animals)"
   ]
  },
  {
   "cell_type": "code",
   "execution_count": null,
   "id": "e1bdf92a",
   "metadata": {},
   "outputs": [],
   "source": []
  }
 ],
 "metadata": {
  "kernelspec": {
   "display_name": "Python 3 (ipykernel)",
   "language": "python",
   "name": "python3"
  },
  "language_info": {
   "codemirror_mode": {
    "name": "ipython",
    "version": 3
   },
   "file_extension": ".py",
   "mimetype": "text/x-python",
   "name": "python",
   "nbconvert_exporter": "python",
   "pygments_lexer": "ipython3",
   "version": "3.9.13"
  }
 },
 "nbformat": 4,
 "nbformat_minor": 5
}
