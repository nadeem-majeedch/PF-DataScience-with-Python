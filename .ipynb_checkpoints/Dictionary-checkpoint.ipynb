{
 "cells": [
  {
   "cell_type": "markdown",
   "id": "0a6e9a63",
   "metadata": {},
   "source": [
    "### What is a dictionary\n",
    "- Unordered key-value pairs.\n",
    "- Keys are immutables (numbers, strings, tuples).\n",
    "- Values can be any object.\n",
    "##### When to use dictionaries\n",
    "- ID to Name mapping.\n",
    "- Object to Count mapping.\n",
    "- Name of a feature to value of the feature.\n",
    "- Name of an attribute to value of the attribute."
   ]
  },
  {
   "cell_type": "code",
   "execution_count": 32,
   "id": "0a0a0aa6",
   "metadata": {},
   "outputs": [
    {
     "name": "stdout",
     "output_type": "stream",
     "text": [
      "Mustang\n",
      "Ford\n"
     ]
    }
   ],
   "source": [
    "thisdict = {\n",
    "  \"brand\": \"Ford\",\n",
    "  \"model\": \"Mustang\",\n",
    "  \"year\": 1964\n",
    "}\n",
    "x = thisdict[\"model\"]\n",
    "print(x)\n",
    "print(thisdict[\"brand\"])"
   ]
  },
  {
   "cell_type": "code",
   "execution_count": 34,
   "id": "6ff0d488",
   "metadata": {},
   "outputs": [
    {
     "name": "stdout",
     "output_type": "stream",
     "text": [
      "Mustang\n",
      "Ford\n"
     ]
    }
   ],
   "source": [
    "x = thisdict.get(\"model\")\n",
    "print(x)\n",
    "print(thisdict.get(\"brand\"))"
   ]
  },
  {
   "cell_type": "code",
   "execution_count": 35,
   "id": "7c66ccbe",
   "metadata": {},
   "outputs": [
    {
     "name": "stdout",
     "output_type": "stream",
     "text": [
      "dict_keys(['brand', 'model', 'year'])\n"
     ]
    }
   ],
   "source": [
    "# Get the value of the \"model\" key:\n",
    "\n",
    "x = thisdict.keys()\n",
    "print(x)"
   ]
  },
  {
   "cell_type": "code",
   "execution_count": 36,
   "id": "e98458b3",
   "metadata": {},
   "outputs": [
    {
     "name": "stdout",
     "output_type": "stream",
     "text": [
      "dict_values(['Ford', 'Mustang', 1964])\n"
     ]
    }
   ],
   "source": [
    "# Get a list of the values:\n",
    "\n",
    "x = thisdict.values()\n",
    "print(x)"
   ]
  },
  {
   "cell_type": "code",
   "execution_count": 37,
   "id": "10dab852",
   "metadata": {},
   "outputs": [
    {
     "name": "stdout",
     "output_type": "stream",
     "text": [
      "dict_values(['Ford', 'Mustang', 1964])\n",
      "dict_values(['Ford', 'Mustang', 2020])\n"
     ]
    }
   ],
   "source": [
    "# Make a change in the original dictionary, and see that the values list gets updated as well:\n",
    "\n",
    "car = {\n",
    "\"brand\": \"Ford\",\n",
    "\"model\": \"Mustang\",\n",
    "\"year\": 1964\n",
    "}\n",
    "\n",
    "x = car.values()\n",
    "\n",
    "print(x) #before the change\n",
    "\n",
    "car[\"year\"] = 2020\n",
    "\n",
    "print(x) #after the change"
   ]
  },
  {
   "cell_type": "code",
   "execution_count": 38,
   "id": "2fa32c9e",
   "metadata": {},
   "outputs": [
    {
     "name": "stdout",
     "output_type": "stream",
     "text": [
      "dict_values(['Ford', 'Mustang', 1964])\n",
      "dict_values(['Ford', 'Mustang', 1964, 'red'])\n"
     ]
    }
   ],
   "source": [
    "# Add a new item to the original dictionary, and see that the values list gets updated as well:\n",
    "car = {\n",
    "\"brand\": \"Ford\",\n",
    "\"model\": \"Mustang\",\n",
    "\"year\": 1964\n",
    "}\n",
    "\n",
    "x = car.values()\n",
    "\n",
    "print(x) #before the change\n",
    "\n",
    "car[\"color\"] = \"red\"\n",
    "\n",
    "print(x) #after the change\n"
   ]
  },
  {
   "cell_type": "code",
   "execution_count": 5,
   "id": "b5e94ef7",
   "metadata": {},
   "outputs": [
    {
     "name": "stdout",
     "output_type": "stream",
     "text": [
      "{'name': 'Bilal'}\n",
      "{'name': 'Bilal', 'email': 'bilal@gmail.com'}\n",
      "Bilal\n",
      "Bilal\n",
      "{'name': 'Rizwan Ali', 'email': 'bilal@gmail.com'}\n",
      "<class 'dict'>\n"
     ]
    }
   ],
   "source": [
    "user = {}\n",
    "user['name'] = 'Bilal'\n",
    "print(user)        # {'name': 'Foobar'}\n",
    " \n",
    "user['email'] = 'bilal@gmail.com'\n",
    "print(user)        # {'name': 'Foobar', 'email': 'foo@bar.com'}\n",
    " \n",
    "the_name = user['name']\n",
    "print(the_name)    # Foobar\n",
    " \n",
    "field = 'name'\n",
    "the_value = user[field]\n",
    "print(the_value)   # Foobar\n",
    " \n",
    "user['name'] = 'Rizwan Ali'\n",
    "print(user)      # {'name': 'Edith Piaf', 'email': 'foo@bar.com'}\n",
    "\n",
    "print(type(user))"
   ]
  },
  {
   "cell_type": "code",
   "execution_count": 4,
   "id": "e26b548e",
   "metadata": {},
   "outputs": [
    {
     "name": "stdout",
     "output_type": "stream",
     "text": [
      "{'fname': 'Bilal', 'lname': 'Asif'}\n",
      "dict_keys(['fname', 'lname'])\n"
     ]
    }
   ],
   "source": [
    "user = {\n",
    "   'fname': 'Bilal',\n",
    "   'lname': 'Asif',\n",
    "}\n",
    " \n",
    "print(user)   # {'lname': 'Bar', 'fname': 'Foo'}\n",
    " \n",
    "print(user.keys())    # ['lname', 'fname']"
   ]
  },
  {
   "cell_type": "markdown",
   "id": "2d264dbc",
   "metadata": {},
   "source": [
    "#### Dictionary Items - Data Types\n",
    "- The values in dictionary items can be of any data type:"
   ]
  },
  {
   "cell_type": "code",
   "execution_count": 57,
   "id": "2114f7cf",
   "metadata": {},
   "outputs": [
    {
     "name": "stdout",
     "output_type": "stream",
     "text": [
      "{'brand': 'Ford', 'electric': False, 'year': 1964, 'colors': ['red', 'white', 'blue']}\n",
      "<class 'dict'>\n"
     ]
    }
   ],
   "source": [
    "# String, int, boolean, and list data types:\n",
    "\n",
    "thisdict = {\n",
    "  \"brand\": \"Ford\",\n",
    "  \"electric\": False,\n",
    "  \"year\": 1964,\n",
    "  \"colors\": [\"red\", \"white\", \"blue\"]\n",
    "}\n",
    "\n",
    "print(thisdict)\n",
    "print(type(thisdict))"
   ]
  },
  {
   "cell_type": "code",
   "execution_count": 28,
   "id": "5150866c",
   "metadata": {},
   "outputs": [
    {
     "name": "stdout",
     "output_type": "stream",
     "text": [
      "<class 'dict'>\n"
     ]
    }
   ],
   "source": []
  },
  {
   "cell_type": "markdown",
   "id": "aa6564c9",
   "metadata": {},
   "source": [
    "#### Ordered or Unordered?\n",
    "- As of Python version 3.7, dictionaries are ordered. In Python 3.6 and earlier, dictionaries are unordered.\n",
    "- When we say that dictionaries are ordered, it means that the items have a defined order, and that order will not change.\n",
    "- Unordered means that the items does not have a defined order, you cannot refer to an item by using an index.\n",
    "\n",
    "\n",
    "\n",
    "\n",
    "#### Loop over keys"
   ]
  },
  {
   "cell_type": "code",
   "execution_count": 8,
   "id": "34178b90",
   "metadata": {},
   "outputs": [
    {
     "name": "stdout",
     "output_type": "stream",
     "text": [
      "fname\n",
      "lname\n",
      "fname -> Rizwan\n",
      "lname -> Rauf\n"
     ]
    }
   ],
   "source": [
    "\n",
    "user = {\n",
    "    'fname': 'Rizwan',\n",
    "    'lname': 'Rauf',\n",
    "}\n",
    " \n",
    "for k in user.keys():\n",
    "     print(k)\n",
    " \n",
    "# lname\n",
    "# fname\n",
    " \n",
    "for k in user.keys():\n",
    "    print(\"{} -> {}\".format(k, user[k]))\n",
    " \n",
    " # lname -> Bar\n",
    " # fname -> Foo"
   ]
  },
  {
   "cell_type": "markdown",
   "id": "14fb722a",
   "metadata": {},
   "source": [
    "#### Loop Through a Dictionary\n",
    "- You can loop through a dictionary by using a for loop.\n",
    "\n",
    "- When looping through a dictionary, the return value are the keys of the dictionary, but there are methods to return the values as well."
   ]
  },
  {
   "cell_type": "code",
   "execution_count": 60,
   "id": "e7d2439f",
   "metadata": {},
   "outputs": [],
   "source": [
    "thisdict = {\n",
    "  \"brand\": \"Ford\",\n",
    "  \"electric\": False,\n",
    "  \"year\": 1964,\n",
    "  \"colors\": [\"red\", \"white\", \"blue\"]\n",
    "}"
   ]
  },
  {
   "cell_type": "code",
   "execution_count": 61,
   "id": "5f771437",
   "metadata": {},
   "outputs": [
    {
     "name": "stdout",
     "output_type": "stream",
     "text": [
      "brand\n",
      "electric\n",
      "year\n",
      "colors\n"
     ]
    }
   ],
   "source": [
    "#Print all key names in the dictionary, one by one:\n",
    "\n",
    "for x in thisdict:\n",
    "  print(x)"
   ]
  },
  {
   "cell_type": "code",
   "execution_count": 62,
   "id": "9a1be300",
   "metadata": {},
   "outputs": [
    {
     "name": "stdout",
     "output_type": "stream",
     "text": [
      "Ford\n",
      "False\n",
      "1964\n",
      "['red', 'white', 'blue']\n"
     ]
    }
   ],
   "source": [
    "#Print all values in the dictionary, one by one:\n",
    "\n",
    "for x in thisdict:\n",
    "  print(thisdict[x])"
   ]
  },
  {
   "cell_type": "code",
   "execution_count": 63,
   "id": "a59f2f3d",
   "metadata": {},
   "outputs": [
    {
     "name": "stdout",
     "output_type": "stream",
     "text": [
      "Ford\n",
      "False\n",
      "1964\n",
      "['red', 'white', 'blue']\n"
     ]
    }
   ],
   "source": [
    "#You can also use the values() method to return values of a dictionary:\n",
    "\n",
    "for x in thisdict.values():\n",
    "  print(x)"
   ]
  },
  {
   "cell_type": "code",
   "execution_count": 64,
   "id": "be73cbce",
   "metadata": {},
   "outputs": [
    {
     "name": "stdout",
     "output_type": "stream",
     "text": [
      "brand\n",
      "electric\n",
      "year\n",
      "colors\n"
     ]
    }
   ],
   "source": [
    "#You can use the keys() method to return the keys of a dictionary:\n",
    "\n",
    "for x in thisdict.keys():\n",
    "  print(x)"
   ]
  },
  {
   "cell_type": "code",
   "execution_count": 65,
   "id": "e71ed6b3",
   "metadata": {},
   "outputs": [
    {
     "name": "stdout",
     "output_type": "stream",
     "text": [
      "brand Ford\n",
      "electric False\n",
      "year 1964\n",
      "colors ['red', 'white', 'blue']\n"
     ]
    }
   ],
   "source": [
    "#Loop through both keys and values, by using the items() method:\n",
    "\n",
    "for x, y in thisdict.items():\n",
    "  print(x, y)"
   ]
  },
  {
   "cell_type": "code",
   "execution_count": null,
   "id": "a8503ad5",
   "metadata": {},
   "outputs": [],
   "source": []
  },
  {
   "cell_type": "code",
   "execution_count": 66,
   "id": "080d4935",
   "metadata": {},
   "outputs": [
    {
     "name": "stdout",
     "output_type": "stream",
     "text": [
      "dict_items([('brand', 'Ford'), ('electric', False), ('year', 1964), ('colors', ['red', 'white', 'blue'])])\n"
     ]
    }
   ],
   "source": [
    "# The items() method will return each item in a dictionary, as tuples in a list.\n",
    "# Get a list of the key:value pairs\n",
    "\n",
    "x = thisdict.items()\n",
    "print(x)\n",
    "# The returned list is a view of the items of the dictionary,\n",
    "# meaning that any changes done to the dictionary will be reflected in the items list."
   ]
  },
  {
   "cell_type": "code",
   "execution_count": 10,
   "id": "5a99284f",
   "metadata": {},
   "outputs": [
    {
     "name": "stdout",
     "output_type": "stream",
     "text": [
      "foo => 123\n",
      "bar => 456\n",
      "qux => 789\n"
     ]
    }
   ],
   "source": [
    "people = {\n",
    "    \"foo\" : \"123\",\n",
    "    \"bar\" : \"456\",\n",
    "    \"qux\" : \"789\",\n",
    "}\n",
    " \n",
    "for name, uid in people.items():\n",
    "    print(\"{} => {}\".format(name, uid))"
   ]
  },
  {
   "cell_type": "code",
   "execution_count": 11,
   "id": "b72edf75",
   "metadata": {},
   "outputs": [
    {
     "name": "stdout",
     "output_type": "stream",
     "text": [
      "fname -> Foo\n",
      "lname -> Bar\n"
     ]
    }
   ],
   "source": [
    "user = {\n",
    "    'fname': 'Foo',\n",
    "    'lname': 'Bar',\n",
    "}\n",
    "\n",
    "for t in user.items():      #  returns tuples\n",
    "    print(\"{} -> {}\".format(t[0], t[1]))\n",
    "    #print(\"{} -> {}\".format(*t))\n",
    "\n",
    "# lname -> Bar\n",
    "# fname -> Foo"
   ]
  },
  {
   "cell_type": "code",
   "execution_count": 13,
   "id": "5667161d",
   "metadata": {},
   "outputs": [
    {
     "name": "stdout",
     "output_type": "stream",
     "text": [
      "{'fname': 'Foo', 'lname': 'Bar', 'class': 'DS', 'semester': '2nd'}\n",
      "dict_keys(['fname', 'lname', 'class', 'semester'])\n",
      "dict_values(['Foo', 'Bar', 'DS', '2nd'])\n"
     ]
    }
   ],
   "source": [
    "# values\n",
    "# Values are returned in the same random order as the keys are.\n",
    "user = {\n",
    "   'fname': 'Foo',\n",
    "   'lname': 'Bar',\n",
    "    'class': 'DS',\n",
    "    'semester': '2nd'\n",
    "}\n",
    "\n",
    "print(user)   # {'lname': 'Bar', 'fname': 'Foo'}\n",
    "\n",
    "print(user.keys())    # ['lname', 'fname']\n",
    "\n",
    "print(user.values())  # ['Bar', 'Foo']"
   ]
  },
  {
   "cell_type": "markdown",
   "id": "b374229b",
   "metadata": {},
   "source": [
    "#### Not existing key\n",
    "- If we try to fetch the value of a key that does not exist, we get an exception."
   ]
  },
  {
   "cell_type": "code",
   "execution_count": 18,
   "id": "94958e0b",
   "metadata": {},
   "outputs": [
    {
     "name": "stdout",
     "output_type": "stream",
     "text": [
      "Foo\n"
     ]
    },
    {
     "ename": "KeyError",
     "evalue": "'email'",
     "output_type": "error",
     "traceback": [
      "\u001b[1;31m---------------------------------------------------------------------------\u001b[0m",
      "\u001b[1;31mKeyError\u001b[0m                                  Traceback (most recent call last)",
      "Input \u001b[1;32mIn [18]\u001b[0m, in \u001b[0;36m<cell line: 10>\u001b[1;34m()\u001b[0m\n\u001b[0;32m      7\u001b[0m     \u001b[38;5;28mprint\u001b[39m(user[\u001b[38;5;124m'\u001b[39m\u001b[38;5;124mfname\u001b[39m\u001b[38;5;124m'\u001b[39m])\n\u001b[0;32m      8\u001b[0m     \u001b[38;5;28mprint\u001b[39m(user[\u001b[38;5;124m'\u001b[39m\u001b[38;5;124memail\u001b[39m\u001b[38;5;124m'\u001b[39m])\n\u001b[1;32m---> 10\u001b[0m \u001b[43mmain\u001b[49m\u001b[43m(\u001b[49m\u001b[43m)\u001b[49m\n",
      "Input \u001b[1;32mIn [18]\u001b[0m, in \u001b[0;36mmain\u001b[1;34m()\u001b[0m\n\u001b[0;32m      2\u001b[0m user \u001b[38;5;241m=\u001b[39m {\n\u001b[0;32m      3\u001b[0m     \u001b[38;5;124m'\u001b[39m\u001b[38;5;124mfname\u001b[39m\u001b[38;5;124m'\u001b[39m: \u001b[38;5;124m'\u001b[39m\u001b[38;5;124mFoo\u001b[39m\u001b[38;5;124m'\u001b[39m,\n\u001b[0;32m      4\u001b[0m     \u001b[38;5;124m'\u001b[39m\u001b[38;5;124mlname\u001b[39m\u001b[38;5;124m'\u001b[39m: \u001b[38;5;124m'\u001b[39m\u001b[38;5;124mBar\u001b[39m\u001b[38;5;124m'\u001b[39m,\n\u001b[0;32m      5\u001b[0m }\n\u001b[0;32m      7\u001b[0m \u001b[38;5;28mprint\u001b[39m(user[\u001b[38;5;124m'\u001b[39m\u001b[38;5;124mfname\u001b[39m\u001b[38;5;124m'\u001b[39m])\n\u001b[1;32m----> 8\u001b[0m \u001b[38;5;28mprint\u001b[39m(\u001b[43muser\u001b[49m\u001b[43m[\u001b[49m\u001b[38;5;124;43m'\u001b[39;49m\u001b[38;5;124;43memail\u001b[39;49m\u001b[38;5;124;43m'\u001b[39;49m\u001b[43m]\u001b[49m)\n",
      "\u001b[1;31mKeyError\u001b[0m: 'email'"
     ]
    }
   ],
   "source": [
    "def main():\n",
    "    user = {\n",
    "        'fname': 'Foo',\n",
    "        'lname': 'Bar',\n",
    "    }\n",
    "\n",
    "    print(user['fname'])\n",
    "    print(user['email'])\n",
    " \n",
    "main()"
   ]
  },
  {
   "cell_type": "markdown",
   "id": "c0bf1288",
   "metadata": {},
   "source": [
    "#### Get key\n",
    "If we use the get method, we get None if the key does not exist."
   ]
  },
  {
   "cell_type": "code",
   "execution_count": 16,
   "id": "216dc6bd",
   "metadata": {},
   "outputs": [
    {
     "name": "stdout",
     "output_type": "stream",
     "text": [
      "Foo\n",
      "None\n",
      "None\n",
      "42\n"
     ]
    }
   ],
   "source": [
    "user = {\n",
    "    'fname': 'Foo',\n",
    "    'lname': 'Bar',\n",
    "    'address': None,\n",
    "}\n",
    "\n",
    "print(user.get('fname'))\n",
    "print(user.get('address'))\n",
    "print(user.get('email'))\n",
    " \n",
    "print(user.get('answer', 42))"
   ]
  },
  {
   "cell_type": "markdown",
   "id": "ba9f11c9",
   "metadata": {},
   "source": [
    "None will be interpreted as False, if checked as a boolean.\n",
    "\n",
    "##### Does the key exist?"
   ]
  },
  {
   "cell_type": "code",
   "execution_count": 19,
   "id": "7e3cc90e",
   "metadata": {},
   "outputs": [
    {
     "name": "stdout",
     "output_type": "stream",
     "text": [
      "True\n",
      "False\n",
      "False\n",
      "fname => Foo\n",
      "lname => Bar\n"
     ]
    }
   ],
   "source": [
    "user = {\n",
    "    'fname': 'Foo',\n",
    "    'lname': 'Bar',\n",
    "}\n",
    "\n",
    "print('fname' in user)  # True\n",
    "print('email' in user)  # False\n",
    "print('Foo' in user)    # False\n",
    "\n",
    "for k in ['fname', 'email', 'lname']:\n",
    "    if k in user:\n",
    "        print(\"{} => {}\".format(k, user[k]))\n",
    "\n",
    "# fname => Foo\n",
    "# lname => Bar"
   ]
  },
  {
   "cell_type": "markdown",
   "id": "bb5d3302",
   "metadata": {},
   "source": [
    "##### Does the value exist?"
   ]
  },
  {
   "cell_type": "code",
   "execution_count": 20,
   "id": "aa024572",
   "metadata": {},
   "outputs": [
    {
     "name": "stdout",
     "output_type": "stream",
     "text": [
      "False\n",
      "True\n"
     ]
    }
   ],
   "source": [
    "user = {\n",
    "  'fname': 'Foo',\n",
    "  'lname': 'Bar',\n",
    "}\n",
    "\n",
    "print('fname' in user.values())  # False\n",
    "print('Foo' in user.values())    # True"
   ]
  },
  {
   "cell_type": "markdown",
   "id": "a2608dc4",
   "metadata": {},
   "source": [
    "#### Duplicates Not Allowed\n",
    "- Dictionaries cannot have two items with the same key:\n",
    "- Duplicate values will overwrite existing values:"
   ]
  },
  {
   "cell_type": "code",
   "execution_count": 24,
   "id": "534a6819",
   "metadata": {},
   "outputs": [
    {
     "name": "stdout",
     "output_type": "stream",
     "text": [
      "{'brand': 'Ford', 'model': 'Mustang', 'year': 2020}\n"
     ]
    }
   ],
   "source": [
    "thisdict = {\n",
    "  \"brand\": \"Ford\",\n",
    "  \"model\": \"Mustang\",\n",
    "  \"year\": 1964,\n",
    "  \"year\": 2020\n",
    "}\n",
    "print(thisdict)"
   ]
  },
  {
   "cell_type": "markdown",
   "id": "1f4b7659",
   "metadata": {},
   "source": [
    "#### Dictionary Length\n",
    "- To determine how many items a dictionary has, use the len() function:"
   ]
  },
  {
   "cell_type": "code",
   "execution_count": 25,
   "id": "d8cd4379",
   "metadata": {},
   "outputs": [
    {
     "name": "stdout",
     "output_type": "stream",
     "text": [
      "3\n"
     ]
    }
   ],
   "source": [
    "#Print the number of items in the dictionary:\n",
    "\n",
    "print(len(thisdict))"
   ]
  },
  {
   "cell_type": "markdown",
   "id": "ce0a1e75",
   "metadata": {},
   "source": [
    "#### Update Dictionary\n",
    "- The update() method will update the dictionary with the items from the given argument.\n",
    "- The argument must be a dictionary, or an iterable object with key:value pairs."
   ]
  },
  {
   "cell_type": "code",
   "execution_count": 46,
   "id": "422a7ceb",
   "metadata": {},
   "outputs": [
    {
     "name": "stdout",
     "output_type": "stream",
     "text": [
      "{'brand': 'Ford', 'model': 'Mustang', 'year': 2020}\n"
     ]
    }
   ],
   "source": [
    "thisdict = {\n",
    "  \"brand\": \"Ford\",\n",
    "  \"model\": \"Mustang\",\n",
    "  \"year\": 1964\n",
    "}\n",
    "thisdict.update({\"year\": 2020})\n",
    "print(thisdict)"
   ]
  },
  {
   "cell_type": "markdown",
   "id": "ee6dde23",
   "metadata": {},
   "source": [
    "##### Delete key\n",
    "##### Removing Items\n",
    "- There are several methods to remove items from a dictionary:\n",
    "- The pop() method removes the item with the specified key name:"
   ]
  },
  {
   "cell_type": "code",
   "execution_count": 21,
   "id": "15aeb5bf",
   "metadata": {},
   "outputs": [
    {
     "name": "stdout",
     "output_type": "stream",
     "text": [
      "{'fname': 'Foo', 'lname': 'Bar', 'email': 'foo@bar.com'}\n",
      "Foo\n",
      "{'lname': 'Bar', 'email': 'foo@bar.com'}\n",
      "Bar\n",
      "{'email': 'foo@bar.com'}\n"
     ]
    }
   ],
   "source": [
    "user = {\n",
    "    'fname': 'Foo',\n",
    "    'lname': 'Bar',\n",
    "    'email': 'foo@bar.com',\n",
    "}\n",
    "\n",
    "print(user) # {'lname': 'Bar', 'email': 'foo@bar.com', 'fname': 'Foo'}\n",
    "\n",
    "fname = user['fname']\n",
    "del user['fname']\n",
    "print(fname) # Foo\n",
    "print(user) # {'lname': 'Bar', 'email': 'foo@bar.com'}\n",
    "\n",
    "lname_was = user.pop('lname')\n",
    "print(lname_was) # Bar\n",
    "print(user) # {'email': 'foo@bar.com'}"
   ]
  },
  {
   "cell_type": "code",
   "execution_count": 47,
   "id": "02177682",
   "metadata": {},
   "outputs": [
    {
     "name": "stdout",
     "output_type": "stream",
     "text": [
      "{'brand': 'Ford', 'year': 1964}\n"
     ]
    }
   ],
   "source": [
    "thisdict = {\n",
    "  \"brand\": \"Ford\",\n",
    "  \"model\": \"Mustang\",\n",
    "  \"year\": 1964\n",
    "}\n",
    "thisdict.pop(\"model\")\n",
    "print(thisdict)"
   ]
  },
  {
   "cell_type": "markdown",
   "id": "48a451f3",
   "metadata": {},
   "source": [
    "##### The popitem() method removes the last inserted item (in versions before 3.7, a random item is removed instead):"
   ]
  },
  {
   "cell_type": "code",
   "execution_count": 48,
   "id": "f10273e4",
   "metadata": {},
   "outputs": [
    {
     "name": "stdout",
     "output_type": "stream",
     "text": [
      "{'brand': 'Ford', 'model': 'Mustang'}\n"
     ]
    }
   ],
   "source": [
    "thisdict = {\n",
    "  \"brand\": \"Ford\",\n",
    "  \"model\": \"Mustang\",\n",
    "  \"year\": 1964\n",
    "}\n",
    "thisdict.popitem()\n",
    "print(thisdict)"
   ]
  },
  {
   "cell_type": "markdown",
   "id": "025b31aa",
   "metadata": {},
   "source": [
    "##### The del keyword removes the item with the specified key name:"
   ]
  },
  {
   "cell_type": "code",
   "execution_count": 49,
   "id": "e7da796b",
   "metadata": {},
   "outputs": [
    {
     "name": "stdout",
     "output_type": "stream",
     "text": [
      "{'brand': 'Ford', 'year': 1964}\n"
     ]
    }
   ],
   "source": [
    "thisdict = {\n",
    "  \"brand\": \"Ford\",\n",
    "  \"model\": \"Mustang\",\n",
    "  \"year\": 1964\n",
    "}\n",
    "del thisdict[\"model\"]\n",
    "print(thisdict)"
   ]
  },
  {
   "cell_type": "markdown",
   "id": "166e4898",
   "metadata": {},
   "source": [
    "#### The del keyword can also delete the dictionary completely:"
   ]
  },
  {
   "cell_type": "code",
   "execution_count": 52,
   "id": "542950db",
   "metadata": {
    "scrolled": true
   },
   "outputs": [
    {
     "ename": "NameError",
     "evalue": "name 'thisdict' is not defined",
     "output_type": "error",
     "traceback": [
      "\u001b[1;31m---------------------------------------------------------------------------\u001b[0m",
      "\u001b[1;31mNameError\u001b[0m                                 Traceback (most recent call last)",
      "Input \u001b[1;32mIn [52]\u001b[0m, in \u001b[0;36m<cell line: 7>\u001b[1;34m()\u001b[0m\n\u001b[0;32m      1\u001b[0m thisdict \u001b[38;5;241m=\u001b[39m {\n\u001b[0;32m      2\u001b[0m   \u001b[38;5;124m\"\u001b[39m\u001b[38;5;124mbrand\u001b[39m\u001b[38;5;124m\"\u001b[39m: \u001b[38;5;124m\"\u001b[39m\u001b[38;5;124mFord\u001b[39m\u001b[38;5;124m\"\u001b[39m,\n\u001b[0;32m      3\u001b[0m   \u001b[38;5;124m\"\u001b[39m\u001b[38;5;124mmodel\u001b[39m\u001b[38;5;124m\"\u001b[39m: \u001b[38;5;124m\"\u001b[39m\u001b[38;5;124mMustang\u001b[39m\u001b[38;5;124m\"\u001b[39m,\n\u001b[0;32m      4\u001b[0m   \u001b[38;5;124m\"\u001b[39m\u001b[38;5;124myear\u001b[39m\u001b[38;5;124m\"\u001b[39m: \u001b[38;5;241m1964\u001b[39m\n\u001b[0;32m      5\u001b[0m }\n\u001b[0;32m      6\u001b[0m \u001b[38;5;28;01mdel\u001b[39;00m thisdict\n\u001b[1;32m----> 7\u001b[0m \u001b[38;5;28mprint\u001b[39m(\u001b[43mthisdict\u001b[49m)\n",
      "\u001b[1;31mNameError\u001b[0m: name 'thisdict' is not defined"
     ]
    }
   ],
   "source": [
    "thisdict = {\n",
    "  \"brand\": \"Ford\",\n",
    "  \"model\": \"Mustang\",\n",
    "  \"year\": 1964\n",
    "}\n",
    "del thisdict\n",
    "print(thisdict) #this will cause an error because \"thisdict\" no longer exists."
   ]
  },
  {
   "cell_type": "markdown",
   "id": "c2e5e5bb",
   "metadata": {},
   "source": [
    "#### The clear() method empties the dictionary:"
   ]
  },
  {
   "cell_type": "code",
   "execution_count": 53,
   "id": "0b8ca561",
   "metadata": {},
   "outputs": [
    {
     "name": "stdout",
     "output_type": "stream",
     "text": [
      "{}\n"
     ]
    }
   ],
   "source": [
    "thisdict = {\n",
    "  \"brand\": \"Ford\",\n",
    "  \"model\": \"Mustang\",\n",
    "  \"year\": 1964\n",
    "}\n",
    "thisdict.clear()\n",
    "print(thisdict)"
   ]
  },
  {
   "cell_type": "markdown",
   "id": "7390e30d",
   "metadata": {},
   "source": [
    "#### List of dictionaries"
   ]
  },
  {
   "cell_type": "markdown",
   "id": "e940a33a",
   "metadata": {},
   "source": [
    "#### Copy a Dictionary\n",
    "- You cannot copy a dictionary simply by typing dict2 = dict1, because: dict2 will only be a reference to dict1, and changes made in dict1 will automatically also be made in dict2.\n",
    "\n",
    "- There are ways to make a copy, one way is to use the built-in Dictionary method copy()."
   ]
  },
  {
   "cell_type": "code",
   "execution_count": 67,
   "id": "d81c6a9d",
   "metadata": {},
   "outputs": [
    {
     "name": "stdout",
     "output_type": "stream",
     "text": [
      "{'brand': 'Ford', 'model': 'Mustang', 'year': 1964}\n"
     ]
    }
   ],
   "source": [
    "#Make a copy of a dictionary with the copy() method:\n",
    "\n",
    "thisdict = {\n",
    "  \"brand\": \"Ford\",\n",
    "  \"model\": \"Mustang\",\n",
    "  \"year\": 1964\n",
    "}\n",
    "mydict = thisdict.copy()\n",
    "print(mydict)"
   ]
  },
  {
   "cell_type": "code",
   "execution_count": 68,
   "id": "11847572",
   "metadata": {},
   "outputs": [
    {
     "name": "stdout",
     "output_type": "stream",
     "text": [
      "{'brand': 'Ford', 'model': 'Mustang', 'year': 1964}\n"
     ]
    }
   ],
   "source": [
    "#Make a copy of a dictionary with the dict() function:\n",
    "\n",
    "thisdict = {\n",
    "  \"brand\": \"Ford\",\n",
    "  \"model\": \"Mustang\",\n",
    "  \"year\": 1964\n",
    "}\n",
    "mydict = dict(thisdict)\n",
    "print(mydict)"
   ]
  },
  {
   "cell_type": "markdown",
   "id": "000af104",
   "metadata": {},
   "source": [
    "#### Nested Dictionaries\n",
    "- A dictionary can contain dictionaries, this is called nested dictionaries."
   ]
  },
  {
   "cell_type": "code",
   "execution_count": 70,
   "id": "390da864",
   "metadata": {},
   "outputs": [],
   "source": [
    "# Create a dictionary that contain three dictionaries:\n",
    "\n",
    "myfamily = {\n",
    "  \"child1\" : {\n",
    "    \"name\" : \"Emil\",\n",
    "    \"year\" : 2004\n",
    "  },\n",
    "  \"child2\" : {\n",
    "    \"name\" : \"Tobias\",\n",
    "    \"year\" : 2007\n",
    "  },\n",
    "  \"child3\" : {\n",
    "    \"name\" : \"Linus\",\n",
    "    \"year\" : 2011\n",
    "  }\n",
    "}"
   ]
  },
  {
   "cell_type": "code",
   "execution_count": 71,
   "id": "aee89e39",
   "metadata": {},
   "outputs": [],
   "source": [
    "# Create three dictionaries, then create one dictionary that will contain the other three dictionaries:\n",
    "child1 = {\n",
    "  \"name\" : \"Emil\",\n",
    "  \"year\" : 2004\n",
    "}\n",
    "child2 = {\n",
    "  \"name\" : \"Tobias\",\n",
    "  \"year\" : 2007\n",
    "}\n",
    "child3 = {\n",
    "  \"name\" : \"Linus\",\n",
    "  \"year\" : 2011\n",
    "}\n",
    "\n",
    "myfamily = {\n",
    "  \"child1\" : child1,\n",
    "  \"child2\" : child2,\n",
    "  \"child3\" : child3\n",
    "}  "
   ]
  },
  {
   "cell_type": "code",
   "execution_count": null,
   "id": "672d11af",
   "metadata": {},
   "outputs": [],
   "source": []
  },
  {
   "cell_type": "code",
   "execution_count": null,
   "id": "1abdd628",
   "metadata": {},
   "outputs": [],
   "source": []
  },
  {
   "cell_type": "code",
   "execution_count": 73,
   "id": "5ad9207a",
   "metadata": {},
   "outputs": [
    {
     "name": "stdout",
     "output_type": "stream",
     "text": [
      "[{'name': 'Foo Bar', 'email': 'foo@example.com'}, {'name': 'Qux Bar', 'email': 'qux@example.com', 'address': 'Borg, Country', 'children': ['Alpha', 'Beta']}]\n",
      "Foo Bar\n",
      "Alpha\n",
      "['Foo Bar', 'Qux Bar']\n",
      "<class 'list'>\n"
     ]
    }
   ],
   "source": [
    "# Dictionay as part of list\n",
    "people = [\n",
    "    {\n",
    "        'name'  : 'Foo Bar',\n",
    "        'email' : 'foo@example.com'\n",
    "    },\n",
    "    {\n",
    "        'name'     : 'Qux Bar',\n",
    "        'email'    : 'qux@example.com',\n",
    "        'address'  : 'Borg, Country',\n",
    "        'children' : [\n",
    "            'Alpha',\n",
    "            'Beta'\n",
    "        ]\n",
    "    }\n",
    "]\n",
    "\n",
    "print(people)\n",
    "print(people[0]['name'])\n",
    "print(people[1]['children'][0])\n",
    "\n",
    "print(list(map(lambda p: p['name'], people)))\n",
    "print(type(people))"
   ]
  },
  {
   "cell_type": "markdown",
   "id": "7c2e446d",
   "metadata": {},
   "source": [
    "#### Shared dictionary"
   ]
  },
  {
   "cell_type": "code",
   "execution_count": 23,
   "id": "e2dfee3d",
   "metadata": {},
   "outputs": [
    {
     "name": "stdout",
     "output_type": "stream",
     "text": [
      "{'Foo': {'name': 'Foo', 'id': '1'}, 'Bar': {'name': 'Bar', 'id': '2'}, 'Moo': {'name': 'Moo', 'id': '3'}}\n",
      "{'1': {'name': 'Foo', 'id': '1'}, '2': {'name': 'Bar', 'id': '2'}, '3': {'name': 'Moo', 'id': '3'}}\n",
      "{'name': 'Foo', 'id': '1'}\n",
      "{'name': 'Foo', 'id': '1', 'email': 'foo@weizmann.ac.il'}\n",
      "{'name': 'Foo', 'id': '1', 'email': 'foo@weizmann.ac.il'}\n"
     ]
    }
   ],
   "source": [
    "people = [\n",
    "    {\n",
    "       \"name\" : \"Foo\",\n",
    "       \"id\"   : \"1\",\n",
    "    },\n",
    "    {\n",
    "       \"name\" : \"Bar\",\n",
    "       \"id\"   : \"2\",\n",
    "    },\n",
    "    {\n",
    "       \"name\" : \"Moo\",\n",
    "       \"id\"   : \"3\",\n",
    "    },\n",
    "]\n",
    "\n",
    "by_name = {}\n",
    "by_id = {}\n",
    "for p in people:\n",
    "    by_name[ p['name' ] ] = p\n",
    "    by_id[ p['id' ] ] = p\n",
    "print(by_name)\n",
    "print(by_id)\n",
    "\n",
    "print(by_name[\"Foo\"])\n",
    "by_name[\"Foo\"]['email'] = 'foo@weizmann.ac.il'\n",
    "print(by_name[\"Foo\"])\n",
    "\n",
    "print(by_id[\"1\"])"
   ]
  },
  {
   "cell_type": "markdown",
   "id": "ee1935bf",
   "metadata": {},
   "source": [
    "#### Dictionary Methods\n",
    " Python has a set of built-in methods that you can use on dictionaries.\n",
    "\n",
    "- clear()\tRemoves all the elements from the dictionary\n",
    "- copy()\tReturns a copy of the dictionary\n",
    "- fromkeys()\tReturns a dictionary with the specified keys and value\n",
    "- get()\tReturns the value of the specified key\n",
    "- items()\tReturns a list containing a tuple for each key value pair\n",
    "- keys()\tReturns a list containing the dictionary's keys\n",
    "- pop()\tRemoves the element with the specified key\n",
    "- popitem()\tRemoves the last inserted key-value pair\n",
    "- setdefault()\tReturns the value of the specified key. If the key does not exist: insert the key, with the specified value\n",
    "- update()\tUpdates the dictionary with the specified key-value pairs\n",
    "- values()\tReturns a list of all the values in the dictionary"
   ]
  },
  {
   "cell_type": "markdown",
   "id": "e94245e1",
   "metadata": {},
   "source": [
    "#### Python Collections (Arrays)\n",
    "There are four collection data types in the Python programming language:\n",
    "\n",
    "- List is a collection which is ordered and changeable. Allows duplicate members.\n",
    "- Tuple is a collection which is ordered and unchangeable. Allows duplicate members.\n",
    "- Set is a collection which is unordered, unchangeable*, and unindexed. No duplicate members.\n",
    "- Dictionary is a collection which is ordered** and changeable. No duplicate members."
   ]
  },
  {
   "cell_type": "code",
   "execution_count": null,
   "id": "53c65b00",
   "metadata": {},
   "outputs": [],
   "source": []
  }
 ],
 "metadata": {
  "kernelspec": {
   "display_name": "Python 3 (ipykernel)",
   "language": "python",
   "name": "python3"
  },
  "language_info": {
   "codemirror_mode": {
    "name": "ipython",
    "version": 3
   },
   "file_extension": ".py",
   "mimetype": "text/x-python",
   "name": "python",
   "nbconvert_exporter": "python",
   "pygments_lexer": "ipython3",
   "version": "3.9.13"
  }
 },
 "nbformat": 4,
 "nbformat_minor": 5
}
