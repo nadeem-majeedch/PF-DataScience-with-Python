{
 "cells": [
  {
   "cell_type": "markdown",
   "id": "1b172e21",
   "metadata": {},
   "source": [
    "# LISTS"
   ]
  },
  {
   "cell_type": "markdown",
   "id": "fc2ded8d",
   "metadata": {},
   "source": [
    "Unlike strings, lists are mutable"
   ]
  },
  {
   "cell_type": "code",
   "execution_count": 6,
   "id": "83ac4eec",
   "metadata": {},
   "outputs": [
    {
     "name": "stdout",
     "output_type": "stream",
     "text": [
      "[17, 5]\n"
     ]
    }
   ],
   "source": [
    "numbers = [17, 123]\n",
    "numbers[1] = 5\n",
    "print numbers"
   ]
  },
  {
   "cell_type": "markdown",
   "id": "2f155917",
   "metadata": {},
   "source": [
    "The most common way to traverse the elements of a list is with a for loop"
   ]
  },
  {
   "cell_type": "code",
   "execution_count": 3,
   "id": "d570f9a9",
   "metadata": {},
   "outputs": [
    {
     "name": "stdout",
     "output_type": "stream",
     "text": [
      "17\n",
      "5\n"
     ]
    }
   ],
   "source": [
    "for number in numbers:\n",
    "    print number"
   ]
  },
  {
   "cell_type": "markdown",
   "id": "378b7859",
   "metadata": {},
   "source": [
    "This works well if you only need to read the elements of the list. But if you want to write or update the elements, you need the indices. A common way to do that is to combine the functions **range** and **len**"
   ]
  },
  {
   "cell_type": "code",
   "execution_count": 7,
   "id": "801bc0e9",
   "metadata": {},
   "outputs": [
    {
     "name": "stdout",
     "output_type": "stream",
     "text": [
      "[34, 10]\n"
     ]
    }
   ],
   "source": [
    "for i in range(len(numbers)):\n",
    "    numbers[i] = numbers[i] * 2\n",
    "    \n",
    "print numbers"
   ]
  },
  {
   "cell_type": "markdown",
   "id": "6caa6970",
   "metadata": {},
   "source": [
    "This loop traverses the list and updates each element. len returns the number of elements in the list. range returns a list of indices from 0 to n-1, where n is the length of the list. Each time through the loop i gets the index of the next element."
   ]
  },
  {
   "cell_type": "markdown",
   "id": "eb36e442",
   "metadata": {},
   "source": [
    "Since lists are mutable, it is often useful to make a copy before performing operations"
   ]
  },
  {
   "cell_type": "code",
   "execution_count": 8,
   "id": "bbcd69fe",
   "metadata": {},
   "outputs": [
    {
     "name": "stdout",
     "output_type": "stream",
     "text": [
      "['a', 'x', 'y', 'd', 'e', 'f']\n"
     ]
    }
   ],
   "source": [
    "t = ['a', 'b', 'c', 'd', 'e', 'f']\n",
    "t[1:3] = ['x', 'y']\n",
    "print t"
   ]
  },
  {
   "cell_type": "markdown",
   "id": "80f55e07",
   "metadata": {},
   "source": [
    "## List methods"
   ]
  },
  {
   "cell_type": "markdown",
   "id": "04d05267",
   "metadata": {},
   "source": [
    "**append** adds a new element to the end of a list"
   ]
  },
  {
   "cell_type": "code",
   "execution_count": 10,
   "id": "72b248bb",
   "metadata": {},
   "outputs": [],
   "source": [
    "t = ['a', 'b', 'c']"
   ]
  },
  {
   "cell_type": "markdown",
   "id": "bbae6d97",
   "metadata": {},
   "source": [
    "**extend** takes a list as an argument and appends all of the elements"
   ]
  },
  {
   "cell_type": "code",
   "execution_count": 12,
   "id": "fefad941",
   "metadata": {},
   "outputs": [
    {
     "name": "stdout",
     "output_type": "stream",
     "text": [
      "['a', 'b', 'c', 'd', 'e']\n"
     ]
    }
   ],
   "source": [
    "t1 = ['a', 'b', 'c']\n",
    "t2 = ['d', 'e']\n",
    "t1.extend(t2)\n",
    "print t1"
   ]
  },
  {
   "cell_type": "markdown",
   "id": "104ea0d8",
   "metadata": {},
   "source": [
    "**sort** arranges the elements of the list from low to high"
   ]
  },
  {
   "cell_type": "code",
   "execution_count": 22,
   "id": "4fe5707c",
   "metadata": {},
   "outputs": [
    {
     "name": "stdout",
     "output_type": "stream",
     "text": [
      "['a', 'b', 'c', 'd', 'e']\n"
     ]
    }
   ],
   "source": [
    "t = ['d', 'c', 'e', 'b', 'a']\n",
    "t.sort()\n",
    "print t"
   ]
  },
  {
   "cell_type": "markdown",
   "id": "935cbf3d",
   "metadata": {},
   "source": [
    "List methods are all void; they modify the list and return None. If you write **t = t.sort()**, you will be disappointed with the result."
   ]
  },
  {
   "cell_type": "code",
   "execution_count": 23,
   "id": "4af2e4cb",
   "metadata": {},
   "outputs": [
    {
     "name": "stdout",
     "output_type": "stream",
     "text": [
      "None\n"
     ]
    }
   ],
   "source": [
    "t = t.sort()\n",
    "print t"
   ]
  },
  {
   "cell_type": "markdown",
   "id": "4ac63e88",
   "metadata": {},
   "source": [
    "## Manipulating lists' content"
   ]
  },
  {
   "cell_type": "markdown",
   "id": "40c47530",
   "metadata": {},
   "source": [
    "To add up all the numbers in a list, you can use a loop like this.\n",
    "total is initialized to 0. Each time through the loop, x gets one element from the list. The **+=** operator provides a short way to update a variable "
   ]
  },
  {
   "cell_type": "code",
   "execution_count": 27,
   "id": "fd2a2609",
   "metadata": {},
   "outputs": [
    {
     "name": "stdout",
     "output_type": "stream",
     "text": [
      "6\n",
      "6\n"
     ]
    }
   ],
   "source": [
    "def add_all(t):\n",
    "    total = 0\n",
    "    for x in t:\n",
    "        total += x #the same as total = total + x\n",
    "    return total\n",
    "\n",
    "print add_all([1, 2, 3])\n",
    "print sum([1, 2, 3])"
   ]
  },
  {
   "cell_type": "markdown",
   "id": "6a514abc",
   "metadata": {},
   "source": [
    "Sometimes you want to **traverse one list while building another**. The following function takes a list of strings and returns a new list that contains capitalized strings.\n",
    "res is initialized with an empty list; each time through the loop, we append the next element. So res is another kind of accumulator."
   ]
  },
  {
   "cell_type": "code",
   "execution_count": 30,
   "id": "f8fca194",
   "metadata": {},
   "outputs": [
    {
     "name": "stdout",
     "output_type": "stream",
     "text": [
      "['P', 'O', 'R', 'T', 'O', 'C', 'A', 'L', 'A']\n"
     ]
    }
   ],
   "source": [
    "def capitalize_all(t):\n",
    "    res = []\n",
    "    for s in t:\n",
    "        res.append(s.capitalize())\n",
    "    return res\n",
    "\n",
    "print capitalize_all('portocala')"
   ]
  },
  {
   "cell_type": "markdown",
   "id": "6fd4610e",
   "metadata": {},
   "source": [
    "Another common operation is to select some of the elements from a list and return a sublist. For example, this returns a list that contains only the uppercase strings:"
   ]
  },
  {
   "cell_type": "code",
   "execution_count": 31,
   "id": "5ed4ad8c",
   "metadata": {},
   "outputs": [
    {
     "name": "stdout",
     "output_type": "stream",
     "text": [
      "['T', 'I', 'A']\n"
     ]
    }
   ],
   "source": [
    "def only_upper(t):\n",
    "    res = []\n",
    "    for s in t:\n",
    "        if s.isupper():\n",
    "            res.append(s)\n",
    "    return res\n",
    "\n",
    "print only_upper('ThisIsAstring')"
   ]
  },
  {
   "cell_type": "markdown",
   "id": "74ef947a",
   "metadata": {},
   "source": [
    "## Deleting elements"
   ]
  },
  {
   "cell_type": "markdown",
   "id": "8d7ee078",
   "metadata": {},
   "source": [
    "If you know the index of the element you want, you can use **pop**. This modifies the list and returns the element that was removed"
   ]
  },
  {
   "cell_type": "code",
   "execution_count": 32,
   "id": "2ce20e3f",
   "metadata": {},
   "outputs": [
    {
     "name": "stdout",
     "output_type": "stream",
     "text": [
      "['a', 'c']\n",
      "b\n"
     ]
    }
   ],
   "source": [
    "t = ['a', 'b', 'c']\n",
    "x = t.pop(1)\n",
    "print  t\n",
    "print x"
   ]
  },
  {
   "cell_type": "markdown",
   "id": "d600e1bd",
   "metadata": {},
   "source": [
    "If you don’t need the removed value, you can use the **del** operator:"
   ]
  },
  {
   "cell_type": "code",
   "execution_count": 33,
   "id": "eae0de7b",
   "metadata": {},
   "outputs": [
    {
     "name": "stdout",
     "output_type": "stream",
     "text": [
      "['a', 'c']\n"
     ]
    }
   ],
   "source": [
    "t = ['a', 'b', 'c']\n",
    "del t[1]\n",
    "print t"
   ]
  },
  {
   "cell_type": "markdown",
   "id": "b9286276",
   "metadata": {},
   "source": [
    "If you know the element you want to remove (but not the index), you can use **remove**:"
   ]
  },
  {
   "cell_type": "code",
   "execution_count": 34,
   "id": "4f216e5f",
   "metadata": {},
   "outputs": [
    {
     "name": "stdout",
     "output_type": "stream",
     "text": [
      "['a', 'c']\n"
     ]
    }
   ],
   "source": [
    "t = ['a', 'b', 'c']\n",
    "t.remove('b')\n",
    "print t"
   ]
  },
  {
   "cell_type": "markdown",
   "id": "0f9e67a6",
   "metadata": {},
   "source": [
    "To remove more than one element, you can use del with a slice index:"
   ]
  },
  {
   "cell_type": "code",
   "execution_count": 35,
   "id": "d1d64703",
   "metadata": {},
   "outputs": [
    {
     "name": "stdout",
     "output_type": "stream",
     "text": [
      "['a', 'f']\n"
     ]
    }
   ],
   "source": [
    "t = ['a', 'b', 'c', 'd', 'e', 'f']\n",
    "del t[1:5]\n",
    "print t"
   ]
  },
  {
   "cell_type": "markdown",
   "id": "d3b3247d",
   "metadata": {},
   "source": [
    "To convert from a string to a list of characters, you can use **list**:"
   ]
  },
  {
   "cell_type": "code",
   "execution_count": 36,
   "id": "6b67b51e",
   "metadata": {},
   "outputs": [
    {
     "name": "stdout",
     "output_type": "stream",
     "text": [
      "['s', 'p', 'a', 'm']\n"
     ]
    }
   ],
   "source": [
    "s = 'spam'\n",
    "t = list(s)\n",
    "print t"
   ]
  },
  {
   "cell_type": "markdown",
   "id": "d6bd2a52",
   "metadata": {},
   "source": [
    "The list function breaks a string into individual letters. If you want to break a string into words, you can use the **split** method:"
   ]
  },
  {
   "cell_type": "code",
   "execution_count": 37,
   "id": "02247f8f",
   "metadata": {},
   "outputs": [
    {
     "name": "stdout",
     "output_type": "stream",
     "text": [
      "['pining', 'for', 'the', 'fjords']\n"
     ]
    }
   ],
   "source": [
    "s = 'pining for the fjords'\n",
    "t = s.split()\n",
    "print t"
   ]
  },
  {
   "cell_type": "markdown",
   "id": "b7a2056d",
   "metadata": {},
   "source": [
    "An optional argument called a delimiter specifies which characters to use as word boundaries."
   ]
  },
  {
   "cell_type": "code",
   "execution_count": 38,
   "id": "6ada6551",
   "metadata": {},
   "outputs": [
    {
     "data": {
      "text/plain": [
       "['spam', 'spam', 'spam']"
      ]
     },
     "execution_count": 38,
     "metadata": {},
     "output_type": "execute_result"
    }
   ],
   "source": [
    "s = 'spam-spam-spam'\n",
    "delimiter = '-'\n",
    "s.split(delimiter)"
   ]
  },
  {
   "cell_type": "markdown",
   "id": "51cecaf8",
   "metadata": {},
   "source": [
    "**join** is the inverse of split. It takes a list of strings and concatenates the elements. join is a string method, so you have to invoke it on the delimiter and pass the list as a parameter"
   ]
  },
  {
   "cell_type": "code",
   "execution_count": 39,
   "id": "6c7a45bb",
   "metadata": {},
   "outputs": [
    {
     "data": {
      "text/plain": [
       "'pining for the fjords'"
      ]
     },
     "execution_count": 39,
     "metadata": {},
     "output_type": "execute_result"
    }
   ],
   "source": [
    "t = ['pining', 'for', 'the', 'fjords']\n",
    "delimiter = ' '\n",
    "delimiter.join(t)"
   ]
  },
  {
   "cell_type": "markdown",
   "id": "7802d41c",
   "metadata": {},
   "source": [
    "## List arguments"
   ]
  },
  {
   "cell_type": "markdown",
   "id": "0605c79b",
   "metadata": {},
   "source": [
    "It is important to distinguish between operations that modify lists and operations that create new lists. For example, the **append** method modifies a list, but the **+ operator** creates a new list"
   ]
  },
  {
   "cell_type": "code",
   "execution_count": 42,
   "id": "82092c31",
   "metadata": {},
   "outputs": [
    {
     "name": "stdout",
     "output_type": "stream",
     "text": [
      "[1, 2, 3]\n",
      "None\n"
     ]
    }
   ],
   "source": [
    "t1 = [1, 2]\n",
    "t2 = t1.append(3)\n",
    "print t1\n",
    "print t2"
   ]
  },
  {
   "cell_type": "code",
   "execution_count": 43,
   "id": "5f647b7c",
   "metadata": {},
   "outputs": [
    {
     "name": "stdout",
     "output_type": "stream",
     "text": [
      "[1, 2, 3, 4]\n"
     ]
    }
   ],
   "source": [
    "t3 = t1 + [4]\n",
    "print t3"
   ]
  },
  {
   "cell_type": "markdown",
   "id": "aa2bb9c5",
   "metadata": {},
   "source": [
    "This difference is important when you write functions that are supposed to modify lists."
   ]
  },
  {
   "cell_type": "code",
   "execution_count": 49,
   "id": "93c94de9",
   "metadata": {},
   "outputs": [
    {
     "name": "stdout",
     "output_type": "stream",
     "text": [
      "None\n"
     ]
    }
   ],
   "source": [
    "t = ['pining', 'for', 'the', 'fjords']\n",
    "\n",
    "def bad_delete_head(t):\n",
    "    t = t[1:] # WRONG !\n",
    "\n",
    "print bad_delete_head(t)"
   ]
  },
  {
   "cell_type": "markdown",
   "id": "d9181de6",
   "metadata": {},
   "source": [
    "The slice operator creates a new list and the assignment makes t refer to it, but none of that has any effect on the list that was passed as an argument."
   ]
  },
  {
   "cell_type": "markdown",
   "id": "705e0d91",
   "metadata": {},
   "source": [
    "An alternative is to write a function that creates and returns a new list. For example, tail returns all but the first element of a list:"
   ]
  },
  {
   "cell_type": "code",
   "execution_count": 53,
   "id": "32eb5238",
   "metadata": {},
   "outputs": [
    {
     "name": "stdout",
     "output_type": "stream",
     "text": [
      "['for', 'the', 'fjords']\n",
      "['pining', 'for', 'the', 'fjords']\n"
     ]
    }
   ],
   "source": [
    "def tail(t):\n",
    "    return t[1:]\n",
    "\n",
    "print tail(t)\n",
    "print t"
   ]
  },
  {
   "cell_type": "markdown",
   "id": "e8485f52",
   "metadata": {},
   "source": [
    "Negative indices slice the sequence relative to the end:"
   ]
  },
  {
   "cell_type": "code",
   "execution_count": 1,
   "id": "e43e4221",
   "metadata": {},
   "outputs": [
    {
     "name": "stdout",
     "output_type": "stream",
     "text": [
      "[7, 2, 3, 7, 5]\n",
      "[5, 6, 0, 1]\n"
     ]
    }
   ],
   "source": [
    "seq = [7, 2, 3, 7, 5, 6, 0, 1]\n",
    "print seq[:5]\n",
    "print seq[-4:]"
   ]
  },
  {
   "cell_type": "markdown",
   "id": "f3f48af3",
   "metadata": {},
   "source": [
    "## Debugging"
   ]
  },
  {
   "cell_type": "markdown",
   "id": "02076e3c",
   "metadata": {},
   "source": [
    "Most list methods modify the argument and return None. This is the opposite of the string methods, which return a new string and leave the original alone.\n",
    "\n",
    "It is tempting to write list code like this:"
   ]
  },
  {
   "cell_type": "code",
   "execution_count": 59,
   "id": "d8a5c8c8",
   "metadata": {},
   "outputs": [
    {
     "name": "stdout",
     "output_type": "stream",
     "text": [
      "None\n"
     ]
    }
   ],
   "source": [
    "t = ['pining', 'for', 'the', 'fjords']\n",
    "\n",
    "t = t.sort()  # WRONG !\n",
    "print t"
   ]
  },
  {
   "cell_type": "markdown",
   "id": "8981af4f",
   "metadata": {},
   "source": [
    "Because sort returns None, the next operation we perform with t will fail"
   ]
  },
  {
   "cell_type": "code",
   "execution_count": 60,
   "id": "40bff6e6",
   "metadata": {},
   "outputs": [
    {
     "ename": "AttributeError",
     "evalue": "'NoneType' object has no attribute 'append'",
     "output_type": "error",
     "traceback": [
      "\u001b[1;31m---------------------------------------------------------------------------\u001b[0m\n\u001b[1;31mAttributeError\u001b[0m                            Traceback (most recent call last)",
      "\u001b[1;32m<ipython-input-60-180daf7406b5>\u001b[0m in \u001b[0;36m<module>\u001b[1;34m()\u001b[0m\n\u001b[1;32m----> 1\u001b[1;33m \u001b[0mt\u001b[0m\u001b[1;33m.\u001b[0m\u001b[0mappend\u001b[0m\u001b[1;33m(\u001b[0m\u001b[1;34m'test'\u001b[0m\u001b[1;33m)\u001b[0m\u001b[1;33m\u001b[0m\u001b[0m\n\u001b[0m",
      "\u001b[1;31mAttributeError\u001b[0m: 'NoneType' object has no attribute 'append'"
     ]
    }
   ],
   "source": [
    "t.append('test')"
   ]
  },
  {
   "cell_type": "markdown",
   "id": "b2cd3c76",
   "metadata": {},
   "source": [
    "If you want to use a method like sort that modifies the argument, but you need to keep the original list as well, you can make a copy."
   ]
  },
  {
   "cell_type": "code",
   "execution_count": 67,
   "id": "093a2a44",
   "metadata": {},
   "outputs": [
    {
     "name": "stdout",
     "output_type": "stream",
     "text": [
      "['fjords', 'for', 'pining', 'the']\n",
      "['pining', 'for', 'the', 'fjords']\n"
     ]
    }
   ],
   "source": [
    "t = ['pining', 'for', 'the', 'fjords']\n",
    "\n",
    "orig = t[:]\n",
    "t.sort()\n",
    "print t\n",
    "print orig"
   ]
  }
 ],
 "metadata": {
  "kernelspec": {
   "display_name": "Python 3 (ipykernel)",
   "language": "python",
   "name": "python3"
  },
  "language_info": {
   "codemirror_mode": {
    "name": "ipython",
    "version": 3
   },
   "file_extension": ".py",
   "mimetype": "text/x-python",
   "name": "python",
   "nbconvert_exporter": "python",
   "pygments_lexer": "ipython3",
   "version": "3.9.13"
  }
 },
 "nbformat": 4,
 "nbformat_minor": 1
}
