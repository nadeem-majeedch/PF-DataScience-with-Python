{
 "metadata": {
  "name": "",
  "signature": "sha256:7f37a7aa3baf2f0a71567e9073b8f60e8e7f55e75730acdb743dfc0207c206a6"
 },
 "nbformat": 3,
 "nbformat_minor": 0,
 "worksheets": [
  {
   "cells": [
    {
     "cell_type": "heading",
     "level": 1,
     "metadata": {},
     "source": [
      "Nested Conditionals"
     ]
    },
    {
     "cell_type": "code",
     "collapsed": false,
     "input": [
      "# not is evaluated first\n",
      "# and is evaluated next\n",
      "# or is evaluated last\n",
      "\n",
      "True or not False and False"
     ],
     "language": "python",
     "metadata": {},
     "outputs": [
      {
       "metadata": {},
       "output_type": "pyout",
       "prompt_number": 1,
       "text": [
        "True"
       ]
      }
     ],
     "prompt_number": 1
    },
    {
     "cell_type": "markdown",
     "metadata": {},
     "source": [
      "Two powerful simplification laws (called de **Morgan\u2019s laws**) that are often helpful when dealing with complicated Boolean expressions are:"
     ]
    },
    {
     "cell_type": "raw",
     "metadata": {},
     "source": [
      "not (x and y)  ==  (not x) or (not y)\n",
      "not (x or y)   ==  (not x) and (not y)"
     ]
    },
    {
     "cell_type": "markdown",
     "metadata": {},
     "source": [
      "For example, suppose we can slay the dragon only if our magic lightsabre sword is charged to 90% or higher, and we have 100 or more energy units in our protective shield. We find this fragment of Python code in the game:"
     ]
    },
    {
     "cell_type": "code",
     "collapsed": false,
     "input": [
      "# Method 1\n",
      "\n",
      "sword_charge = 0.91\n",
      "shield_energy = 102\n",
      "\n",
      "if not ((sword_charge >= 0.90) and (shield_energy >= 100)):\n",
      "    print(\"Your attack has no effect, the dragon fries you to a crisp!\")\n",
      "else:\n",
      "    print(\"The dragon crumples in a heap. You rescue the gorgeous princess!\")"
     ],
     "language": "python",
     "metadata": {},
     "outputs": [
      {
       "output_type": "stream",
       "stream": "stdout",
       "text": [
        "The dragon crumples in a heap. You rescue the gorgeous princess!\n"
       ]
      }
     ],
     "prompt_number": 9
    },
    {
     "cell_type": "markdown",
     "metadata": {},
     "source": [
      "Morgan\u2019s laws together with the logical opposites would let us rework the condition in a (perhaps) easier to understand way like this:"
     ]
    },
    {
     "cell_type": "code",
     "collapsed": false,
     "input": [
      "# Method 2\n",
      "\n",
      "if (sword_charge < 0.90) or (shield_energy < 100):\n",
      "    print(\"Your attack has no effect, the dragon fries you to a crisp!\")\n",
      "else:\n",
      "    print(\"The dragon crumples in a heap. You rescue the gorgeous princess!\")"
     ],
     "language": "python",
     "metadata": {},
     "outputs": [
      {
       "output_type": "stream",
       "stream": "stdout",
       "text": [
        "The dragon crumples in a heap. You rescue the gorgeous princess!\n"
       ]
      }
     ],
     "prompt_number": 10
    },
    {
     "cell_type": "markdown",
     "metadata": {},
     "source": [
      "We could also get rid of the not by swapping around the then and else parts of the conditional. So here is a third version, also equivalent:"
     ]
    },
    {
     "cell_type": "code",
     "collapsed": false,
     "input": [
      "# Method 3\n",
      "\n",
      "if (sword_charge >= 0.90) and (shield_energy >= 100):\n",
      "    print(\"The dragon crumples in a heap. You rescue the gorgeous princess!\")\n",
      "else:\n",
      "    print(\"Your attack has no effect, the dragon fries you to a crisp!\")"
     ],
     "language": "python",
     "metadata": {},
     "outputs": [
      {
       "output_type": "stream",
       "stream": "stdout",
       "text": [
        "The dragon crumples in a heap. You rescue the gorgeous princess!\n"
       ]
      }
     ],
     "prompt_number": 11
    },
    {
     "cell_type": "code",
     "collapsed": false,
     "input": [
      "x = 7\n",
      "y = 8"
     ],
     "language": "python",
     "metadata": {},
     "outputs": [],
     "prompt_number": 2
    },
    {
     "cell_type": "code",
     "collapsed": false,
     "input": [
      "if x==y:\n",
      "    print 'x and y are equal'\n",
      "else:\n",
      "    if x < y:\n",
      "        print 'x is less than y'\n",
      "    else:\n",
      "        print 'x is greater than y'"
     ],
     "language": "python",
     "metadata": {},
     "outputs": [
      {
       "output_type": "stream",
       "stream": "stdout",
       "text": [
        "x is less than y\n"
       ]
      }
     ],
     "prompt_number": 3
    },
    {
     "cell_type": "markdown",
     "metadata": {},
     "source": [
      "Nested conditionals become difficult to read very quickly. In general, it is a good idea to avoid them when you can."
     ]
    },
    {
     "cell_type": "code",
     "collapsed": false,
     "input": [
      "if 0 < x:\n",
      "    if x < 10:\n",
      "        print 'x is positive single-digit number.'"
     ],
     "language": "python",
     "metadata": {},
     "outputs": [
      {
       "output_type": "stream",
       "stream": "stdout",
       "text": [
        "x is positive single-digit number.\n"
       ]
      }
     ],
     "prompt_number": 4
    },
    {
     "cell_type": "markdown",
     "metadata": {},
     "source": [
      "The print statement is executed only if we make it past both conditionals, so we can get the same effect with the AND operator:"
     ]
    },
    {
     "cell_type": "code",
     "collapsed": false,
     "input": [
      "if 0 < x and x < 10:\n",
      "    print 'x is positive single-digit number.'"
     ],
     "language": "python",
     "metadata": {},
     "outputs": [
      {
       "output_type": "stream",
       "stream": "stdout",
       "text": [
        "x is positive single-digit number.\n"
       ]
      }
     ],
     "prompt_number": 5
    },
    {
     "cell_type": "markdown",
     "metadata": {},
     "source": [
      "Each condition is checked in order. If the first is false, the next is checked, and so on. If one of them is true, the corresponding branch executes, and the statement ends. Even if more than one condition is true, only the first true branch executes."
     ]
    },
    {
     "cell_type": "code",
     "collapsed": false,
     "input": [
      "if x < y:\n",
      "    print 'x is less than y'\n",
      "elif x > y:\n",
      "    print 'x is greater than y'\n",
      "else:\n",
      "    print 'x and y are equal"
     ],
     "language": "python",
     "metadata": {},
     "outputs": [
      {
       "ename": "SyntaxError",
       "evalue": "EOL while scanning string literal (<ipython-input-6-2d1c8c07fbc9>, line 6)",
       "output_type": "pyerr",
       "traceback": [
        "\u001b[1;36m  File \u001b[1;32m\"<ipython-input-6-2d1c8c07fbc9>\"\u001b[1;36m, line \u001b[1;32m6\u001b[0m\n\u001b[1;33m    print 'x and y are equal\u001b[0m\n\u001b[1;37m                           ^\u001b[0m\n\u001b[1;31mSyntaxError\u001b[0m\u001b[1;31m:\u001b[0m EOL while scanning string literal\n"
       ]
      }
     ],
     "prompt_number": 6
    },
    {
     "cell_type": "heading",
     "level": 1,
     "metadata": {},
     "source": [
      "Catching exceptions with TRY and EXCEPT"
     ]
    },
    {
     "cell_type": "markdown",
     "metadata": {},
     "source": [
      "The idea of **try** and **except** is that you know that some sequence of instruction(s) may have a problem and you want to add some statements to be executed if an error occurs. These extra statements (the except block) are ignored if there is no error."
     ]
    },
    {
     "cell_type": "code",
     "collapsed": false,
     "input": [
      "inp = raw_input('Enter Fahrenheit Temperature: ')\n",
      "try:\n",
      "    fahr = float (inp)\n",
      "    cel = (fahr - 32.0)* 5.0/9.0\n",
      "    print cel\n",
      "except:\n",
      "    print 'Please enter a number'"
     ],
     "language": "python",
     "metadata": {},
     "outputs": []
    },
    {
     "cell_type": "heading",
     "level": 1,
     "metadata": {},
     "source": [
      "Shot-circuit evaluation of logical expression"
     ]
    },
    {
     "cell_type": "markdown",
     "metadata": {},
     "source": [
      "When Python detects that there is nothing to be gained by evaluating the rest of a logical expression, it stops its evaluation and does not do the computations in the rest of the logical expression. It is called \"short-circuiting the evaluation\"."
     ]
    },
    {
     "cell_type": "code",
     "collapsed": false,
     "input": [
      "x = 6\n",
      "y = 0"
     ],
     "language": "python",
     "metadata": {},
     "outputs": []
    },
    {
     "cell_type": "code",
     "collapsed": false,
     "input": [
      "x >= 2 and y!=0 and (x/y) > 2"
     ],
     "language": "python",
     "metadata": {},
     "outputs": []
    },
    {
     "cell_type": "code",
     "collapsed": false,
     "input": [
      "x >= 2 and (x/y) > 2 and y!=0"
     ],
     "language": "python",
     "metadata": {},
     "outputs": [
      {
       "ename": "ZeroDivisionError",
       "evalue": "integer division or modulo by zero",
       "output_type": "pyerr",
       "traceback": [
        "\u001b[1;31m---------------------------------------------------------------------------\u001b[0m\n\u001b[1;31mZeroDivisionError\u001b[0m                         Traceback (most recent call last)",
        "\u001b[1;32m<ipython-input-18-d467e9672e7a>\u001b[0m in \u001b[0;36m<module>\u001b[1;34m()\u001b[0m\n\u001b[1;32m----> 1\u001b[1;33m \u001b[0mx\u001b[0m \u001b[1;33m>=\u001b[0m \u001b[1;36m2\u001b[0m \u001b[1;32mand\u001b[0m \u001b[1;33m(\u001b[0m\u001b[0mx\u001b[0m\u001b[1;33m/\u001b[0m\u001b[0my\u001b[0m\u001b[1;33m)\u001b[0m \u001b[1;33m>\u001b[0m \u001b[1;36m2\u001b[0m \u001b[1;32mand\u001b[0m \u001b[0my\u001b[0m\u001b[1;33m!=\u001b[0m\u001b[1;36m0\u001b[0m\u001b[1;33m\u001b[0m\u001b[0m\n\u001b[0m",
        "\u001b[1;31mZeroDivisionError\u001b[0m: integer division or modulo by zero"
       ]
      }
     ],
     "prompt_number": 18
    },
    {
     "cell_type": "markdown",
     "metadata": {},
     "source": [
      "In the first expression, we say that y != 0 acts as a guard to insure that we only execute (x/y) if y is non-zero."
     ]
    },
    {
     "cell_type": "heading",
     "level": 1,
     "metadata": {},
     "source": [
      "Recursion"
     ]
    },
    {
     "cell_type": "markdown",
     "metadata": {},
     "source": [
      "A function that calls itself is recursive; the process is called recursion."
     ]
    },
    {
     "cell_type": "code",
     "collapsed": false,
     "input": [
      "def countdown(n):\n",
      "    if n <= 0:\n",
      "        print 'Blastoff!'\n",
      "    else:\n",
      "        print n\n",
      "        countdown(n-1)"
     ],
     "language": "python",
     "metadata": {},
     "outputs": [],
     "prompt_number": 1
    },
    {
     "cell_type": "code",
     "collapsed": false,
     "input": [
      "countdown(6)"
     ],
     "language": "python",
     "metadata": {},
     "outputs": [
      {
       "output_type": "stream",
       "stream": "stdout",
       "text": [
        "6\n",
        "5\n",
        "4\n",
        "3\n",
        "2\n",
        "1\n",
        "Blastoff!\n"
       ]
      }
     ],
     "prompt_number": 2
    },
    {
     "cell_type": "markdown",
     "metadata": {},
     "source": [
      "If n is 0 or negative, it outputs the word, \u201cBlastoff!\u201d Otherwise, it outputs n and then calls a function named countdown\u2014itself\u2014passing n-1 as an argument."
     ]
    },
    {
     "cell_type": "code",
     "collapsed": false,
     "input": [
      "# Here is a while loop that does the same thing:\n",
      "\n",
      "n = 6\n",
      "while n > 0:\n",
      "    print n\n",
      "    n = n - 1\n",
      "print 'Blastoff'"
     ],
     "language": "python",
     "metadata": {},
     "outputs": []
    },
    {
     "cell_type": "markdown",
     "metadata": {},
     "source": [
      "An example of a function that prints a string n times:"
     ]
    },
    {
     "cell_type": "code",
     "collapsed": false,
     "input": [
      "def print_n(s, n):\n",
      "    if n <= 0:\n",
      "        return\n",
      "    print s\n",
      "    print_n(s, n-1)\n",
      "\n",
      "print_n('test', 4)"
     ],
     "language": "python",
     "metadata": {},
     "outputs": [
      {
       "output_type": "stream",
       "stream": "stdout",
       "text": [
        "test\n",
        "test\n",
        "test\n",
        "test\n"
       ]
      }
     ],
     "prompt_number": 17
    },
    {
     "cell_type": "markdown",
     "metadata": {},
     "source": [
      "If n <= 0 the return statement exits the function. The flow of execution immediately returns to the caller, and the remaining lines of the function are not executed. The rest of the function is similar to countdown: if n is greater than 0, it displays s and then calls itself to display s n-1 additional times."
     ]
    },
    {
     "cell_type": "heading",
     "level": 2,
     "metadata": {},
     "source": [
      "Factorial based on recursion"
     ]
    },
    {
     "cell_type": "code",
     "collapsed": false,
     "input": [
      "# n! = n * (n-1)!\n",
      "# we have to make a recursive call to find the factorial of n \udbc0\udc00 1 and then multiply it by n:\n",
      "\n",
      "def factorial(n):\n",
      "    if n == 0:\n",
      "        return 1\n",
      "    else:\n",
      "        recurse = factorial(n-1)\n",
      "        result = n * recurse\n",
      "        return result\n",
      "factorial(3)"
     ],
     "language": "python",
     "metadata": {},
     "outputs": [
      {
       "metadata": {},
       "output_type": "pyout",
       "prompt_number": 2,
       "text": [
        "6"
       ]
      }
     ],
     "prompt_number": 2
    },
    {
     "cell_type": "markdown",
     "metadata": {},
     "source": [
      "Since 3 is not 0, we take the second branch and calculate the factorial of n-1...\n",
      "\n",
      "Since 2 is not 0, we take the second branch and calculate the factorial of n-1...\n",
      "\n",
      "Since 1 is not 0, we take the second branch and calculate the factorial of n-1...\n",
      "\n",
      "Since 0 is 0, we take the first branch and return 1 without making any more recursive calls."
     ]
    },
    {
     "cell_type": "heading",
     "level": 2,
     "metadata": {},
     "source": [
      "Fibonacci based on recursion"
     ]
    },
    {
     "cell_type": "markdown",
     "metadata": {},
     "source": [
      "After factorial, the most common example of a recursively defined mathematical function is Fibonacci, having this definition:\n",
      "\n",
      "fibonacci(0) = 0\n",
      "\n",
      "fibonacci(1) = 1\n",
      "\n",
      "fibonacci(n) = fibonacci(n-1) + fibonacci(n-2)"
     ]
    },
    {
     "cell_type": "code",
     "collapsed": false,
     "input": [
      "def fibonacci(n):\n",
      "    if n == 0:\n",
      "        return 0\n",
      "    elif n == 1:\n",
      "        return 1\n",
      "    else:\n",
      "        return fibonacci(n-1) + fibonacci(n-2)\n",
      "\n",
      "fibonacci(7)"
     ],
     "language": "python",
     "metadata": {},
     "outputs": [
      {
       "metadata": {},
       "output_type": "pyout",
       "prompt_number": 1,
       "text": [
        "13"
       ]
      }
     ],
     "prompt_number": 1
    },
    {
     "cell_type": "code",
     "collapsed": false,
     "input": [
      "# What happens if we call factorial and give it 1.5 as an argument? ex. factorial(1.5) It looks like an infinite recursion. \n",
      "# But how can that be? There is a base case\u2014when n == 0. But if n is not an integer, we can miss the base case and recurse forever.\n",
      "# In the first recursive call, the value of n is 0.5. In the next, it is -0.5. It gets smaller but it will never be 0.\n",
      "\n",
      "# We can make factorial check the type of its argument, using the built-in function isinstance to verify the type of argument:\n",
      "\n",
      "def factorial(n):\n",
      "    if not isinstance(n, int):\n",
      "        print 'Factorial is only defined for integers.'\n",
      "        return None\n",
      "    elif n < 0:\n",
      "        print 'Factorial is not defined for negative integers.'\n",
      "        return None\n",
      "    elif n == 0:\n",
      "        return 1\n",
      "    else:\n",
      "        result = n * factorial(n-1)\n",
      "        return result\n",
      "factorial('george')\n",
      "factorial(-1)"
     ],
     "language": "python",
     "metadata": {},
     "outputs": [
      {
       "output_type": "stream",
       "stream": "stdout",
       "text": [
        "Factorial is only defined for integers.\n",
        "Factorial is not defined for negative integers.\n"
       ]
      }
     ],
     "prompt_number": 4
    }
   ],
   "metadata": {}
  }
 ]
}
