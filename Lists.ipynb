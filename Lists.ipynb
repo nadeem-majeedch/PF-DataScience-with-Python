{
 "metadata": {
  "name": "",
  "signature": "sha256:c5f042604da576e4c8aad1b790e569b9e4535702bec76a410714b73ca78475a9"
 },
 "nbformat": 3,
 "nbformat_minor": 0,
 "worksheets": [
  {
   "cells": [
    {
     "cell_type": "heading",
     "level": 1,
     "metadata": {},
     "source": [
      "LISTS"
     ]
    },
    {
     "cell_type": "markdown",
     "metadata": {},
     "source": [
      "Unlike strings, lists are mutable"
     ]
    },
    {
     "cell_type": "code",
     "collapsed": false,
     "input": [
      "numbers = [17, 123]\n",
      "numbers[1] = 5\n",
      "print numbers"
     ],
     "language": "python",
     "metadata": {},
     "outputs": [
      {
       "output_type": "stream",
       "stream": "stdout",
       "text": [
        "[17, 5]\n"
       ]
      }
     ],
     "prompt_number": 6
    },
    {
     "cell_type": "markdown",
     "metadata": {},
     "source": [
      "The most common way to traverse the elements of a list is with a for loop"
     ]
    },
    {
     "cell_type": "code",
     "collapsed": false,
     "input": [
      "for number in numbers:\n",
      "    print number"
     ],
     "language": "python",
     "metadata": {},
     "outputs": [
      {
       "output_type": "stream",
       "stream": "stdout",
       "text": [
        "17\n",
        "5\n"
       ]
      }
     ],
     "prompt_number": 3
    },
    {
     "cell_type": "markdown",
     "metadata": {},
     "source": [
      "This works well if you only need to read the elements of the list. But if you want to write or update the elements, you need the indices. A common way to do that is to combine the functions **range** and **len**"
     ]
    },
    {
     "cell_type": "code",
     "collapsed": false,
     "input": [
      "for i in range(len(numbers)):\n",
      "    numbers[i] = numbers[i] * 2\n",
      "    \n",
      "print numbers"
     ],
     "language": "python",
     "metadata": {},
     "outputs": [
      {
       "output_type": "stream",
       "stream": "stdout",
       "text": [
        "[34, 10]\n"
       ]
      }
     ],
     "prompt_number": 7
    },
    {
     "cell_type": "markdown",
     "metadata": {},
     "source": [
      "This loop traverses the list and updates each element. len returns the number of elements in the list. range returns a list of indices from 0 to n-1, where n is the length of the list. Each time through the loop i gets the index of the next element."
     ]
    },
    {
     "cell_type": "markdown",
     "metadata": {},
     "source": [
      "Since lists are mutable, it is often useful to make a copy before performing operations"
     ]
    },
    {
     "cell_type": "code",
     "collapsed": false,
     "input": [
      "t = ['a', 'b', 'c', 'd', 'e', 'f']\n",
      "t[1:3] = ['x', 'y']\n",
      "print t"
     ],
     "language": "python",
     "metadata": {},
     "outputs": [
      {
       "output_type": "stream",
       "stream": "stdout",
       "text": [
        "['a', 'x', 'y', 'd', 'e', 'f']\n"
       ]
      }
     ],
     "prompt_number": 8
    },
    {
     "cell_type": "heading",
     "level": 2,
     "metadata": {},
     "source": [
      "List methods"
     ]
    },
    {
     "cell_type": "markdown",
     "metadata": {},
     "source": [
      "**append** adds a new element to the end of a list"
     ]
    },
    {
     "cell_type": "code",
     "collapsed": false,
     "input": [
      "t = ['a', 'b', 'c']"
     ],
     "language": "python",
     "metadata": {},
     "outputs": [],
     "prompt_number": 10
    },
    {
     "cell_type": "markdown",
     "metadata": {},
     "source": [
      "**extend** takes a list as an argument and appends all of the elements"
     ]
    },
    {
     "cell_type": "code",
     "collapsed": false,
     "input": [
      "t1 = ['a', 'b', 'c']\n",
      "t2 = ['d', 'e']\n",
      "t1.extend(t2)\n",
      "print t1"
     ],
     "language": "python",
     "metadata": {},
     "outputs": [
      {
       "output_type": "stream",
       "stream": "stdout",
       "text": [
        "['a', 'b', 'c', 'd', 'e']\n"
       ]
      }
     ],
     "prompt_number": 12
    },
    {
     "cell_type": "markdown",
     "metadata": {},
     "source": [
      "**sort** arranges the elements of the list from low to high"
     ]
    },
    {
     "cell_type": "code",
     "collapsed": false,
     "input": [
      "t = ['d', 'c', 'e', 'b', 'a']\n",
      "t.sort()\n",
      "print t"
     ],
     "language": "python",
     "metadata": {},
     "outputs": [
      {
       "output_type": "stream",
       "stream": "stdout",
       "text": [
        "['a', 'b', 'c', 'd', 'e']\n"
       ]
      }
     ],
     "prompt_number": 22
    },
    {
     "cell_type": "markdown",
     "metadata": {},
     "source": [
      "List methods are all void; they modify the list and return None. If you write **t = t.sort()**, you will be disappointed with the result."
     ]
    },
    {
     "cell_type": "code",
     "collapsed": false,
     "input": [
      "t = t.sort()\n",
      "print t"
     ],
     "language": "python",
     "metadata": {},
     "outputs": [
      {
       "output_type": "stream",
       "stream": "stdout",
       "text": [
        "None\n"
       ]
      }
     ],
     "prompt_number": 23
    },
    {
     "cell_type": "heading",
     "level": 2,
     "metadata": {},
     "source": [
      "Manipulating lists' content"
     ]
    },
    {
     "cell_type": "markdown",
     "metadata": {},
     "source": [
      "To add up all the numbers in a list, you can use a loop like this.\n",
      "total is initialized to 0. Each time through the loop, x gets one element from the list. The **+=** operator provides a short way to update a variable "
     ]
    },
    {
     "cell_type": "code",
     "collapsed": false,
     "input": [
      "def add_all(t):\n",
      "    total = 0\n",
      "    for x in t:\n",
      "        total += x #the same as total = total + x\n",
      "    return total\n",
      "\n",
      "print add_all([1, 2, 3])\n",
      "print sum([1, 2, 3])"
     ],
     "language": "python",
     "metadata": {},
     "outputs": [
      {
       "output_type": "stream",
       "stream": "stdout",
       "text": [
        "6\n",
        "6\n"
       ]
      }
     ],
     "prompt_number": 27
    },
    {
     "cell_type": "markdown",
     "metadata": {},
     "source": [
      "Sometimes you want to **traverse one list while building another**. The following function takes a list of strings and returns a new list that contains capitalized strings.\n",
      "res is initialized with an empty list; each time through the loop, we append the next element. So res is another kind of accumulator."
     ]
    },
    {
     "cell_type": "code",
     "collapsed": false,
     "input": [
      "def capitalize_all(t):\n",
      "    res = []\n",
      "    for s in t:\n",
      "        res.append(s.capitalize())\n",
      "    return res\n",
      "\n",
      "print capitalize_all('portocala')"
     ],
     "language": "python",
     "metadata": {},
     "outputs": [
      {
       "output_type": "stream",
       "stream": "stdout",
       "text": [
        "['P', 'O', 'R', 'T', 'O', 'C', 'A', 'L', 'A']\n"
       ]
      }
     ],
     "prompt_number": 30
    },
    {
     "cell_type": "markdown",
     "metadata": {},
     "source": [
      "Another common operation is to select some of the elements from a list and return a sublist. For example, this returns a list that contains only the uppercase strings:"
     ]
    },
    {
     "cell_type": "code",
     "collapsed": false,
     "input": [
      "def only_upper(t):\n",
      "    res = []\n",
      "    for s in t:\n",
      "        if s.isupper():\n",
      "            res.append(s)\n",
      "    return res\n",
      "\n",
      "print only_upper('ThisIsAstring')"
     ],
     "language": "python",
     "metadata": {},
     "outputs": [
      {
       "output_type": "stream",
       "stream": "stdout",
       "text": [
        "['T', 'I', 'A']\n"
       ]
      }
     ],
     "prompt_number": 31
    },
    {
     "cell_type": "heading",
     "level": 2,
     "metadata": {},
     "source": [
      "Deleting elements"
     ]
    },
    {
     "cell_type": "markdown",
     "metadata": {},
     "source": [
      "If you know the index of the element you want, you can use **pop**. This modifies the list and returns the element that was removed"
     ]
    },
    {
     "cell_type": "code",
     "collapsed": false,
     "input": [
      "t = ['a', 'b', 'c']\n",
      "x = t.pop(1)\n",
      "print  t\n",
      "print x"
     ],
     "language": "python",
     "metadata": {},
     "outputs": [
      {
       "output_type": "stream",
       "stream": "stdout",
       "text": [
        "['a', 'c']\n",
        "b\n"
       ]
      }
     ],
     "prompt_number": 32
    },
    {
     "cell_type": "markdown",
     "metadata": {},
     "source": [
      "If you don\u2019t need the removed value, you can use the **del** operator:"
     ]
    },
    {
     "cell_type": "code",
     "collapsed": false,
     "input": [
      "t = ['a', 'b', 'c']\n",
      "del t[1]\n",
      "print t"
     ],
     "language": "python",
     "metadata": {},
     "outputs": [
      {
       "output_type": "stream",
       "stream": "stdout",
       "text": [
        "['a', 'c']\n"
       ]
      }
     ],
     "prompt_number": 33
    },
    {
     "cell_type": "markdown",
     "metadata": {},
     "source": [
      "If you know the element you want to remove (but not the index), you can use **remove**:"
     ]
    },
    {
     "cell_type": "code",
     "collapsed": false,
     "input": [
      "t = ['a', 'b', 'c']\n",
      "t.remove('b')\n",
      "print t"
     ],
     "language": "python",
     "metadata": {},
     "outputs": [
      {
       "output_type": "stream",
       "stream": "stdout",
       "text": [
        "['a', 'c']\n"
       ]
      }
     ],
     "prompt_number": 34
    },
    {
     "cell_type": "markdown",
     "metadata": {},
     "source": [
      "To remove more than one element, you can use del with a slice index:"
     ]
    },
    {
     "cell_type": "code",
     "collapsed": false,
     "input": [
      "t = ['a', 'b', 'c', 'd', 'e', 'f']\n",
      "del t[1:5]\n",
      "print t"
     ],
     "language": "python",
     "metadata": {},
     "outputs": [
      {
       "output_type": "stream",
       "stream": "stdout",
       "text": [
        "['a', 'f']\n"
       ]
      }
     ],
     "prompt_number": 35
    },
    {
     "cell_type": "markdown",
     "metadata": {},
     "source": [
      "To convert from a string to a list of characters, you can use **list**:"
     ]
    },
    {
     "cell_type": "code",
     "collapsed": false,
     "input": [
      "s = 'spam'\n",
      "t = list(s)\n",
      "print t"
     ],
     "language": "python",
     "metadata": {},
     "outputs": [
      {
       "output_type": "stream",
       "stream": "stdout",
       "text": [
        "['s', 'p', 'a', 'm']\n"
       ]
      }
     ],
     "prompt_number": 36
    },
    {
     "cell_type": "markdown",
     "metadata": {},
     "source": [
      "The list function breaks a string into individual letters. If you want to break a string into words, you can use the **split** method:"
     ]
    },
    {
     "cell_type": "code",
     "collapsed": false,
     "input": [
      "s = 'pining for the fjords'\n",
      "t = s.split()\n",
      "print t"
     ],
     "language": "python",
     "metadata": {},
     "outputs": [
      {
       "output_type": "stream",
       "stream": "stdout",
       "text": [
        "['pining', 'for', 'the', 'fjords']\n"
       ]
      }
     ],
     "prompt_number": 37
    },
    {
     "cell_type": "markdown",
     "metadata": {},
     "source": [
      "An optional argument called a delimiter specifies which characters to use as word boundaries."
     ]
    },
    {
     "cell_type": "code",
     "collapsed": false,
     "input": [
      "s = 'spam-spam-spam'\n",
      "delimiter = '-'\n",
      "s.split(delimiter)"
     ],
     "language": "python",
     "metadata": {},
     "outputs": [
      {
       "metadata": {},
       "output_type": "pyout",
       "prompt_number": 38,
       "text": [
        "['spam', 'spam', 'spam']"
       ]
      }
     ],
     "prompt_number": 38
    },
    {
     "cell_type": "markdown",
     "metadata": {},
     "source": [
      "**join** is the inverse of split. It takes a list of strings and concatenates the elements. join is a string method, so you have to invoke it on the delimiter and pass the list as a parameter"
     ]
    },
    {
     "cell_type": "code",
     "collapsed": false,
     "input": [
      "t = ['pining', 'for', 'the', 'fjords']\n",
      "delimiter = ' '\n",
      "delimiter.join(t)"
     ],
     "language": "python",
     "metadata": {},
     "outputs": [
      {
       "metadata": {},
       "output_type": "pyout",
       "prompt_number": 39,
       "text": [
        "'pining for the fjords'"
       ]
      }
     ],
     "prompt_number": 39
    },
    {
     "cell_type": "heading",
     "level": 2,
     "metadata": {},
     "source": [
      "List arguments"
     ]
    },
    {
     "cell_type": "markdown",
     "metadata": {},
     "source": [
      "It is important to distinguish between operations that modify lists and operations that create new lists. For example, the **append** method modifies a list, but the **+ operator** creates a new list"
     ]
    },
    {
     "cell_type": "code",
     "collapsed": false,
     "input": [
      "t1 = [1, 2]\n",
      "t2 = t1.append(3)\n",
      "print t1\n",
      "print t2"
     ],
     "language": "python",
     "metadata": {},
     "outputs": [
      {
       "output_type": "stream",
       "stream": "stdout",
       "text": [
        "[1, 2, 3]\n",
        "None\n"
       ]
      }
     ],
     "prompt_number": 42
    },
    {
     "cell_type": "code",
     "collapsed": false,
     "input": [
      "t3 = t1 + [4]\n",
      "print t3"
     ],
     "language": "python",
     "metadata": {},
     "outputs": [
      {
       "output_type": "stream",
       "stream": "stdout",
       "text": [
        "[1, 2, 3, 4]\n"
       ]
      }
     ],
     "prompt_number": 43
    },
    {
     "cell_type": "markdown",
     "metadata": {},
     "source": [
      "This difference is important when you write functions that are supposed to modify lists."
     ]
    },
    {
     "cell_type": "code",
     "collapsed": false,
     "input": [
      "t = ['pining', 'for', 'the', 'fjords']\n",
      "\n",
      "def bad_delete_head(t):\n",
      "    t = t[1:] # WRONG !\n",
      "\n",
      "print bad_delete_head(t)"
     ],
     "language": "python",
     "metadata": {},
     "outputs": [
      {
       "output_type": "stream",
       "stream": "stdout",
       "text": [
        "None\n"
       ]
      }
     ],
     "prompt_number": 49
    },
    {
     "cell_type": "markdown",
     "metadata": {},
     "source": [
      "The slice operator creates a new list and the assignment makes t refer to it, but none of that has any effect on the list that was passed as an argument."
     ]
    },
    {
     "cell_type": "markdown",
     "metadata": {},
     "source": [
      "An alternative is to write a function that creates and returns a new list. For example, tail returns all but the first element of a list:"
     ]
    },
    {
     "cell_type": "code",
     "collapsed": false,
     "input": [
      "def tail(t):\n",
      "    return t[1:]\n",
      "\n",
      "print tail(t)\n",
      "print t"
     ],
     "language": "python",
     "metadata": {},
     "outputs": [
      {
       "output_type": "stream",
       "stream": "stdout",
       "text": [
        "['for', 'the', 'fjords']\n",
        "['pining', 'for', 'the', 'fjords']\n"
       ]
      }
     ],
     "prompt_number": 53
    },
    {
     "cell_type": "markdown",
     "metadata": {},
     "source": [
      "Negative indices slice the sequence relative to the end:"
     ]
    },
    {
     "cell_type": "code",
     "collapsed": false,
     "input": [
      "seq = [7, 2, 3, 7, 5, 6, 0, 1]\n",
      "print seq[:5]\n",
      "print seq[-4:]"
     ],
     "language": "python",
     "metadata": {},
     "outputs": [
      {
       "output_type": "stream",
       "stream": "stdout",
       "text": [
        "[7, 2, 3, 7, 5]\n",
        "[5, 6, 0, 1]\n"
       ]
      }
     ],
     "prompt_number": 1
    },
    {
     "cell_type": "heading",
     "level": 2,
     "metadata": {},
     "source": [
      "Debugging"
     ]
    },
    {
     "cell_type": "markdown",
     "metadata": {},
     "source": [
      "Most list methods modify the argument and return None. This is the opposite of the string methods, which return a new string and leave the original alone.\n",
      "\n",
      "It is tempting to write list code like this:"
     ]
    },
    {
     "cell_type": "code",
     "collapsed": false,
     "input": [
      "t = ['pining', 'for', 'the', 'fjords']\n",
      "\n",
      "t = t.sort()  # WRONG !\n",
      "print t"
     ],
     "language": "python",
     "metadata": {},
     "outputs": [
      {
       "output_type": "stream",
       "stream": "stdout",
       "text": [
        "None\n"
       ]
      }
     ],
     "prompt_number": 59
    },
    {
     "cell_type": "markdown",
     "metadata": {},
     "source": [
      "Because sort returns None, the next operation we perform with t will fail"
     ]
    },
    {
     "cell_type": "code",
     "collapsed": false,
     "input": [
      "t.append('test')"
     ],
     "language": "python",
     "metadata": {},
     "outputs": [
      {
       "ename": "AttributeError",
       "evalue": "'NoneType' object has no attribute 'append'",
       "output_type": "pyerr",
       "traceback": [
        "\u001b[1;31m---------------------------------------------------------------------------\u001b[0m\n\u001b[1;31mAttributeError\u001b[0m                            Traceback (most recent call last)",
        "\u001b[1;32m<ipython-input-60-180daf7406b5>\u001b[0m in \u001b[0;36m<module>\u001b[1;34m()\u001b[0m\n\u001b[1;32m----> 1\u001b[1;33m \u001b[0mt\u001b[0m\u001b[1;33m.\u001b[0m\u001b[0mappend\u001b[0m\u001b[1;33m(\u001b[0m\u001b[1;34m'test'\u001b[0m\u001b[1;33m)\u001b[0m\u001b[1;33m\u001b[0m\u001b[0m\n\u001b[0m",
        "\u001b[1;31mAttributeError\u001b[0m: 'NoneType' object has no attribute 'append'"
       ]
      }
     ],
     "prompt_number": 60
    },
    {
     "cell_type": "markdown",
     "metadata": {},
     "source": [
      "If you want to use a method like sort that modifies the argument, but you need to keep the original list as well, you can make a copy."
     ]
    },
    {
     "cell_type": "code",
     "collapsed": false,
     "input": [
      "t = ['pining', 'for', 'the', 'fjords']\n",
      "\n",
      "orig = t[:]\n",
      "t.sort()\n",
      "print t\n",
      "print orig"
     ],
     "language": "python",
     "metadata": {},
     "outputs": [
      {
       "output_type": "stream",
       "stream": "stdout",
       "text": [
        "['fjords', 'for', 'pining', 'the']\n",
        "['pining', 'for', 'the', 'fjords']\n"
       ]
      }
     ],
     "prompt_number": 67
    }
   ],
   "metadata": {}
  }
 ]
}
