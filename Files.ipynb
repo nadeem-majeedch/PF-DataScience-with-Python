{
 "metadata": {
  "name": "",
  "signature": "sha256:294bb1d22a379f6e278224badcf6bbafe25dff85b079a7f910199122795edf46"
 },
 "nbformat": 3,
 "nbformat_minor": 0,
 "worksheets": [
  {
   "cells": [
    {
     "cell_type": "heading",
     "level": 1,
     "metadata": {},
     "source": [
      "Files"
     ]
    },
    {
     "cell_type": "heading",
     "level": 2,
     "metadata": {},
     "source": [
      "Working directory"
     ]
    },
    {
     "cell_type": "code",
     "collapsed": false,
     "input": [
      "import os\n",
      "# change working directory\n",
      "os.chdir('D:\\\\WORK\\\\Python_wd')\n",
      "# show current working directory\n",
      "os.getcwd()"
     ],
     "language": "python",
     "metadata": {},
     "outputs": [
      {
       "metadata": {},
       "output_type": "pyout",
       "prompt_number": 4,
       "text": [
        "'D:\\\\WORK\\\\Python_wd'"
       ]
      }
     ],
     "prompt_number": 4
    },
    {
     "cell_type": "code",
     "collapsed": false,
     "input": [
      "import os\n",
      "os.getcwd()"
     ],
     "language": "python",
     "metadata": {},
     "outputs": [
      {
       "metadata": {},
       "output_type": "pyout",
       "prompt_number": 12,
       "text": [
        "'D:\\\\WORK\\\\Python_wd'"
       ]
      }
     ],
     "prompt_number": 12
    },
    {
     "cell_type": "code",
     "collapsed": false,
     "input": [
      "fhand = open('mbox-short.txt')"
     ],
     "language": "python",
     "metadata": {},
     "outputs": [],
     "prompt_number": 13
    },
    {
     "cell_type": "code",
     "collapsed": false,
     "input": [
      "# if the open is successful, the operationg system returns us a 'file handle'\n",
      "# the file handle is not the actual data contained in the file, but instead it is a \"handle\" that we can use to read the data\n",
      "print fhand"
     ],
     "language": "python",
     "metadata": {},
     "outputs": [
      {
       "output_type": "stream",
       "stream": "stdout",
       "text": [
        "<open file 'mbox-short.txt', mode 'r' at 0x0000000009B686F0>\n"
       ]
      }
     ],
     "prompt_number": 14
    },
    {
     "cell_type": "code",
     "collapsed": false,
     "input": [
      "# in Python, we represent the \"newline\" character as a backslash-n in a string\n",
      "stuff = 'Hello\\nWorld!'\n",
      "stuff"
     ],
     "language": "python",
     "metadata": {},
     "outputs": [
      {
       "metadata": {},
       "output_type": "pyout",
       "prompt_number": 15,
       "text": [
        "'Hello\\nWorld!'"
       ]
      }
     ],
     "prompt_number": 15
    },
    {
     "cell_type": "code",
     "collapsed": false,
     "input": [
      "print stuff"
     ],
     "language": "python",
     "metadata": {},
     "outputs": [
      {
       "output_type": "stream",
       "stream": "stdout",
       "text": [
        "Hello\n",
        "World!\n"
       ]
      }
     ],
     "prompt_number": 16
    },
    {
     "cell_type": "code",
     "collapsed": false,
     "input": [
      "os.getcwd()\n",
      "for i in os.listdir(os.getcwd()):\n",
      "    print i"
     ],
     "language": "python",
     "metadata": {},
     "outputs": [
      {
       "output_type": "stream",
       "stream": "stdout",
       "text": [
        "Anna - Python script.py\n",
        "AX_USL_01.05-13.08.2014.xlsx\n",
        "Codecademy work.py\n",
        "emma.txt\n",
        "firstprogram.txt\n",
        "mbox-short.txt\n",
        "Sales per employees.py\n",
        "test - Python script.py\n",
        "words.txt\n"
       ]
      }
     ],
     "prompt_number": 32
    },
    {
     "cell_type": "heading",
     "level": 2,
     "metadata": {},
     "source": [
      "Reading files"
     ]
    },
    {
     "cell_type": "code",
     "collapsed": false,
     "input": [
      "# construct a for loop to read through and count each of the lines in a file:\n",
      "fhand = open('mbox-short.txt')\n",
      "count = 0\n",
      "for line in fhand:\n",
      "    count = count + 1\n",
      "print 'Line Count:', count\n",
      "\n",
      "# the for loop actually causes the data to be read from file"
     ],
     "language": "python",
     "metadata": {},
     "outputs": [
      {
       "output_type": "stream",
       "stream": "stdout",
       "text": [
        "Line Count: 1910\n"
       ]
      }
     ],
     "prompt_number": 17
    },
    {
     "cell_type": "code",
     "collapsed": false,
     "input": [
      "# the open function does not read the entire file, because it might be too large\n",
      "# if the file is small compared to main memory, you can read the whole file into one string using the read method on the file handle\n",
      "\n",
      "fhand = open('mbox-short.txt')\n",
      "inp = fhand.read()\n",
      "print len(inp)\n",
      "print inp[:20]\n",
      "\n",
      "# when the file is read in this manner, all the characters are one big string in the variable inp\n",
      "# if the file is too large to fit in main memory, you should write a program to read the file in chuncks using a for or while loop."
     ],
     "language": "python",
     "metadata": {},
     "outputs": [
      {
       "output_type": "stream",
       "stream": "stdout",
       "text": [
        "94626\n",
        "From stephen.marquar\n"
       ]
      }
     ],
     "prompt_number": 2
    },
    {
     "cell_type": "heading",
     "level": 2,
     "metadata": {},
     "source": [
      "Searching through a file"
     ]
    },
    {
     "cell_type": "code",
     "collapsed": false,
     "input": [
      "# read a file and only print out lines which started with the prefix 'From:' --> we use the string method \"startswith\"\n",
      "\n",
      "fhand = open('mbox-short.txt')\n",
      "for line in fhand:\n",
      "    if line.startswith('From:'):\n",
      "        print line"
     ],
     "language": "python",
     "metadata": {},
     "outputs": [
      {
       "output_type": "stream",
       "stream": "stdout",
       "text": [
        "From: stephen.marquard@uct.ac.za\n",
        "\n",
        "From: louis@media.berkeley.edu\n",
        "\n",
        "From: zqian@umich.edu\n",
        "\n",
        "From: rjlowe@iupui.edu\n",
        "\n",
        "From: zqian@umich.edu\n",
        "\n",
        "From: rjlowe@iupui.edu\n",
        "\n",
        "From: cwen@iupui.edu\n",
        "\n",
        "From: cwen@iupui.edu\n",
        "\n",
        "From: gsilver@umich.edu\n",
        "\n",
        "From: gsilver@umich.edu\n",
        "\n",
        "From: zqian@umich.edu\n",
        "\n",
        "From: gsilver@umich.edu\n",
        "\n",
        "From: wagnermr@iupui.edu\n",
        "\n",
        "From: zqian@umich.edu\n",
        "\n",
        "From: antranig@caret.cam.ac.uk\n",
        "\n",
        "From: gopal.ramasammycook@gmail.com\n",
        "\n",
        "From: david.horwitz@uct.ac.za\n",
        "\n",
        "From: david.horwitz@uct.ac.za\n",
        "\n",
        "From: david.horwitz@uct.ac.za\n",
        "\n",
        "From: david.horwitz@uct.ac.za\n",
        "\n",
        "From: stephen.marquard@uct.ac.za\n",
        "\n",
        "From: louis@media.berkeley.edu\n",
        "\n",
        "From: louis@media.berkeley.edu\n",
        "\n",
        "From: ray@media.berkeley.edu\n",
        "\n",
        "From: cwen@iupui.edu\n",
        "\n",
        "From: cwen@iupui.edu\n",
        "\n",
        "From: cwen@iupui.edu\n",
        "\n"
       ]
      }
     ],
     "prompt_number": 44
    },
    {
     "cell_type": "code",
     "collapsed": false,
     "input": [
      "# extra blank lines are because of that invisible newline character\n",
      "# rstrip method strips whitespace from the right side of a string\n",
      "\n",
      "fhand = open('mbox-short.txt')\n",
      "for line in fhand:\n",
      "    line = line.rstrip()\n",
      "    if line.startswith('From:'):\n",
      "        print line"
     ],
     "language": "python",
     "metadata": {},
     "outputs": [
      {
       "output_type": "stream",
       "stream": "stdout",
       "text": [
        "From: stephen.marquard@uct.ac.za\n",
        "From: louis@media.berkeley.edu\n",
        "From: zqian@umich.edu\n",
        "From: rjlowe@iupui.edu\n",
        "From: zqian@umich.edu\n",
        "From: rjlowe@iupui.edu\n",
        "From: cwen@iupui.edu\n",
        "From: cwen@iupui.edu\n",
        "From: gsilver@umich.edu\n",
        "From: gsilver@umich.edu\n",
        "From: zqian@umich.edu\n",
        "From: gsilver@umich.edu\n",
        "From: wagnermr@iupui.edu\n",
        "From: zqian@umich.edu\n",
        "From: antranig@caret.cam.ac.uk\n",
        "From: gopal.ramasammycook@gmail.com\n",
        "From: david.horwitz@uct.ac.za\n",
        "From: david.horwitz@uct.ac.za\n",
        "From: david.horwitz@uct.ac.za\n",
        "From: david.horwitz@uct.ac.za\n",
        "From: stephen.marquard@uct.ac.za\n",
        "From: louis@media.berkeley.edu\n",
        "From: louis@media.berkeley.edu\n",
        "From: ray@media.berkeley.edu\n",
        "From: cwen@iupui.edu\n",
        "From: cwen@iupui.edu\n",
        "From: cwen@iupui.edu\n"
       ]
      }
     ],
     "prompt_number": 45
    },
    {
     "cell_type": "code",
     "collapsed": false,
     "input": [
      "# we can structure the loop to follow the pattern of skipping the uninteresting lines\n",
      "\n",
      "fhand = open('mbox-short.txt')\n",
      "for line in fhand:\n",
      "    line = line.rstrip()\n",
      "    # skipping \"uninteresting\" lines\n",
      "    if not line.startswith('From:'):\n",
      "        continue\n",
      "    # process only \"interesting\" lines\n",
      "    print line"
     ],
     "language": "python",
     "metadata": {},
     "outputs": [
      {
       "output_type": "stream",
       "stream": "stdout",
       "text": [
        "From: stephen.marquard@uct.ac.za\n",
        "From: louis@media.berkeley.edu\n",
        "From: zqian@umich.edu\n",
        "From: rjlowe@iupui.edu\n",
        "From: zqian@umich.edu\n",
        "From: rjlowe@iupui.edu\n",
        "From: cwen@iupui.edu\n",
        "From: cwen@iupui.edu\n",
        "From: gsilver@umich.edu\n",
        "From: gsilver@umich.edu\n",
        "From: zqian@umich.edu\n",
        "From: gsilver@umich.edu\n",
        "From: wagnermr@iupui.edu\n",
        "From: zqian@umich.edu\n",
        "From: antranig@caret.cam.ac.uk\n",
        "From: gopal.ramasammycook@gmail.com\n",
        "From: david.horwitz@uct.ac.za\n",
        "From: david.horwitz@uct.ac.za\n",
        "From: david.horwitz@uct.ac.za\n",
        "From: david.horwitz@uct.ac.za\n",
        "From: stephen.marquard@uct.ac.za\n",
        "From: louis@media.berkeley.edu\n",
        "From: louis@media.berkeley.edu\n",
        "From: ray@media.berkeley.edu\n",
        "From: cwen@iupui.edu\n",
        "From: cwen@iupui.edu\n",
        "From: cwen@iupui.edu\n"
       ]
      }
     ],
     "prompt_number": 46
    },
    {
     "cell_type": "code",
     "collapsed": false,
     "input": [
      "# \"find\" method looks for an occurence of a string within another string\n",
      "# \"find\" method either returns the position of the string, or -1 if the string was not found\n",
      "\n",
      "fhand = open('mbox-short.txt')\n",
      "for line in fhand:\n",
      "    line = line.rstrip()\n",
      "    if line.find('@uct.ac.za') == -1:\n",
      "        continue\n",
      "    print line"
     ],
     "language": "python",
     "metadata": {},
     "outputs": [
      {
       "output_type": "stream",
       "stream": "stdout",
       "text": [
        "From stephen.marquard@uct.ac.za Sat Jan  5 09:14:16 2008\n",
        "X-Authentication-Warning: nakamura.uits.iupui.edu: apache set sender to stephen.marquard@uct.ac.za using -f\n",
        "From: stephen.marquard@uct.ac.za\n",
        "Author: stephen.marquard@uct.ac.za\n",
        "From david.horwitz@uct.ac.za Fri Jan  4 07:02:32 2008\n",
        "X-Authentication-Warning: nakamura.uits.iupui.edu: apache set sender to david.horwitz@uct.ac.za using -f\n",
        "From: david.horwitz@uct.ac.za\n",
        "Author: david.horwitz@uct.ac.za\n",
        "r39753 | david.horwitz@uct.ac.za | 2008-01-04 13:05:51 +0200 (Fri, 04 Jan 2008) | 1 line\n",
        "From david.horwitz@uct.ac.za Fri Jan  4 06:08:27 2008\n",
        "X-Authentication-Warning: nakamura.uits.iupui.edu: apache set sender to david.horwitz@uct.ac.za using -f\n",
        "From: david.horwitz@uct.ac.za\n",
        "Author: david.horwitz@uct.ac.za\n",
        "From david.horwitz@uct.ac.za Fri Jan  4 04:49:08 2008\n",
        "X-Authentication-Warning: nakamura.uits.iupui.edu: apache set sender to david.horwitz@uct.ac.za using -f\n",
        "From: david.horwitz@uct.ac.za\n",
        "Author: david.horwitz@uct.ac.za\n",
        "From david.horwitz@uct.ac.za Fri Jan  4 04:33:44 2008\n",
        "X-Authentication-Warning: nakamura.uits.iupui.edu: apache set sender to david.horwitz@uct.ac.za using -f\n",
        "From: david.horwitz@uct.ac.za\n",
        "Author: david.horwitz@uct.ac.za\n",
        "From stephen.marquard@uct.ac.za Fri Jan  4 04:07:34 2008\n",
        "X-Authentication-Warning: nakamura.uits.iupui.edu: apache set sender to stephen.marquard@uct.ac.za using -f\n",
        "From: stephen.marquard@uct.ac.za\n",
        "Author: stephen.marquard@uct.ac.za\n"
       ]
      }
     ],
     "prompt_number": 47
    },
    {
     "cell_type": "heading",
     "level": 2,
     "metadata": {},
     "source": [
      "Try, Except, Open"
     ]
    },
    {
     "cell_type": "code",
     "collapsed": false,
     "input": [
      "fname = raw_input('Enter the file name: ')\n",
      "try:\n",
      "    fhand = open(fname)\n",
      "except:\n",
      "    print 'File cannot be opened:', fname\n",
      "    exit()\n",
      "\n",
      "count = 0\n",
      "for line in fhand:\n",
      "    if line.startswith('Subject:'):\n",
      "        count =  count + 1\n",
      "print 'There are', count, 'subject lines in', fname"
     ],
     "language": "python",
     "metadata": {},
     "outputs": [
      {
       "name": "stdout",
       "output_type": "stream",
       "stream": "stdout",
       "text": [
        "Enter the file name: mbox-short.txt\n"
       ]
      },
      {
       "output_type": "stream",
       "stream": "stdout",
       "text": [
        "There are 27 subject lines in mbox-short.txt\n"
       ]
      }
     ],
     "prompt_number": 5
    },
    {
     "cell_type": "heading",
     "level": 2,
     "metadata": {},
     "source": [
      "Writing files"
     ]
    },
    {
     "cell_type": "code",
     "collapsed": false,
     "input": [
      "# To write a file, you have to open it with mode 'w' as a second parameter:\n",
      "\n",
      "fout = open('firstprogram.txt', 'w')\n",
      "print fout\n",
      "\n",
      "# If the file already exists, opening it in write mode clears out the old data and starts fresh, so be careful!\n",
      "# If the file doesn\u2019t exist, a new one is created."
     ],
     "language": "python",
     "metadata": {},
     "outputs": [
      {
       "output_type": "stream",
       "stream": "stdout",
       "text": [
        "<open file 'firstprogram.txt', mode 'w' at 0x0000000009B686F0>\n"
       ]
      }
     ],
     "prompt_number": 23
    },
    {
     "cell_type": "code",
     "collapsed": false,
     "input": [
      "# We must make sure to explicitly insert the newline character (\\n) when we want to end a line.\n",
      "# The write method of the file handle object puts data into the file.\n",
      "\n",
      "line1 = \"This here's the wattle,\\n\"\n",
      "fout.write(line1)"
     ],
     "language": "python",
     "metadata": {},
     "outputs": [],
     "prompt_number": 24
    },
    {
     "cell_type": "code",
     "collapsed": false,
     "input": [
      "line2 = 'the emblem of our land.\\n'\n",
      "fout.write(line2)"
     ],
     "language": "python",
     "metadata": {},
     "outputs": [],
     "prompt_number": 25
    },
    {
     "cell_type": "code",
     "collapsed": false,
     "input": [
      "# You have to close the file for the data to be phisically written to the disk\n",
      "\n",
      "fout.close()"
     ],
     "language": "python",
     "metadata": {},
     "outputs": [],
     "prompt_number": 26
    },
    {
     "cell_type": "code",
     "collapsed": false,
     "input": [
      "import urllib\n",
      "conn = urllib.urlopen('http://thinkpython.com/secret.html')\n",
      "for line in conn:\n",
      "    print line.strip()"
     ],
     "language": "python",
     "metadata": {},
     "outputs": [
      {
       "output_type": "stream",
       "stream": "stdout",
       "text": [
        "<title>Secret exercise</title>\n",
        "\n",
        "<h1>Secret Think Python Exercise</h3>\n",
        "\n",
        "<p>\n",
        "If you are reading this, you are probably working on the urllib\n",
        "exercise from Think Python.\n",
        "\n",
        "<p>\n",
        "Next, you should read the documentation of the urllib module at\n",
        "http://docs.python.org/lib/module-urllib.html\n",
        "\n",
        "<p>\n",
        "Then go to www.uszip.com, which provides information about every zip code\n",
        "in the country.  For example, the URL\n",
        "\n",
        "<p>\n",
        "http://www.uszip.com/zip/02492\n",
        "\n",
        "<p>\n",
        "provides information about Needham MA, including population, longitude\n",
        "and latitude, etc.\n",
        "\n",
        "<p>\n",
        "Write a program that prompts the user for a zip code and prints the\n",
        "name and population of the corresponding town.\n",
        "\n",
        "<p>\n",
        "Note: the text you get from uszip.com is in HTML, the language most\n",
        "web pages are written in.  Even if you don't know HTML, you should be\n",
        "able to extract the information you are looking for.\n",
        "\n",
        "<p>\n",
        "By the way, your program is an example of a \"screen scraper.\"  You can\n",
        "read more about this term at\n",
        "\n",
        "<p>\n",
        "http://wikipedia.org/wiki/Screen_scraping\n",
        "\n",
        "<p>\n",
        "Sites that make money from advertising don't like screen scrapers\n",
        "because they don't display the ads.  Using a screen scraper violates\n",
        "the terms of service for some sites; that's why this is a secret\n",
        "exercise!\n",
        "\n",
        "<script type=\"text/javascript\">\n",
        "var gaJsHost = ((\"https:\" == document.location.protocol) ? \"https://ssl.\" : \"http://www.\");\n",
        "document.write(unescape(\"%3Cscript src='\" + gaJsHost + \"google-analytics.com/ga.js' type='text/javascript'%3E%3C/script%3E\"));\n",
        "</script>\n",
        "<script type=\"text/javascript\">\n",
        "try {\n",
        "var pageTracker = _gat._getTracker(\"UA-9267613-1\");\n",
        "pageTracker._trackPageview();\n",
        "} catch(err) {}</script>\n",
        "\n",
        "</body>\n"
       ]
      }
     ],
     "prompt_number": 2
    }
   ],
   "metadata": {}
  }
 ]
}
