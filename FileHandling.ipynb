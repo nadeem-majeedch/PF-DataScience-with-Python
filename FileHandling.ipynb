{
 "cells": [
  {
   "cell_type": "code",
   "execution_count": 1,
   "id": "526af564",
   "metadata": {},
   "outputs": [],
   "source": [
    "myfile = open(\"test.txt\", \"w\")\n",
    "myfile.write(\"My first file written from Python\\n\")\n",
    "myfile.write(\"---------------------------------\\n\")\n",
    "myfile.write(\"Hello, world!\\n\")\n",
    "myfile.close()"
   ]
  },
  {
   "cell_type": "code",
   "execution_count": 2,
   "id": "6cffb76c",
   "metadata": {},
   "outputs": [
    {
     "name": "stdout",
     "output_type": "stream",
     "text": [
      "My first file written from Python\n",
      "---------------------------------\n",
      "Hello, world!\n"
     ]
    }
   ],
   "source": [
    "mynewhandle = open(\"test.txt\", \"r\")\n",
    "while True:                            # Keep reading forever\n",
    "    theline = mynewhandle.readline()   # Try to read next line\n",
    "    if len(theline) == 0:              # If there are no more lines\n",
    "        break                          #     leave the loop\n",
    "\n",
    "    # Now process the line we've just read\n",
    "    print(theline, end=\"\")\n",
    "\n",
    "mynewhandle.close()"
   ]
  },
  {
   "cell_type": "code",
   "execution_count": 6,
   "id": "51c40819",
   "metadata": {},
   "outputs": [],
   "source": [
    "#Turning a file into a list of lines\n",
    "f = open(\"friends.txt\", \"r\")\n",
    "xs = f.readlines()\n",
    "f.close()\n",
    "\n",
    "xs.sort()\n",
    "\n",
    "g = open(\"sortedfriends.txt\", \"w\")\n",
    "for v in xs:\n",
    "    g.write(v)\n",
    "g.close()"
   ]
  },
  {
   "cell_type": "code",
   "execution_count": 7,
   "id": "f4a879df",
   "metadata": {},
   "outputs": [
    {
     "name": "stdout",
     "output_type": "stream",
     "text": [
      "There are 8 words in the file.\n"
     ]
    }
   ],
   "source": [
    "#Reading the whole file at once\n",
    "\n",
    "f = open(\"friends.txt\")\n",
    "content = f.read()\n",
    "f.close()\n",
    "\n",
    "words = content.split()\n",
    "print(\"There are {0} words in the file.\".format(len(words)))\n"
   ]
  },
  {
   "cell_type": "code",
   "execution_count": 8,
   "id": "5a5e5f28",
   "metadata": {},
   "outputs": [
    {
     "ename": "FileNotFoundError",
     "evalue": "[Errno 2] No such file or directory: 'somefile.zip'",
     "output_type": "error",
     "traceback": [
      "\u001b[1;31m---------------------------------------------------------------------------\u001b[0m",
      "\u001b[1;31mFileNotFoundError\u001b[0m                         Traceback (most recent call last)",
      "Input \u001b[1;32mIn [8]\u001b[0m, in \u001b[0;36m<cell line: 2>\u001b[1;34m()\u001b[0m\n\u001b[0;32m      1\u001b[0m \u001b[38;5;66;03m# Working with binary files\u001b[39;00m\n\u001b[1;32m----> 2\u001b[0m f \u001b[38;5;241m=\u001b[39m \u001b[38;5;28;43mopen\u001b[39;49m\u001b[43m(\u001b[49m\u001b[38;5;124;43m\"\u001b[39;49m\u001b[38;5;124;43msomefile.zip\u001b[39;49m\u001b[38;5;124;43m\"\u001b[39;49m\u001b[43m,\u001b[49m\u001b[43m \u001b[49m\u001b[38;5;124;43m\"\u001b[39;49m\u001b[38;5;124;43mrb\u001b[39;49m\u001b[38;5;124;43m\"\u001b[39;49m\u001b[43m)\u001b[49m\n\u001b[0;32m      3\u001b[0m g \u001b[38;5;241m=\u001b[39m \u001b[38;5;28mopen\u001b[39m(\u001b[38;5;124m\"\u001b[39m\u001b[38;5;124mthecopy.zip\u001b[39m\u001b[38;5;124m\"\u001b[39m, \u001b[38;5;124m\"\u001b[39m\u001b[38;5;124mwb\u001b[39m\u001b[38;5;124m\"\u001b[39m)\n\u001b[0;32m      5\u001b[0m \u001b[38;5;28;01mwhile\u001b[39;00m \u001b[38;5;28;01mTrue\u001b[39;00m:\n",
      "\u001b[1;31mFileNotFoundError\u001b[0m: [Errno 2] No such file or directory: 'somefile.zip'"
     ]
    }
   ],
   "source": [
    "# Working with binary files\n",
    "f = open(\"somefile.zip\", \"rb\")\n",
    "g = open(\"thecopy.zip\", \"wb\")\n",
    "\n",
    "while True:\n",
    "    buf = f.read(1024)\n",
    "    if len(buf) == 0:\n",
    "         break\n",
    "    g.write(buf)\n",
    "\n",
    "f.close()\n",
    "g.close()"
   ]
  },
  {
   "cell_type": "code",
   "execution_count": null,
   "id": "8df9e41f",
   "metadata": {},
   "outputs": [],
   "source": []
  }
 ],
 "metadata": {
  "kernelspec": {
   "display_name": "Python 3 (ipykernel)",
   "language": "python",
   "name": "python3"
  },
  "language_info": {
   "codemirror_mode": {
    "name": "ipython",
    "version": 3
   },
   "file_extension": ".py",
   "mimetype": "text/x-python",
   "name": "python",
   "nbconvert_exporter": "python",
   "pygments_lexer": "ipython3",
   "version": "3.9.13"
  }
 },
 "nbformat": 4,
 "nbformat_minor": 5
}
