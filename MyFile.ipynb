{
 "cells": [
  {
   "cell_type": "markdown",
   "id": "76e0b905",
   "metadata": {},
   "source": [
    "##### Open and read file"
   ]
  },
  {
   "cell_type": "markdown",
   "id": "2f7725d8",
   "metadata": {},
   "source": [
    "- By default, the open() function will open the file in read mode, if no parameter is provided."
   ]
  },
  {
   "cell_type": "code",
   "execution_count": 3,
   "id": "ed402c1a",
   "metadata": {},
   "outputs": [
    {
     "name": "stdout",
     "output_type": "stream",
     "text": [
      "1\n",
      "\n",
      "2\n",
      "\n",
      "3\n",
      "\n",
      "4\n",
      "\n",
      "7\n",
      "\n",
      "8\n",
      "\n",
      "9\n",
      "\n",
      "12\n",
      "\n",
      "90\n",
      "\n",
      "22\n",
      "\n"
     ]
    }
   ],
   "source": [
    "\n",
    "filename = 'numbers.txt'\n",
    "\n",
    "with open(filename, 'r') as fh:\n",
    "    for line in fh:\n",
    "        print(line)            # duplicate newlines\n",
    "\n",
    "# close is called when we leave the 'with'"
   ]
  },
  {
   "cell_type": "code",
   "execution_count": 27,
   "id": "1994b2f9",
   "metadata": {},
   "outputs": [
    {
     "name": "stdout",
     "output_type": "stream",
     "text": [
      "1\n",
      "2\n",
      "3\n",
      "4\n",
      "7\n",
      "8\n",
      "9\n",
      "12\n",
      "90\n",
      "22\n"
     ]
    }
   ],
   "source": [
    "# Read file remove newlines\n",
    "filename = 'numbers.txt'\n",
    "\n",
    "with open(filename, 'r') as fh:\n",
    "    for line in fh:\n",
    "        line = line.rstrip(\"\\n\")\n",
    "        print(line)"
   ]
  },
  {
   "cell_type": "code",
   "execution_count": 21,
   "id": "b6950630",
   "metadata": {},
   "outputs": [
    {
     "name": "stdout",
     "output_type": "stream",
     "text": [
      "1\n",
      "\n",
      "2\n",
      "\n",
      "3\n",
      "\n",
      "4\n",
      "\n",
      "7\n",
      "\n",
      "8\n",
      "\n",
      "9\n",
      "\n",
      "12\n",
      "\n",
      "90\n",
      "\n",
      "22\n",
      "\n"
     ]
    }
   ],
   "source": [
    "# a file named \"numbers\", will be opened with the reading mode.\n",
    "file = open('numbers.txt', 'r')\n",
    "# This will print every line one by one in the file\n",
    "for each in file:\n",
    "    print (each)"
   ]
  },
  {
   "cell_type": "markdown",
   "id": "93373063",
   "metadata": {},
   "source": [
    "### Filehandle with and without\n",
    "##### It is designed to provide much cleaner syntax and exception handling when you are working with code. That explains why it’s good practice to use them with a statement where applicable. This is helpful because using this method any files opened will be closed automatically after one is done, so auto-cleanup. "
   ]
  },
  {
   "cell_type": "code",
   "execution_count": 7,
   "id": "86ee24a8",
   "metadata": {},
   "outputs": [
    {
     "name": "stdout",
     "output_type": "stream",
     "text": [
      "<_io.TextIOWrapper name='numbers.txt' mode='r' encoding='cp1252'>\n",
      "<_io.TextIOWrapper name='numbers.txt' mode='r' encoding='cp1252'>\n",
      "<_io.TextIOWrapper name='numbers.txt' mode='r' encoding='cp1252'>\n",
      "<_io.TextIOWrapper name='numbers.txt' mode='r' encoding='cp1252'>\n"
     ]
    }
   ],
   "source": [
    "filename = 'numbers.txt'\n",
    "\n",
    "fh = open(filename, 'r')\n",
    "print(fh)      # <open file 'numbers.txt', mode 'r' at 0x107084390>\n",
    "data = fh.read()\n",
    "#print(data)\n",
    "# do something with the data\n",
    "fh.close()\n",
    "print(fh)      # <closed file 'numbers.txt', mode 'r' at 0x107084390>\n",
    "\n",
    "\n",
    "\n",
    "with open(filename, 'r') as fh:\n",
    "   print(fh)  # <open file 'numbers.txt', mode 'r' at 0x1070840c0>\n",
    "   data = fh.read()\n",
    "print(fh)     # <closed file 'numbers.txt', mode 'r' at 0x1070840c0>"
   ]
  },
  {
   "cell_type": "code",
   "execution_count": 18,
   "id": "5e7df826",
   "metadata": {},
   "outputs": [],
   "source": [
    "# Python code to illustrate with()\n",
    "with open(\"file.txt\") as file:\n",
    "\tdata = file.read()\n",
    "# do something with data\n"
   ]
  },
  {
   "cell_type": "code",
   "execution_count": 30,
   "id": "c30e44bd",
   "metadata": {},
   "outputs": [],
   "source": [
    "# Python code to illustrate with() alongwith write()\n",
    "with open(\"file.txt\", \"w\") as f:\n",
    "    f.write(\"Hello World!!!\")\n",
    "    f.write(\"University of the Punjab, Lahore.\")\n"
   ]
  },
  {
   "cell_type": "code",
   "execution_count": 12,
   "id": "14b2e930",
   "metadata": {},
   "outputs": [
    {
     "name": "stdout",
     "output_type": "stream",
     "text": [
      "University of the Punjab\n",
      "lahore\n",
      "Pakistan\n"
     ]
    }
   ],
   "source": [
    "# Python code to illustrate read() mode\n",
    "file = open(\"file.txt\", \"r\")\n",
    "print (file.read())\n"
   ]
  },
  {
   "cell_type": "code",
   "execution_count": 24,
   "id": "d4e15731",
   "metadata": {},
   "outputs": [
    {
     "name": "stdout",
     "output_type": "stream",
     "text": [
      "Hello\n"
     ]
    }
   ],
   "source": [
    "# Python code to illustrate read() mode character wise\n",
    "file = open(\"file.txt\", \"r\")\n",
    "print (file.read(5))\n"
   ]
  },
  {
   "cell_type": "code",
   "execution_count": 14,
   "id": "a10fc842",
   "metadata": {},
   "outputs": [],
   "source": [
    "# Python code to create a file\n",
    "file = open('myfile.txt','w')\n",
    "file.write(\"This is the write command\")\n",
    "file.write(\"It allows us to write in a particular file\")\n",
    "file.close()\n"
   ]
  },
  {
   "cell_type": "code",
   "execution_count": 15,
   "id": "16d59e5b",
   "metadata": {},
   "outputs": [],
   "source": [
    "# Python code to illustrate append() mode\n",
    "file = open('myfile.txt', 'a')\n",
    "file.write(\"This will add this line\")\n",
    "file.close()\n"
   ]
  },
  {
   "cell_type": "markdown",
   "id": "4a3d1964",
   "metadata": {},
   "source": [
    "- rstrip(): This function strips each line of a file off spaces from the right-hand side.\n",
    "- lstrip(): This function strips each line of a file off spaces from the left-hand side."
   ]
  },
  {
   "cell_type": "code",
   "execution_count": 31,
   "id": "d276ac32",
   "metadata": {},
   "outputs": [
    {
     "name": "stdout",
     "output_type": "stream",
     "text": [
      "['Hello', 'World!!!University', 'of', 'the', 'Punjab,', 'Lahore.']\n"
     ]
    }
   ],
   "source": [
    "# Python code to illustrate split() function\n",
    "with open(\"file.txt\", \"r\") as file:\n",
    "\tdata = file.readlines()\n",
    "\tfor line in data:\n",
    "\t\tword = line.split()\n",
    "\t\tprint (word)\n"
   ]
  },
  {
   "cell_type": "code",
   "execution_count": 34,
   "id": "af32dca3",
   "metadata": {},
   "outputs": [
    {
     "name": "stdout",
     "output_type": "stream",
     "text": [
      "['1\\n', '2\\n', '3\\n', '4\\n', '7\\n', '8\\n', '9\\n', '12\\n', '90\\n', '22\\n']\n",
      "10\n",
      "1\n",
      "2\n",
      "3\n",
      "4\n",
      "7\n",
      "8\n",
      "9\n",
      "12\n",
      "90\n",
      "22\n"
     ]
    }
   ],
   "source": [
    "# Read all the lines into a list\n",
    "filename = 'numbers.txt'\n",
    "\n",
    "with open(filename, 'r') as fh:\n",
    "    lines_list = fh.readlines()   # reads all the lines into a list\n",
    "print(lines_list)\n",
    "# print number of lines\n",
    "print(len(lines_list))\n",
    "\n",
    "for line in lines_list:\n",
    "    print(line, end=\"\")"
   ]
  },
  {
   "cell_type": "code",
   "execution_count": null,
   "id": "a3025b2a",
   "metadata": {},
   "outputs": [],
   "source": []
  }
 ],
 "metadata": {
  "kernelspec": {
   "display_name": "Python 3 (ipykernel)",
   "language": "python",
   "name": "python3"
  },
  "language_info": {
   "codemirror_mode": {
    "name": "ipython",
    "version": 3
   },
   "file_extension": ".py",
   "mimetype": "text/x-python",
   "name": "python",
   "nbconvert_exporter": "python",
   "pygments_lexer": "ipython3",
   "version": "3.9.13"
  }
 },
 "nbformat": 4,
 "nbformat_minor": 5
}
