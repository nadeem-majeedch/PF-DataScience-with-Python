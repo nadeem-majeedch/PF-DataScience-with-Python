{
 "cells": [
  {
   "cell_type": "markdown",
   "id": "ef4358d5",
   "metadata": {},
   "source": [
    "## Strings"
   ]
  },
  {
   "cell_type": "code",
   "execution_count": 1,
   "id": "a047830d",
   "metadata": {},
   "outputs": [
    {
     "name": "stdout",
     "output_type": "stream",
     "text": [
      "HELLO, WORLD!\n"
     ]
    }
   ],
   "source": [
    "ss = \"Hello, World!\"\n",
    "tt = ss.upper()\n",
    "print(tt)"
   ]
  },
  {
   "cell_type": "code",
   "execution_count": 7,
   "id": "c3b45a09",
   "metadata": {},
   "outputs": [
    {
     "name": "stdout",
     "output_type": "stream",
     "text": [
      "hello, world!\n",
      "Hello, world!\n",
      "hELLO, wORLD!\n"
     ]
    }
   ],
   "source": [
    "print(tt.lower())\n",
    "print(ss.capitalize())\n",
    "print(ss.swapcase())"
   ]
  },
  {
   "cell_type": "code",
   "execution_count": 8,
   "id": "c7c4bf55",
   "metadata": {},
   "outputs": [
    {
     "data": {
      "text/plain": [
       "True"
      ]
     },
     "execution_count": 8,
     "metadata": {},
     "output_type": "execute_result"
    }
   ],
   "source": [
    "ss.isascii()"
   ]
  },
  {
   "cell_type": "code",
   "execution_count": 16,
   "id": "a28125d0",
   "metadata": {},
   "outputs": [
    {
     "data": {
      "text/plain": [
       "13"
      ]
     },
     "execution_count": 16,
     "metadata": {},
     "output_type": "execute_result"
    }
   ],
   "source": [
    "len(ss)"
   ]
  },
  {
   "cell_type": "code",
   "execution_count": 13,
   "id": "6b3ef70d",
   "metadata": {},
   "outputs": [
    {
     "name": "stdout",
     "output_type": "stream",
     "text": [
      "e\n"
     ]
    }
   ],
   "source": [
    "print(ss[1])"
   ]
  },
  {
   "cell_type": "code",
   "execution_count": 15,
   "id": "7941443b",
   "metadata": {},
   "outputs": [
    {
     "data": {
      "text/plain": [
       "11"
      ]
     },
     "execution_count": 15,
     "metadata": {},
     "output_type": "execute_result"
    }
   ],
   "source": [
    "prime_nums = [2, 3, 5, 7, 11, 13, 17, 19, 23, 29, 31]\n",
    "prime_nums[4]"
   ]
  },
  {
   "cell_type": "code",
   "execution_count": 19,
   "id": "f1c9ce9e",
   "metadata": {},
   "outputs": [
    {
     "name": "stdout",
     "output_type": "stream",
     "text": [
      "13\n"
     ]
    }
   ],
   "source": [
    "sz = len(ss)\n",
    "print(sz)"
   ]
  },
  {
   "cell_type": "code",
   "execution_count": 20,
   "id": "3892a1f0",
   "metadata": {
    "scrolled": false
   },
   "outputs": [
    {
     "ename": "IndexError",
     "evalue": "string index out of range",
     "output_type": "error",
     "traceback": [
      "\u001b[1;31m---------------------------------------------------------------------------\u001b[0m",
      "\u001b[1;31mIndexError\u001b[0m                                Traceback (most recent call last)",
      "Input \u001b[1;32mIn [20]\u001b[0m, in \u001b[0;36m<cell line: 1>\u001b[1;34m()\u001b[0m\n\u001b[1;32m----> 1\u001b[0m last \u001b[38;5;241m=\u001b[39m \u001b[43mss\u001b[49m\u001b[43m[\u001b[49m\u001b[43msz\u001b[49m\u001b[43m]\u001b[49m\n",
      "\u001b[1;31mIndexError\u001b[0m: string index out of range"
     ]
    }
   ],
   "source": [
    "last = ss[sz] "
   ]
  },
  {
   "cell_type": "code",
   "execution_count": 21,
   "id": "f7e5988a",
   "metadata": {},
   "outputs": [
    {
     "data": {
      "text/plain": [
       "[(0, 'H'),\n",
       " (1, 'e'),\n",
       " (2, 'l'),\n",
       " (3, 'l'),\n",
       " (4, 'o'),\n",
       " (5, ','),\n",
       " (6, ' '),\n",
       " (7, 'W'),\n",
       " (8, 'o'),\n",
       " (9, 'r'),\n",
       " (10, 'l'),\n",
       " (11, 'd'),\n",
       " (12, '!')]"
      ]
     },
     "execution_count": 21,
     "metadata": {},
     "output_type": "execute_result"
    }
   ],
   "source": [
    "list(enumerate(ss))"
   ]
  },
  {
   "cell_type": "code",
   "execution_count": 22,
   "id": "a1784e46",
   "metadata": {},
   "outputs": [],
   "source": [
    "friends = [\"Ali\", \"Raza\", \"Bilal\", \"Asif\", \"Hassan\", \"Saqib\", \"saleem\"]\n"
   ]
  },
  {
   "cell_type": "code",
   "execution_count": 23,
   "id": "bad9c339",
   "metadata": {},
   "outputs": [
    {
     "data": {
      "text/plain": [
       "'Asif'"
      ]
     },
     "execution_count": 23,
     "metadata": {},
     "output_type": "execute_result"
    }
   ],
   "source": [
    "friends[3]"
   ]
  },
  {
   "cell_type": "code",
   "execution_count": 24,
   "id": "aadbc391",
   "metadata": {},
   "outputs": [
    {
     "data": {
      "text/plain": [
       "[(0, 'Ali'),\n",
       " (1, 'Raza'),\n",
       " (2, 'Bilal'),\n",
       " (3, 'Asif'),\n",
       " (4, 'Hassan'),\n",
       " (5, 'Saqib'),\n",
       " (6, 'saleem')]"
      ]
     },
     "execution_count": 24,
     "metadata": {},
     "output_type": "execute_result"
    }
   ],
   "source": [
    "list(enumerate(friends))"
   ]
  },
  {
   "cell_type": "code",
   "execution_count": 25,
   "id": "0abb5241",
   "metadata": {},
   "outputs": [
    {
     "data": {
      "text/plain": [
       "7"
      ]
     },
     "execution_count": 25,
     "metadata": {},
     "output_type": "execute_result"
    }
   ],
   "source": [
    "len(friends)"
   ]
  },
  {
   "cell_type": "code",
   "execution_count": 30,
   "id": "1b971df5",
   "metadata": {},
   "outputs": [
    {
     "data": {
      "text/plain": [
       "7"
      ]
     },
     "execution_count": 30,
     "metadata": {},
     "output_type": "execute_result"
    }
   ],
   "source": [
    "size=len(friends)\n",
    "size"
   ]
  },
  {
   "cell_type": "code",
   "execution_count": 31,
   "id": "f1710fd4",
   "metadata": {},
   "outputs": [
    {
     "ename": "IndexError",
     "evalue": "list index out of range",
     "output_type": "error",
     "traceback": [
      "\u001b[1;31m---------------------------------------------------------------------------\u001b[0m",
      "\u001b[1;31mIndexError\u001b[0m                                Traceback (most recent call last)",
      "Input \u001b[1;32mIn [31]\u001b[0m, in \u001b[0;36m<cell line: 1>\u001b[1;34m()\u001b[0m\n\u001b[1;32m----> 1\u001b[0m \u001b[43mfriends\u001b[49m\u001b[43m[\u001b[49m\u001b[43msize\u001b[49m\u001b[43m]\u001b[49m\n",
      "\u001b[1;31mIndexError\u001b[0m: list index out of range"
     ]
    }
   ],
   "source": [
    "friends[size] "
   ]
  },
  {
   "cell_type": "code",
   "execution_count": 32,
   "id": "2df10f85",
   "metadata": {},
   "outputs": [
    {
     "data": {
      "text/plain": [
       "'saleem'"
      ]
     },
     "execution_count": 32,
     "metadata": {},
     "output_type": "execute_result"
    }
   ],
   "source": [
    "friends[size-1] "
   ]
  },
  {
   "cell_type": "code",
   "execution_count": 34,
   "id": "7353325a",
   "metadata": {},
   "outputs": [
    {
     "name": "stdout",
     "output_type": "stream",
     "text": [
      "Ali\n",
      "Raza\n",
      "Bilal\n",
      "Asif\n",
      "Hassan\n",
      "Saqib\n",
      "saleem\n"
     ]
    }
   ],
   "source": [
    "ix = 0\n",
    "while ix < len(friends):\n",
    "    letter = friends[ix]\n",
    "    print(letter)\n",
    "    ix += 1"
   ]
  },
  {
   "cell_type": "code",
   "execution_count": 36,
   "id": "90a7a484",
   "metadata": {},
   "outputs": [
    {
     "name": "stdout",
     "output_type": "stream",
     "text": [
      "Ali\n",
      "Raza\n",
      "Bilal\n",
      "Asif\n",
      "Hassan\n",
      "Saqib\n",
      "saleem\n"
     ]
    }
   ],
   "source": [
    "for c in friends:\n",
    "    print(c)"
   ]
  },
  {
   "cell_type": "code",
   "execution_count": 35,
   "id": "fec50b8a",
   "metadata": {},
   "outputs": [
    {
     "name": "stdout",
     "output_type": "stream",
     "text": [
      "2\n",
      "3\n",
      "5\n",
      "7\n",
      "11\n",
      "13\n",
      "17\n",
      "19\n",
      "23\n",
      "29\n",
      "31\n"
     ]
    }
   ],
   "source": [
    "ix = 0\n",
    "while ix < len(prime_nums):\n",
    "    letter = prime_nums[ix]\n",
    "    print(letter)\n",
    "    ix += 1"
   ]
  },
  {
   "cell_type": "code",
   "execution_count": 43,
   "id": "fc0bb56c",
   "metadata": {},
   "outputs": [
    {
     "name": "stdout",
     "output_type": "stream",
     "text": [
      "2   3   5   7   11   13   17   19   23   29   31   "
     ]
    }
   ],
   "source": [
    "for c in prime_nums:\n",
    "    print(c, end='   ')"
   ]
  },
  {
   "cell_type": "code",
   "execution_count": 44,
   "id": "f9b91936",
   "metadata": {},
   "outputs": [
    {
     "name": "stdout",
     "output_type": "stream",
     "text": [
      "Jack\n",
      "Kack\n",
      "Lack\n",
      "Mack\n",
      "Nack\n",
      "Oack\n",
      "Pack\n",
      "Qack\n"
     ]
    }
   ],
   "source": [
    "prefixes = \"JKLMNOPQ\"\n",
    "suffix = \"ack\"\n",
    "\n",
    "for p in prefixes:\n",
    "    print(p + suffix)"
   ]
  },
  {
   "cell_type": "code",
   "execution_count": 46,
   "id": "d9886dff",
   "metadata": {},
   "outputs": [
    {
     "name": "stdout",
     "output_type": "stream",
     "text": [
      "Ali Thanks\n",
      "Raza Thanks\n",
      "Bilal Thanks\n",
      "Asif Thanks\n",
      "Hassan Thanks\n",
      "Saqib Thanks\n",
      "saleem Thanks\n"
     ]
    }
   ],
   "source": [
    "prefixes = friends\n",
    "suffix = \" Thanks\"\n",
    "\n",
    "for p in prefixes:\n",
    "    print(p + suffix)"
   ]
  },
  {
   "cell_type": "markdown",
   "id": "8e141ea2",
   "metadata": {},
   "source": [
    "### String Slicing"
   ]
  },
  {
   "cell_type": "code",
   "execution_count": 47,
   "id": "df5acd5d",
   "metadata": {},
   "outputs": [],
   "source": [
    "s = \"Peter, Paul, and Mary\""
   ]
  },
  {
   "cell_type": "code",
   "execution_count": 48,
   "id": "ff939332",
   "metadata": {},
   "outputs": [
    {
     "name": "stdout",
     "output_type": "stream",
     "text": [
      "Peter\n"
     ]
    }
   ],
   "source": [
    "print(s[0:5])"
   ]
  },
  {
   "cell_type": "code",
   "execution_count": 49,
   "id": "ba1a5438",
   "metadata": {},
   "outputs": [
    {
     "name": "stdout",
     "output_type": "stream",
     "text": [
      "Paul\n"
     ]
    }
   ],
   "source": [
    "print(s[7:11])"
   ]
  },
  {
   "cell_type": "code",
   "execution_count": 50,
   "id": "1f759a5b",
   "metadata": {},
   "outputs": [
    {
     "name": "stdout",
     "output_type": "stream",
     "text": [
      "Mary\n"
     ]
    }
   ],
   "source": [
    "print(s[17:21])"
   ]
  },
  {
   "cell_type": "code",
   "execution_count": 53,
   "id": "c737f093",
   "metadata": {
    "scrolled": true
   },
   "outputs": [
    {
     "name": "stdout",
     "output_type": "stream",
     "text": [
      "['Bilal', 'Asif']\n"
     ]
    }
   ],
   "source": [
    "print(friends[2:4])"
   ]
  },
  {
   "cell_type": "code",
   "execution_count": 55,
   "id": "143d2895",
   "metadata": {},
   "outputs": [
    {
     "name": "stdout",
     "output_type": "stream",
     "text": [
      "['Ali', 'Raza', 'Bilal', 'Asif', 'Hassan', 'Saqib', 'saleem']\n"
     ]
    }
   ],
   "source": [
    "print(friends[:])"
   ]
  },
  {
   "cell_type": "code",
   "execution_count": 58,
   "id": "61e8ea16",
   "metadata": {},
   "outputs": [
    {
     "name": "stdout",
     "output_type": "stream",
     "text": [
      "Yes, we have no bananas!\n"
     ]
    }
   ],
   "source": [
    "word = \"banana\"\n",
    "if word == \"banana\":\n",
    "    print(\"Yes, we have no bananas!\")\n"
   ]
  },
  {
   "cell_type": "code",
   "execution_count": 67,
   "id": "e66030b3",
   "metadata": {},
   "outputs": [
    {
     "name": "stdout",
     "output_type": "stream",
     "text": [
      "Your word, {, comes after banana.\n"
     ]
    }
   ],
   "source": [
    "word=\"{\"\n",
    "if word < \"banana\":\n",
    "    print(\"Your word, \" + word + \", comes before banana.\")\n",
    "elif word > \"banana\":\n",
    "    print(\"Your word, \" + word + \", comes after banana.\")\n",
    "else:\n",
    "    print(\"Yes, we have no bananas!\")"
   ]
  },
  {
   "cell_type": "markdown",
   "id": "8a4fe539",
   "metadata": {},
   "source": [
    "## Strings are immutable\n",
    "\n",
    "### It is tempting to use the [ ] operator on the left side of an assignment, with the intention of changing a character in a string. For example:"
   ]
  },
  {
   "cell_type": "code",
   "execution_count": 1,
   "id": "a141e00f",
   "metadata": {},
   "outputs": [
    {
     "ename": "TypeError",
     "evalue": "'str' object does not support item assignment",
     "output_type": "error",
     "traceback": [
      "\u001b[1;31m---------------------------------------------------------------------------\u001b[0m",
      "\u001b[1;31mTypeError\u001b[0m                                 Traceback (most recent call last)",
      "Input \u001b[1;32mIn [1]\u001b[0m, in \u001b[0;36m<cell line: 2>\u001b[1;34m()\u001b[0m\n\u001b[0;32m      1\u001b[0m greeting \u001b[38;5;241m=\u001b[39m \u001b[38;5;124m\"\u001b[39m\u001b[38;5;124mHello, world!\u001b[39m\u001b[38;5;124m\"\u001b[39m\n\u001b[1;32m----> 2\u001b[0m greeting[\u001b[38;5;241m0\u001b[39m] \u001b[38;5;241m=\u001b[39m \u001b[38;5;124m'\u001b[39m\u001b[38;5;124mJ\u001b[39m\u001b[38;5;124m'\u001b[39m            \u001b[38;5;66;03m# ERROR!\u001b[39;00m\n\u001b[0;32m      3\u001b[0m \u001b[38;5;28mprint\u001b[39m(greeting)\n",
      "\u001b[1;31mTypeError\u001b[0m: 'str' object does not support item assignment"
     ]
    }
   ],
   "source": [
    "greeting = \"Hello, world!\"\n",
    "greeting[0] = 'J'            # ERROR!\n",
    "print(greeting)"
   ]
  },
  {
   "cell_type": "markdown",
   "id": "ed3f8f43",
   "metadata": {},
   "source": [
    "### Strings are immutable, which means you can’t change an existing string. The best you can do is create a new string that is a variation on the original:"
   ]
  },
  {
   "cell_type": "code",
   "execution_count": 2,
   "id": "8ebf9586",
   "metadata": {},
   "outputs": [
    {
     "name": "stdout",
     "output_type": "stream",
     "text": [
      "Jello, world!\n"
     ]
    }
   ],
   "source": [
    "greeting = \"Hello, world!\"\n",
    "new_greeting = \"J\" + greeting[1:]\n",
    "print(new_greeting)"
   ]
  },
  {
   "cell_type": "markdown",
   "id": "aa5b91ad",
   "metadata": {},
   "source": [
    "## in operator"
   ]
  },
  {
   "cell_type": "code",
   "execution_count": 3,
   "id": "75b9b3d3",
   "metadata": {},
   "outputs": [
    {
     "data": {
      "text/plain": [
       "True"
      ]
     },
     "execution_count": 3,
     "metadata": {},
     "output_type": "execute_result"
    }
   ],
   "source": [
    "\"p\" in \"apple\"\n"
   ]
  },
  {
   "cell_type": "code",
   "execution_count": 4,
   "id": "f808f533",
   "metadata": {},
   "outputs": [
    {
     "data": {
      "text/plain": [
       "False"
      ]
     },
     "execution_count": 4,
     "metadata": {},
     "output_type": "execute_result"
    }
   ],
   "source": [
    "\"i\" in \"apple\""
   ]
  },
  {
   "cell_type": "code",
   "execution_count": 5,
   "id": "609afb46",
   "metadata": {},
   "outputs": [
    {
     "data": {
      "text/plain": [
       "True"
      ]
     },
     "execution_count": 5,
     "metadata": {},
     "output_type": "execute_result"
    }
   ],
   "source": [
    "\"ap\" in \"apple\""
   ]
  },
  {
   "cell_type": "code",
   "execution_count": 6,
   "id": "eb89df8f",
   "metadata": {},
   "outputs": [
    {
     "data": {
      "text/plain": [
       "False"
      ]
     },
     "execution_count": 6,
     "metadata": {},
     "output_type": "execute_result"
    }
   ],
   "source": [
    "\"pa\" in \"apple\""
   ]
  },
  {
   "cell_type": "markdown",
   "id": "a53114c1",
   "metadata": {},
   "source": [
    "## string is a substring of itself, and the empty string is a substring of any other string"
   ]
  },
  {
   "cell_type": "code",
   "execution_count": 11,
   "id": "f107499f",
   "metadata": {},
   "outputs": [
    {
     "data": {
      "text/plain": [
       "True"
      ]
     },
     "execution_count": 11,
     "metadata": {},
     "output_type": "execute_result"
    }
   ],
   "source": [
    "\"a\" in \"a\""
   ]
  },
  {
   "cell_type": "code",
   "execution_count": 12,
   "id": "c664b1f3",
   "metadata": {},
   "outputs": [
    {
     "data": {
      "text/plain": [
       "True"
      ]
     },
     "execution_count": 12,
     "metadata": {},
     "output_type": "execute_result"
    }
   ],
   "source": [
    "\"apple\" in \"apple\""
   ]
  },
  {
   "cell_type": "code",
   "execution_count": 13,
   "id": "72c7906d",
   "metadata": {},
   "outputs": [
    {
     "data": {
      "text/plain": [
       "True"
      ]
     },
     "execution_count": 13,
     "metadata": {},
     "output_type": "execute_result"
    }
   ],
   "source": [
    "\"\" in \"a\""
   ]
  },
  {
   "cell_type": "code",
   "execution_count": 14,
   "id": "bf60686f",
   "metadata": {},
   "outputs": [
    {
     "data": {
      "text/plain": [
       "True"
      ]
     },
     "execution_count": 14,
     "metadata": {},
     "output_type": "execute_result"
    }
   ],
   "source": [
    "\"\" in \"apple\""
   ]
  },
  {
   "cell_type": "markdown",
   "id": "b1dae8e2",
   "metadata": {},
   "source": [
    "## not in operator"
   ]
  },
  {
   "cell_type": "code",
   "execution_count": 15,
   "id": "3d752be2",
   "metadata": {},
   "outputs": [
    {
     "data": {
      "text/plain": [
       "True"
      ]
     },
     "execution_count": 15,
     "metadata": {},
     "output_type": "execute_result"
    }
   ],
   "source": [
    "\"x\" not in \"apple\""
   ]
  },
  {
   "cell_type": "markdown",
   "id": "67f472bc",
   "metadata": {},
   "source": [
    "## Combining the in operator with string concatenation using +, we can write a function that removes all the vowels from a string:"
   ]
  },
  {
   "cell_type": "code",
   "execution_count": 16,
   "id": "86469f88",
   "metadata": {},
   "outputs": [],
   "source": [
    "def remove_vowels(s):\n",
    "    vowels = \"aeiouAEIOU\"\n",
    "    s_sans_vowels = \"\"\n",
    "    for x in s:\n",
    "        if x not in vowels:\n",
    "            s_sans_vowels += x\n",
    "    return s_sans_vowels"
   ]
  },
  {
   "cell_type": "code",
   "execution_count": 19,
   "id": "9285c79e",
   "metadata": {},
   "outputs": [
    {
     "data": {
      "text/plain": [
       "'cmpsc'"
      ]
     },
     "execution_count": 19,
     "metadata": {},
     "output_type": "execute_result"
    }
   ],
   "source": [
    "remove_vowels(\"compsci\")"
   ]
  },
  {
   "cell_type": "code",
   "execution_count": 20,
   "id": "cce77c61",
   "metadata": {},
   "outputs": [
    {
     "data": {
      "text/plain": [
       "'bfjps'"
      ]
     },
     "execution_count": 20,
     "metadata": {},
     "output_type": "execute_result"
    }
   ],
   "source": [
    "remove_vowels(\"aAbEefIijOopUus\")"
   ]
  },
  {
   "cell_type": "code",
   "execution_count": null,
   "id": "e990123a",
   "metadata": {},
   "outputs": [],
   "source": []
  },
  {
   "cell_type": "markdown",
   "id": "1ca2ccd1",
   "metadata": {},
   "source": [
    "## find function"
   ]
  },
  {
   "cell_type": "code",
   "execution_count": 21,
   "id": "7c837df6",
   "metadata": {},
   "outputs": [],
   "source": [
    "def find(strng, ch):\n",
    "    \"\"\"\n",
    "      Find and return the index of ch in strng.\n",
    "      Return -1 if ch does not occur in strng.\n",
    "    \"\"\"\n",
    "    ix = 0\n",
    "    while ix < len(strng):\n",
    "        if strng[ix] == ch:\n",
    "            return ix\n",
    "        ix += 1\n",
    "    return -1"
   ]
  },
  {
   "cell_type": "code",
   "execution_count": 22,
   "id": "03dc4698",
   "metadata": {},
   "outputs": [
    {
     "data": {
      "text/plain": [
       "3"
      ]
     },
     "execution_count": 22,
     "metadata": {},
     "output_type": "execute_result"
    }
   ],
   "source": [
    "find(\"Compsci\", \"p\")"
   ]
  },
  {
   "cell_type": "code",
   "execution_count": 23,
   "id": "00e11924",
   "metadata": {},
   "outputs": [
    {
     "data": {
      "text/plain": [
       "6"
      ]
     },
     "execution_count": 23,
     "metadata": {},
     "output_type": "execute_result"
    }
   ],
   "source": [
    "find(\"Compsci\", \"i\")"
   ]
  },
  {
   "cell_type": "code",
   "execution_count": 24,
   "id": "7e808bf1",
   "metadata": {},
   "outputs": [
    {
     "data": {
      "text/plain": [
       "-1"
      ]
     },
     "execution_count": 24,
     "metadata": {},
     "output_type": "execute_result"
    }
   ],
   "source": [
    "find(\"Compsci\", \"x\")"
   ]
  },
  {
   "cell_type": "markdown",
   "id": "247f8c9e",
   "metadata": {},
   "source": [
    "## Looping and counting"
   ]
  },
  {
   "cell_type": "code",
   "execution_count": 25,
   "id": "76bd087f",
   "metadata": {},
   "outputs": [],
   "source": [
    "def count_a(text):\n",
    "    count = 0\n",
    "    for c in text:\n",
    "        if c == \"a\":\n",
    "            count += 1\n",
    "    return(count)"
   ]
  },
  {
   "cell_type": "code",
   "execution_count": 26,
   "id": "f0d21d20",
   "metadata": {},
   "outputs": [
    {
     "data": {
      "text/plain": [
       "3"
      ]
     },
     "execution_count": 26,
     "metadata": {},
     "output_type": "execute_result"
    }
   ],
   "source": [
    "count_a(\"banana\")"
   ]
  },
  {
   "cell_type": "code",
   "execution_count": 27,
   "id": "359820ff",
   "metadata": {},
   "outputs": [],
   "source": [
    "def count_a(text, ch):\n",
    "    count = 0\n",
    "    for c in text:\n",
    "        if c == ch:\n",
    "            count += 1\n",
    "    return(count)"
   ]
  },
  {
   "cell_type": "code",
   "execution_count": 28,
   "id": "bdda10e8",
   "metadata": {},
   "outputs": [
    {
     "data": {
      "text/plain": [
       "3"
      ]
     },
     "execution_count": 28,
     "metadata": {},
     "output_type": "execute_result"
    }
   ],
   "source": [
    "count_a(\"banana\", 'a')"
   ]
  },
  {
   "cell_type": "markdown",
   "id": "17557a40",
   "metadata": {},
   "source": [
    "## find the locations of the second or third occurrence of a character in a string"
   ]
  },
  {
   "cell_type": "code",
   "execution_count": 51,
   "id": "57b83e1b",
   "metadata": {},
   "outputs": [],
   "source": [
    "def find2(strng, ch, start):\n",
    "    ix = start\n",
    "    while ix < len(strng):\n",
    "        if strng[ix] == ch:\n",
    "            return ix\n",
    "        ix += 1\n",
    "    return -1"
   ]
  },
  {
   "cell_type": "code",
   "execution_count": 52,
   "id": "8ee91086",
   "metadata": {},
   "outputs": [
    {
     "data": {
      "text/plain": [
       "5"
      ]
     },
     "execution_count": 52,
     "metadata": {},
     "output_type": "execute_result"
    }
   ],
   "source": [
    "find2(\"banana\", \"a\",4)"
   ]
  },
  {
   "cell_type": "markdown",
   "id": "23188830",
   "metadata": {},
   "source": [
    "### Default Parameter"
   ]
  },
  {
   "cell_type": "code",
   "execution_count": 55,
   "id": "f839ec21",
   "metadata": {},
   "outputs": [],
   "source": [
    "def find3(strng, ch, start=0):\n",
    "    ix = start\n",
    "    while ix < len(strng):\n",
    "        if strng[ix] == ch:\n",
    "            return ix\n",
    "        ix += 1\n",
    "    return -1"
   ]
  },
  {
   "cell_type": "code",
   "execution_count": 56,
   "id": "1d06aa5f",
   "metadata": {},
   "outputs": [
    {
     "data": {
      "text/plain": [
       "5"
      ]
     },
     "execution_count": 56,
     "metadata": {},
     "output_type": "execute_result"
    }
   ],
   "source": [
    "find3(\"banana\", \"a\",4)"
   ]
  },
  {
   "cell_type": "code",
   "execution_count": 58,
   "id": "a5e70f8c",
   "metadata": {},
   "outputs": [
    {
     "data": {
      "text/plain": [
       "1"
      ]
     },
     "execution_count": 58,
     "metadata": {},
     "output_type": "execute_result"
    }
   ],
   "source": [
    "find3(\"banana\", \"a\")"
   ]
  },
  {
   "cell_type": "markdown",
   "id": "4dba2dcc",
   "metadata": {},
   "source": [
    "### End parameter"
   ]
  },
  {
   "cell_type": "code",
   "execution_count": 59,
   "id": "589a212b",
   "metadata": {},
   "outputs": [],
   "source": [
    "def find4(strng, ch, start=0, end=None):\n",
    "    ix = start\n",
    "    if end is None:\n",
    "       end = len(strng)\n",
    "    while ix < end:\n",
    "        if strng[ix] == ch:\n",
    "            return ix\n",
    "        ix += 1\n",
    "    return -1"
   ]
  },
  {
   "cell_type": "code",
   "execution_count": 67,
   "id": "d6b8d445",
   "metadata": {},
   "outputs": [
    {
     "data": {
      "text/plain": [
       "-1"
      ]
     },
     "execution_count": 67,
     "metadata": {},
     "output_type": "execute_result"
    }
   ],
   "source": [
    "find4(\"appleab\", \"a\",1,4)"
   ]
  },
  {
   "cell_type": "markdown",
   "id": "bf1f2d86",
   "metadata": {},
   "source": [
    "### All locations"
   ]
  },
  {
   "cell_type": "code",
   "execution_count": 43,
   "id": "1c3a880f",
   "metadata": {},
   "outputs": [],
   "source": [
    "def find2(strng, ch):\n",
    "    ix = 0\n",
    "    loc=[]\n",
    "    while ix < len(strng):\n",
    "        if strng[ix] == ch:\n",
    "            loc.append(ix)\n",
    "            \n",
    "        ix += 1\n",
    "    return loc\n",
    "    #return -1"
   ]
  },
  {
   "cell_type": "code",
   "execution_count": 46,
   "id": "aaf051cc",
   "metadata": {},
   "outputs": [
    {
     "data": {
      "text/plain": [
       "[1, 3, 5]"
      ]
     },
     "execution_count": 46,
     "metadata": {},
     "output_type": "execute_result"
    }
   ],
   "source": [
    "find2(\"banana\", \"a\")"
   ]
  },
  {
   "cell_type": "code",
   "execution_count": 70,
   "id": "d1f4e743",
   "metadata": {},
   "outputs": [
    {
     "data": {
      "text/plain": [
       "7"
      ]
     },
     "execution_count": 70,
     "metadata": {},
     "output_type": "execute_result"
    }
   ],
   "source": [
    "str1 = \"Python strings have some interesting methods.\"\n",
    "find(str1, \"s\")"
   ]
  },
  {
   "cell_type": "code",
   "execution_count": 71,
   "id": "bde937b6",
   "metadata": {},
   "outputs": [
    {
     "data": {
      "text/plain": [
       "7"
      ]
     },
     "execution_count": 71,
     "metadata": {},
     "output_type": "execute_result"
    }
   ],
   "source": [
    "str1.find(\"s\")"
   ]
  },
  {
   "cell_type": "code",
   "execution_count": 72,
   "id": "7fad6e43",
   "metadata": {},
   "outputs": [
    {
     "data": {
      "text/plain": [
       "7"
      ]
     },
     "execution_count": 72,
     "metadata": {},
     "output_type": "execute_result"
    }
   ],
   "source": [
    "str1.find(\"s\", 7)"
   ]
  },
  {
   "cell_type": "code",
   "execution_count": 73,
   "id": "2a9af0f5",
   "metadata": {},
   "outputs": [
    {
     "data": {
      "text/plain": [
       "13"
      ]
     },
     "execution_count": 73,
     "metadata": {},
     "output_type": "execute_result"
    }
   ],
   "source": [
    "str1.find(\"s\", 8)"
   ]
  },
  {
   "cell_type": "code",
   "execution_count": 74,
   "id": "a3e1487b",
   "metadata": {},
   "outputs": [
    {
     "data": {
      "text/plain": [
       "-1"
      ]
     },
     "execution_count": 74,
     "metadata": {},
     "output_type": "execute_result"
    }
   ],
   "source": [
    "str1.find(\"s\", 8, 13)"
   ]
  },
  {
   "cell_type": "code",
   "execution_count": 77,
   "id": "21a4b376",
   "metadata": {},
   "outputs": [
    {
     "data": {
      "text/plain": [
       "44"
      ]
     },
     "execution_count": 77,
     "metadata": {},
     "output_type": "execute_result"
    }
   ],
   "source": [
    "str1.find(\".\")"
   ]
  },
  {
   "cell_type": "code",
   "execution_count": 76,
   "id": "99de5dc4",
   "metadata": {},
   "outputs": [
    {
     "data": {
      "text/plain": [
       "44"
      ]
     },
     "execution_count": 76,
     "metadata": {},
     "output_type": "execute_result"
    }
   ],
   "source": [
    "len(str1)-1"
   ]
  },
  {
   "cell_type": "markdown",
   "id": "2782ecdb",
   "metadata": {},
   "source": [
    "### Split String"
   ]
  },
  {
   "cell_type": "code",
   "execution_count": 78,
   "id": "93b0cd83",
   "metadata": {},
   "outputs": [],
   "source": [
    "wds = str1.split()"
   ]
  },
  {
   "cell_type": "code",
   "execution_count": 87,
   "id": "4b1dec5c",
   "metadata": {},
   "outputs": [
    {
     "data": {
      "text/plain": [
       "['Python', 'strings', 'have', 'some', 'interesting', 'methods.']"
      ]
     },
     "execution_count": 87,
     "metadata": {},
     "output_type": "execute_result"
    }
   ],
   "source": [
    "wds"
   ]
  },
  {
   "cell_type": "code",
   "execution_count": 88,
   "id": "9303f502",
   "metadata": {},
   "outputs": [],
   "source": [
    "str2= \" have - a - nice time - Raza\""
   ]
  },
  {
   "cell_type": "code",
   "execution_count": 91,
   "id": "851d8c2f",
   "metadata": {},
   "outputs": [],
   "source": [
    "wds = str2.split('-')"
   ]
  },
  {
   "cell_type": "code",
   "execution_count": 92,
   "id": "33836662",
   "metadata": {},
   "outputs": [
    {
     "data": {
      "text/plain": [
       "[' have, a , nice time, Raza']"
      ]
     },
     "execution_count": 92,
     "metadata": {},
     "output_type": "execute_result"
    }
   ],
   "source": [
    "wds"
   ]
  },
  {
   "cell_type": "markdown",
   "id": "fb8d8f58",
   "metadata": {},
   "source": [
    "### Cleaning up your strings"
   ]
  },
  {
   "cell_type": "code",
   "execution_count": 80,
   "id": "f89b5f02",
   "metadata": {},
   "outputs": [],
   "source": [
    "punctuation = \"!\\\"#$%&'()*+,-./:;<=>?@[\\\\]^_`{|}~\"\n",
    "\n",
    "def remove_punctuation2(s):\n",
    "    s_sans_punct = \"\"\n",
    "    for letter in s:\n",
    "        if letter not in punctuation:\n",
    "            s_sans_punct += letter\n",
    "    return s_sans_punct"
   ]
  },
  {
   "cell_type": "code",
   "execution_count": 81,
   "id": "5c3856f7",
   "metadata": {},
   "outputs": [
    {
     "data": {
      "text/plain": [
       "'Well I never did said Alice'"
      ]
     },
     "execution_count": 81,
     "metadata": {},
     "output_type": "execute_result"
    }
   ],
   "source": [
    "remove_punctuation2('\"Well, I never did!\", said Alice.')"
   ]
  },
  {
   "cell_type": "code",
   "execution_count": null,
   "id": "23c00733",
   "metadata": {},
   "outputs": [],
   "source": []
  },
  {
   "cell_type": "code",
   "execution_count": null,
   "id": "57a800ea",
   "metadata": {},
   "outputs": [],
   "source": []
  },
  {
   "cell_type": "code",
   "execution_count": 84,
   "id": "65ad456e",
   "metadata": {},
   "outputs": [],
   "source": [
    "import string\n",
    "\n",
    "def remove_punctuation(s):\n",
    "    s_without_punct = \"\"\n",
    "    for letter in s:\n",
    "        if letter not in string.punctuation:\n",
    "            s_without_punct += letter\n",
    "    return s_without_punct"
   ]
  },
  {
   "cell_type": "code",
   "execution_count": 85,
   "id": "6c95b1d7",
   "metadata": {},
   "outputs": [
    {
     "data": {
      "text/plain": [
       "'Well I never did said Alice'"
      ]
     },
     "execution_count": 85,
     "metadata": {},
     "output_type": "execute_result"
    }
   ],
   "source": [
    "remove_punctuation('\"Well, I never did!\", said Alice.')"
   ]
  },
  {
   "cell_type": "code",
   "execution_count": 86,
   "id": "a75dc847",
   "metadata": {},
   "outputs": [
    {
     "data": {
      "text/plain": [
       "'!\"#$%&\\'()*+,-./:;<=>?@[\\\\]^_`{|}~'"
      ]
     },
     "execution_count": 86,
     "metadata": {},
     "output_type": "execute_result"
    }
   ],
   "source": [
    "string.punctuation"
   ]
  },
  {
   "cell_type": "code",
   "execution_count": 94,
   "id": "78d5d68e",
   "metadata": {},
   "outputs": [
    {
     "name": "stdout",
     "output_type": "stream",
     "text": [
      "['Pythons', 'are', 'constrictors', 'which', 'means', 'that', 'they', 'will', 'squeeze', 'the', 'life', 'out', 'of', 'their', 'prey', 'They', 'coil', 'themselves', 'around', 'their', 'prey', 'and', 'with', 'each', 'breath', 'the', 'creature', 'takes', 'the', 'snake', 'will', 'squeeze', 'a', 'little', 'tighter', 'until', 'they', 'stop', 'breathing', 'completely', 'Once', 'the', 'heart', 'stops', 'the', 'prey', 'is', 'swallowed', 'whole', 'The', 'entire', 'animal', 'is', 'digested', 'in', 'the', 'snakes', 'stomach', 'except', 'for', 'fur', 'or', 'feathers', 'What', 'do', 'you', 'think', 'happens', 'to', 'the', 'fur', 'feathers', 'beaks', 'and', 'eggshells', 'The', 'extra', 'stuff', 'gets', 'passed', 'out', 'as', 'you', 'guessed', 'it', 'snake', 'POOP']\n"
     ]
    }
   ],
   "source": [
    "my_story = \"\"\"\n",
    "Pythons are constrictors, which means - that they will 'squeeze' the life\n",
    "out of their prey. They coil themselves around their prey and with\n",
    "each breath the creature takes the snake will squeeze a little tighter\n",
    "until they stop breathing completely. Once the heart stops the prey\n",
    "is swallowed whole. The entire animal is digested in the snake's\n",
    "stomach except for fur or feathers. What do you think happens to the fur,\n",
    "feathers, beaks, and eggshells? The 'extra stuff' gets passed out as ---\n",
    "you guessed it --- snake POOP! \"\"\"\n",
    "\n",
    "wds = remove_punctuation(my_story).split()\n",
    "print(wds)"
   ]
  },
  {
   "cell_type": "markdown",
   "id": "e7b8d20d",
   "metadata": {},
   "source": [
    "## The string format method\n",
    "### The template string contains place holders,\n",
    "### ... {0} ... {1} ... {2} ... etc."
   ]
  },
  {
   "cell_type": "code",
   "execution_count": 95,
   "id": "5a217eaa",
   "metadata": {},
   "outputs": [
    {
     "name": "stdout",
     "output_type": "stream",
     "text": [
      "His name is Arthur!\n"
     ]
    }
   ],
   "source": [
    "s1 = \"His name is {0}!\".format(\"Arthur\")\n",
    "print(s1)"
   ]
  },
  {
   "cell_type": "code",
   "execution_count": 96,
   "id": "6809f3b1",
   "metadata": {},
   "outputs": [
    {
     "name": "stdout",
     "output_type": "stream",
     "text": [
      "I am Alice and I am 10 years old.\n"
     ]
    }
   ],
   "source": [
    "name = \"Alice\"\n",
    "age = 10\n",
    "s2 = \"I am {1} and I am {0} years old.\".format(age, name)\n",
    "print(s2)"
   ]
  },
  {
   "cell_type": "code",
   "execution_count": 99,
   "id": "e4424210",
   "metadata": {},
   "outputs": [
    {
     "name": "stdout",
     "output_type": "stream",
     "text": [
      "2**10 = 1024 and 4 * 5 = 20.000000\n"
     ]
    }
   ],
   "source": [
    "n1 = 4\n",
    "n2 = 5\n",
    "s3 = \"2**10 = {0} and {1} * {2} = {3:f}\".format(2**10, n1, n2, n1 * n2)\n",
    "print(s3)"
   ]
  },
  {
   "cell_type": "code",
   "execution_count": 100,
   "id": "20f4b252",
   "metadata": {},
   "outputs": [
    {
     "name": "stdout",
     "output_type": "stream",
     "text": [
      "\n",
      "Dear Paris Hilton.\n",
      " Paris, I have an interesting money-making proposition for you!\n",
      " If you deposit $10 million into my bank account, I can\n",
      " double your money ...\n",
      "\n"
     ]
    }
   ],
   "source": [
    "letter = \"\"\"\n",
    "Dear {0} {2}.\n",
    " {0}, I have an interesting money-making proposition for you!\n",
    " If you deposit $10 million into my bank account, I can\n",
    " double your money ...\n",
    "\"\"\"\n",
    "\n",
    "print(letter.format(\"Paris\", \"Whitney\", \"Hilton\"))\n"
   ]
  },
  {
   "cell_type": "code",
   "execution_count": 101,
   "id": "3b43aefd",
   "metadata": {},
   "outputs": [
    {
     "name": "stdout",
     "output_type": "stream",
     "text": [
      "\n",
      "Dear Bill Gates.\n",
      " Bill, I have an interesting money-making proposition for you!\n",
      " If you deposit $10 million into my bank account, I can\n",
      " double your money ...\n",
      "\n"
     ]
    }
   ],
   "source": [
    "print(letter.format(\"Bill\", \"Henry\", \"Gates\"))"
   ]
  },
  {
   "cell_type": "code",
   "execution_count": 102,
   "id": "208115c6",
   "metadata": {},
   "outputs": [
    {
     "name": "stdout",
     "output_type": "stream",
     "text": [
      "Pi to three decimal places is 3.142\n"
     ]
    }
   ],
   "source": [
    "print(\"Pi to three decimal places is {0:.3f}\".format(3.1415926))"
   ]
  },
  {
   "cell_type": "markdown",
   "id": "713fa070",
   "metadata": {},
   "source": [
    "#### Left Right Center\n"
   ]
  },
  {
   "cell_type": "code",
   "execution_count": 107,
   "id": "64827e8c",
   "metadata": {},
   "outputs": [
    {
     "name": "stdout",
     "output_type": "stream",
     "text": [
      "|||Paris          |||    Whitney    |||         Hilton|||Born in 1981|||\n"
     ]
    }
   ],
   "source": [
    "n1 = \"Paris\"\n",
    "n2 = \"Whitney\"\n",
    "n3 = \"Hilton\"\n",
    "\n",
    "print(\"|||{0:<15}|||{1:^15}|||{2:>15}|||Born in {3}|||\".format(n1,n2,n3,1981))"
   ]
  },
  {
   "cell_type": "code",
   "execution_count": 108,
   "id": "13a01708",
   "metadata": {},
   "outputs": [
    {
     "name": "stdout",
     "output_type": "stream",
     "text": [
      "i\ti**2\ti**3\ti**5\ti**10\ti**20\n",
      "1 \t 1 \t 1 \t 1 \t 1 \t 1\n",
      "2 \t 4 \t 8 \t 32 \t 1024 \t 1048576\n",
      "3 \t 9 \t 27 \t 243 \t 59049 \t 3486784401\n",
      "4 \t 16 \t 64 \t 1024 \t 1048576 \t 1099511627776\n",
      "5 \t 25 \t 125 \t 3125 \t 9765625 \t 95367431640625\n",
      "6 \t 36 \t 216 \t 7776 \t 60466176 \t 3656158440062976\n",
      "7 \t 49 \t 343 \t 16807 \t 282475249 \t 79792266297612001\n",
      "8 \t 64 \t 512 \t 32768 \t 1073741824 \t 1152921504606846976\n",
      "9 \t 81 \t 729 \t 59049 \t 3486784401 \t 12157665459056928801\n",
      "10 \t 100 \t 1000 \t 100000 \t 10000000000 \t 100000000000000000000\n"
     ]
    }
   ],
   "source": [
    "print(\"i\\ti**2\\ti**3\\ti**5\\ti**10\\ti**20\")\n",
    "for i in range(1, 11):\n",
    "    print(i, \"\\t\", i**2, \"\\t\", i**3, \"\\t\", i**5, \"\\t\",\n",
    "                                            i**10, \"\\t\", i**20)"
   ]
  },
  {
   "cell_type": "code",
   "execution_count": 109,
   "id": "ecc42a37",
   "metadata": {},
   "outputs": [
    {
     "name": "stdout",
     "output_type": "stream",
     "text": [
      "   i  i**2  i**3    i**5        i**10                   i**20\n",
      "   1     1     1       1            1                       1\n",
      "   2     4     8      32         1024                 1048576\n",
      "   3     9    27     243        59049              3486784401\n",
      "   4    16    64    1024      1048576           1099511627776\n",
      "   5    25   125    3125      9765625          95367431640625\n",
      "   6    36   216    7776     60466176        3656158440062976\n",
      "   7    49   343   16807    282475249       79792266297612001\n",
      "   8    64   512   32768   1073741824     1152921504606846976\n",
      "   9    81   729   59049   3486784401    12157665459056928801\n",
      "  10   100  1000  100000  10000000000   100000000000000000000\n"
     ]
    }
   ],
   "source": [
    "layout = \"{0:>4}{1:>6}{2:>6}{3:>8}{4:>13}{5:>24}\"\n",
    "\n",
    "print(layout.format(\"i\", \"i**2\", \"i**3\", \"i**5\", \"i**10\", \"i**20\"))\n",
    "for i in range(1, 11):\n",
    "    print(layout.format(i, i**2, i**3, i**5, i**10, i**20))"
   ]
  },
  {
   "cell_type": "code",
   "execution_count": 112,
   "id": "b3d1eb29",
   "metadata": {},
   "outputs": [
    {
     "name": "stdout",
     "output_type": "stream",
     "text": [
      "ytisrevinU\n"
     ]
    }
   ],
   "source": [
    "str2= \"University\"\n",
    "print(str2[::-1])"
   ]
  },
  {
   "cell_type": "code",
   "execution_count": null,
   "id": "ce47e523",
   "metadata": {},
   "outputs": [],
   "source": []
  }
 ],
 "metadata": {
  "kernelspec": {
   "display_name": "Python 3 (ipykernel)",
   "language": "python",
   "name": "python3"
  },
  "language_info": {
   "codemirror_mode": {
    "name": "ipython",
    "version": 3
   },
   "file_extension": ".py",
   "mimetype": "text/x-python",
   "name": "python",
   "nbconvert_exporter": "python",
   "pygments_lexer": "ipython3",
   "version": "3.9.13"
  }
 },
 "nbformat": 4,
 "nbformat_minor": 5
}
