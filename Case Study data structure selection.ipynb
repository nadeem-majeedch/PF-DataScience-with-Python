{
 "metadata": {
  "name": "",
  "signature": "sha256:f93b3fc17bd1b32bdb0b589b6457be0f085db79438c712475696e336b2daa824"
 },
 "nbformat": 3,
 "nbformat_minor": 0,
 "worksheets": [
  {
   "cells": [
    {
     "cell_type": "heading",
     "level": 1,
     "metadata": {},
     "source": [
      "Case Study: data structure selection"
     ]
    },
    {
     "cell_type": "heading",
     "level": 2,
     "metadata": {},
     "source": [
      "Random numbers"
     ]
    },
    {
     "cell_type": "markdown",
     "metadata": {},
     "source": [
      "The function `random` returns a random float between 0.0 and 1.0 (including 0.0 but not 1.0). Each time you call `random`, you get the next number in a long series."
     ]
    },
    {
     "cell_type": "code",
     "collapsed": false,
     "input": [
      "import random\n",
      "for i in range(5):\n",
      "    x = random.random()\n",
      "    print x"
     ],
     "language": "python",
     "metadata": {},
     "outputs": [
      {
       "output_type": "stream",
       "stream": "stdout",
       "text": [
        "0.000633928603449\n",
        "0.265159031398\n",
        "0.673658475705\n",
        "0.97700967404\n",
        "0.664440910288\n"
       ]
      }
     ],
     "prompt_number": 6
    },
    {
     "cell_type": "markdown",
     "metadata": {},
     "source": [
      "The function `randint` takes parameters low and high and returns an integer between low and high (including both)."
     ]
    },
    {
     "cell_type": "code",
     "collapsed": false,
     "input": [
      "print random.randint(5, 10)\n",
      "print random.randint(5, 10)"
     ],
     "language": "python",
     "metadata": {},
     "outputs": [
      {
       "output_type": "stream",
       "stream": "stdout",
       "text": [
        "5\n",
        "7\n"
       ]
      }
     ],
     "prompt_number": 4
    },
    {
     "cell_type": "markdown",
     "metadata": {},
     "source": [
      "To choose an element from a sequence at random, you can use `choice`:"
     ]
    },
    {
     "cell_type": "code",
     "collapsed": false,
     "input": [
      "t = [1, 2, 3]\n",
      "random.choice(t)"
     ],
     "language": "python",
     "metadata": {},
     "outputs": [
      {
       "metadata": {},
       "output_type": "pyout",
       "prompt_number": 5,
       "text": [
        "2"
       ]
      }
     ],
     "prompt_number": 5
    },
    {
     "cell_type": "heading",
     "level": 2,
     "metadata": {},
     "source": [
      "Word histogram"
     ]
    },
    {
     "cell_type": "markdown",
     "metadata": {},
     "source": [
      "Here is a program that reads a file and builds a histogram of the words in the file:"
     ]
    },
    {
     "cell_type": "code",
     "collapsed": false,
     "input": [
      "import string\n",
      "\n",
      "def process_file(filename):\n",
      "    hist = dict()\n",
      "    fp = open(filename)\n",
      "    for line in fp:\n",
      "        process_line(line, hist)\n",
      "    return hist\n",
      "\n",
      "def process_line(line, hist):\n",
      "    \"\"\"Adds the words in the line to the histogram.\n",
      "    Modifies hist.\n",
      "    line: string\n",
      "    hist = histogram (map from word to frequency)\n",
      "    \"\"\"\n",
      "    # replace hyphens with spaces before splitting\n",
      "    line = line.replace('-', ' ')\n",
      "    \n",
      "    for word in line.split():\n",
      "        # remove punctuation and convert to lowercase\n",
      "        word = word.strip(string.punctuation + string.whitespace)\n",
      "        word = word.lower()\n",
      "        \n",
      "        # update the histogram\n",
      "        hist[word] = hist.get(word,0) + 1\n",
      "\n",
      "hist = process_file('emma.txt')"
     ],
     "language": "python",
     "metadata": {},
     "outputs": [],
     "prompt_number": 21
    },
    {
     "cell_type": "markdown",
     "metadata": {},
     "source": [
      "`process_file` loops through the lines of the file, passing them one at a time to `process_line`. The histogram hist is being used as an accumulator."
     ]
    },
    {
     "cell_type": "markdown",
     "metadata": {},
     "source": [
      "`process_line` traverses the list of words and uses `strip` and `lower` to remove punctuation and convert to lower case. Finally, `process_line` updates the histogram by creating a new item or incrementing an existing one."
     ]
    },
    {
     "cell_type": "markdown",
     "metadata": {},
     "source": [
      "To count the total number of words in the file, we can add up the frequencies in the histogram:"
     ]
    },
    {
     "cell_type": "code",
     "collapsed": false,
     "input": [
      "def total_words(hist):\n",
      "    return sum(hist.values())"
     ],
     "language": "python",
     "metadata": {},
     "outputs": [],
     "prompt_number": 22
    },
    {
     "cell_type": "markdown",
     "metadata": {},
     "source": [
      "The number of different words is just the number of **items** in the dictionary:"
     ]
    },
    {
     "cell_type": "code",
     "collapsed": false,
     "input": [
      "def different_words(hist):\n",
      "    return len(hist)"
     ],
     "language": "python",
     "metadata": {},
     "outputs": [],
     "prompt_number": 12
    },
    {
     "cell_type": "code",
     "collapsed": false,
     "input": [
      "print 'Total number of words:', total_words(hist)\n",
      "print 'Number of different words:', different_words(hist)"
     ],
     "language": "python",
     "metadata": {},
     "outputs": [
      {
       "output_type": "stream",
       "stream": "stdout",
       "text": [
        "Total number of words: 162742\n",
        "Number of different words: 7460\n"
       ]
      }
     ],
     "prompt_number": 23
    },
    {
     "cell_type": "heading",
     "level": 2,
     "metadata": {},
     "source": [
      "Most common words"
     ]
    },
    {
     "cell_type": "markdown",
     "metadata": {},
     "source": [
      "`most_common` takes a histogram and returns a list of word-frequency tuples, sorted in reverse order by frequency"
     ]
    },
    {
     "cell_type": "code",
     "collapsed": false,
     "input": [
      "def most_common(hist):\n",
      "    t = []\n",
      "    for key, value in hist.items():\n",
      "        t.append((value, key))\n",
      "    \n",
      "    t.sort(reverse=True)\n",
      "    return t"
     ],
     "language": "python",
     "metadata": {},
     "outputs": [],
     "prompt_number": 26
    },
    {
     "cell_type": "markdown",
     "metadata": {},
     "source": [
      "Here is a loop that prints the ten most common words in the \"Emma\" novel:"
     ]
    },
    {
     "cell_type": "code",
     "collapsed": false,
     "input": [
      "t = most_common(hist)\n",
      "print 'The most common words are:'\n",
      "for freq, word in t[0:10]:\n",
      "    print word, '\\t', freq"
     ],
     "language": "python",
     "metadata": {},
     "outputs": [
      {
       "output_type": "stream",
       "stream": "stdout",
       "text": [
        "The most common words are:\n",
        "to \t5295\n",
        "the \t5266\n",
        "and \t4931\n",
        "of \t4339\n",
        "i \t3191\n",
        "a \t3155\n",
        "it \t2546\n",
        "her \t2483\n",
        "was \t2400\n",
        "she \t2364\n"
       ]
      }
     ],
     "prompt_number": 33
    },
    {
     "cell_type": "markdown",
     "metadata": {},
     "source": [
      "For **optional arguments**, here is a function that prints the most common words in a histogram. The first parameter is required; the second is optional. The default value of `num` is 10"
     ]
    },
    {
     "cell_type": "code",
     "collapsed": false,
     "input": [
      "def print_most_common(hist, num=10):\n",
      "    t = most_common(hist)\n",
      "    print 'The most common words are:'\n",
      "    for freq, word in t[:num]:\n",
      "        print word, '\\t', freq"
     ],
     "language": "python",
     "metadata": {},
     "outputs": []
    },
    {
     "cell_type": "heading",
     "level": 2,
     "metadata": {},
     "source": [
      "Dictionary subtraction"
     ]
    },
    {
     "cell_type": "markdown",
     "metadata": {},
     "source": [
      "Finding the words from the book that are not in the word list from words.txt is a problem you might recognize as set subtraction"
     ]
    },
    {
     "cell_type": "markdown",
     "metadata": {},
     "source": [
      "`subtract` takes dictionaries **d1** and **d2** and returns a new dictionary that contains all the keys from d1 that are not in d2."
     ]
    },
    {
     "cell_type": "code",
     "collapsed": false,
     "input": [
      "def subtract(d1, d2):\n",
      "    res = dict()\n",
      "    for key in d1:\n",
      "        if key not in d2:\n",
      "            res[key] = None\n",
      "    return res"
     ],
     "language": "python",
     "metadata": {},
     "outputs": [],
     "prompt_number": 35
    },
    {
     "cell_type": "markdown",
     "metadata": {},
     "source": [
      "To find the words in the book that are not in words.txt, we can use `process_file` to build a histogram for words.txt, and then subtract:"
     ]
    },
    {
     "cell_type": "code",
     "collapsed": false,
     "input": [
      "words = process_file('words.txt')\n",
      "diff = subtract(hist, words)"
     ],
     "language": "python",
     "metadata": {},
     "outputs": [],
     "prompt_number": 37
    },
    {
     "cell_type": "markdown",
     "metadata": {},
     "source": [
      "More easily, this can be done using `sets`"
     ]
    },
    {
     "cell_type": "code",
     "collapsed": false,
     "input": [
      "def subtract(d1, d2):\n",
      "    return set(d1) - set(d2)"
     ],
     "language": "python",
     "metadata": {},
     "outputs": [],
     "prompt_number": 44
    },
    {
     "cell_type": "heading",
     "level": 2,
     "metadata": {},
     "source": [
      "Random words"
     ]
    },
    {
     "cell_type": "markdown",
     "metadata": {},
     "source": [
      "The **random_word** function chooses a random word from a histogram. The probability of each word is proportional to its frequency."
     ]
    },
    {
     "cell_type": "markdown",
     "metadata": {},
     "source": [
      "A simple and inefficient algorithm is to build a list with multiple copies of each word, according to the observed frequency, and then choose from\n",
      "the list:"
     ]
    },
    {
     "cell_type": "code",
     "collapsed": false,
     "input": [
      "def random_word(hist):\n",
      "    t = []\n",
      "    for word, freq in hist.items():\n",
      "        t.extend([word] * freq)\n",
      "    return random.choice(t)"
     ],
     "language": "python",
     "metadata": {},
     "outputs": []
    },
    {
     "cell_type": "markdown",
     "metadata": {},
     "source": [
      "The expression `[word] * freq` creates a list with `freq` copies of the string word. The `extend` method is similar to `append` except that the argument is a sequence."
     ]
    },
    {
     "cell_type": "markdown",
     "metadata": {},
     "source": [
      "A faster way is to compute the cummulative frequencies once and reuse them:"
     ]
    },
    {
     "cell_type": "code",
     "collapsed": false,
     "input": [
      "from bisect import bisect\n",
      "\n",
      "words = []\n",
      "freqs = []\n",
      "total_freq = 0\n",
      "\n",
      "# make a list of words and a list of cumulative frequencies\n",
      "for word, freq in hist.items():\n",
      "    total_freq += freq\n",
      "    words.append(word)\n",
      "    freqs.append(total_freq)\n",
      "\n",
      "# choose a random value and find its location in the cumulative list\n",
      "x = random.randint(0, total_freq - 1)\n",
      "index = bisect(freq, x)\n",
      "return words[index]"
     ],
     "language": "python",
     "metadata": {},
     "outputs": [
      {
       "ename": "TypeError",
       "evalue": "object of type 'int' has no len()",
       "output_type": "pyerr",
       "traceback": [
        "\u001b[1;31m---------------------------------------------------------------------------\u001b[0m\n\u001b[1;31mTypeError\u001b[0m                                 Traceback (most recent call last)",
        "\u001b[1;32m<ipython-input-48-a0df45ac8bfa>\u001b[0m in \u001b[0;36m<module>\u001b[1;34m()\u001b[0m\n\u001b[0;32m     13\u001b[0m \u001b[1;31m# choose a random value and find its location in the cumulative list\u001b[0m\u001b[1;33m\u001b[0m\u001b[1;33m\u001b[0m\u001b[0m\n\u001b[0;32m     14\u001b[0m \u001b[0mx\u001b[0m \u001b[1;33m=\u001b[0m \u001b[0mrandom\u001b[0m\u001b[1;33m.\u001b[0m\u001b[0mrandint\u001b[0m\u001b[1;33m(\u001b[0m\u001b[1;36m0\u001b[0m\u001b[1;33m,\u001b[0m \u001b[0mtotal_freq\u001b[0m \u001b[1;33m-\u001b[0m \u001b[1;36m1\u001b[0m\u001b[1;33m)\u001b[0m\u001b[1;33m\u001b[0m\u001b[0m\n\u001b[1;32m---> 15\u001b[1;33m \u001b[0mindex\u001b[0m \u001b[1;33m=\u001b[0m \u001b[0mbisect\u001b[0m\u001b[1;33m(\u001b[0m\u001b[0mfreq\u001b[0m\u001b[1;33m,\u001b[0m \u001b[0mx\u001b[0m\u001b[1;33m)\u001b[0m\u001b[1;33m\u001b[0m\u001b[0m\n\u001b[0m\u001b[0;32m     16\u001b[0m \u001b[1;32mreturn\u001b[0m \u001b[0mwords\u001b[0m\u001b[1;33m[\u001b[0m\u001b[0mindex\u001b[0m\u001b[1;33m]\u001b[0m\u001b[1;33m\u001b[0m\u001b[0m\n",
        "\u001b[1;31mTypeError\u001b[0m: object of type 'int' has no len()"
       ]
      }
     ],
     "prompt_number": 48
    }
   ],
   "metadata": {}
  }
 ]
}
