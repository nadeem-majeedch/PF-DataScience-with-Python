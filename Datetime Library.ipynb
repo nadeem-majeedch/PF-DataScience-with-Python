{
 "metadata": {
  "name": "",
  "signature": "sha256:7bb2c61c97a5faef69b989f6bb0516caa04653c71bef5ce5751034981fbfc7b2"
 },
 "nbformat": 3,
 "nbformat_minor": 0,
 "worksheets": [
  {
   "cells": [
    {
     "cell_type": "code",
     "collapsed": false,
     "input": [
      "from datetime import datetime"
     ],
     "language": "python",
     "metadata": {},
     "outputs": [],
     "prompt_number": 1
    },
    {
     "cell_type": "code",
     "collapsed": false,
     "input": [
      "now = datetime.now()\n",
      "print now"
     ],
     "language": "python",
     "metadata": {},
     "outputs": [
      {
       "output_type": "stream",
       "stream": "stdout",
       "text": [
        "2014-07-08 12:34:52.447000\n"
       ]
      }
     ],
     "prompt_number": 2
    },
    {
     "cell_type": "code",
     "collapsed": false,
     "input": [
      "current_year = now.year\n",
      "current_month = now.month\n",
      "current_day = now.day\n",
      "\n",
      "print now.year\n",
      "print now.month\n",
      "print now.day"
     ],
     "language": "python",
     "metadata": {},
     "outputs": [
      {
       "output_type": "stream",
       "stream": "stdout",
       "text": [
        "2014\n",
        "7\n",
        "8\n"
       ]
      }
     ],
     "prompt_number": 5
    },
    {
     "cell_type": "markdown",
     "metadata": {},
     "source": [
      "We want to print today's date in the following format? mm/dd/yyyy. Let's use string substitution"
     ]
    },
    {
     "cell_type": "code",
     "collapsed": false,
     "input": [
      "print '%s-%s-%s' % (now.year, now.month, now.day)\n",
      "print '%s/%s/%s' % (now.year, now.month, now.day)\n",
      "print '%s:%s:%s' % (now.hour, now.minute, now.second)\n",
      "print '%s/%s/%s %s:%s:%s' % (now.month, now.day, now.year, now.hour, now.minute, now.second)"
     ],
     "language": "python",
     "metadata": {},
     "outputs": [
      {
       "output_type": "stream",
       "stream": "stdout",
       "text": [
        "2014-7-8\n",
        "2014/7/8\n",
        "12:34:52\n",
        "7/8/2014 12:34:52\n"
       ]
      }
     ],
     "prompt_number": 10
    }
   ],
   "metadata": {}
  }
 ]
}
