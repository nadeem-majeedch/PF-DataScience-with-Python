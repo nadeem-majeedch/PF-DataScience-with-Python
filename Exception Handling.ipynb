{
 "cells": [
  {
   "cell_type": "markdown",
   "metadata": {},
   "source": [
    "# Exception Handling\n",
    "* Errors/Exceptions are bound to occur in any programming language\n",
    "* Whenever Error/Exception happens the program will abruptly terminate\n",
    "* We need to handle the Exceptions\n",
    "* In python we use **try**,**except**,**finally** blocks to handle the exception\n",
    "\n",
    "## In python there are two types of errors\n",
    "1) Syntax errors / parsing errors\n",
    "\n",
    "2) Exceptions"
   ]
  },
  {
   "cell_type": "markdown",
   "metadata": {},
   "source": [
    "### Syntax Errors:\n",
    "* As the name suggest, these error occurs when there is error in syntax\n",
    "* cannot be handled"
   ]
  },
  {
   "cell_type": "markdown",
   "metadata": {},
   "source": [
    "### Ex 1)"
   ]
  },
  {
   "cell_type": "code",
   "execution_count": 1,
   "metadata": {
    "scrolled": true
   },
   "outputs": [
    {
     "ename": "SyntaxError",
     "evalue": "invalid syntax (2207924330.py, line 1)",
     "output_type": "error",
     "traceback": [
      "\u001b[1;36m  Input \u001b[1;32mIn [1]\u001b[1;36m\u001b[0m\n\u001b[1;33m    if(4>2)\u001b[0m\n\u001b[1;37m           ^\u001b[0m\n\u001b[1;31mSyntaxError\u001b[0m\u001b[1;31m:\u001b[0m invalid syntax\n"
     ]
    }
   ],
   "source": [
    "if(4>2)\n",
    "    print('A')"
   ]
  },
  {
   "cell_type": "code",
   "execution_count": 2,
   "metadata": {},
   "outputs": [
    {
     "ename": "SyntaxError",
     "evalue": "invalid syntax (3048771947.py, line 3)",
     "output_type": "error",
     "traceback": [
      "\u001b[1;36m  Input \u001b[1;32mIn [2]\u001b[1;36m\u001b[0m\n\u001b[1;33m    if(4>2)\u001b[0m\n\u001b[1;37m           ^\u001b[0m\n\u001b[1;31mSyntaxError\u001b[0m\u001b[1;31m:\u001b[0m invalid syntax\n"
     ]
    }
   ],
   "source": [
    "# Cannot be handled using try except\n",
    "try:\n",
    "    if(4>2)\n",
    "        print('A')\n",
    "except:\n",
    "    print(\"Exception\")"
   ]
  },
  {
   "cell_type": "markdown",
   "metadata": {},
   "source": [
    "### Ex2)"
   ]
  },
  {
   "cell_type": "code",
   "execution_count": 3,
   "metadata": {},
   "outputs": [
    {
     "ename": "IndentationError",
     "evalue": "unexpected indent (3663430352.py, line 2)",
     "output_type": "error",
     "traceback": [
      "\u001b[1;36m  Input \u001b[1;32mIn [3]\u001b[1;36m\u001b[0m\n\u001b[1;33m    print(\"b\")\u001b[0m\n\u001b[1;37m    ^\u001b[0m\n\u001b[1;31mIndentationError\u001b[0m\u001b[1;31m:\u001b[0m unexpected indent\n"
     ]
    }
   ],
   "source": [
    "print(\"a\")\n",
    "    print(\"b\")"
   ]
  },
  {
   "cell_type": "markdown",
   "metadata": {},
   "source": [
    "### Exceptions\n",
    "* any error other than sytax errors are called as exception\n",
    "* Exceptions can be handled"
   ]
  },
  {
   "cell_type": "markdown",
   "metadata": {},
   "source": [
    "### Ex1) "
   ]
  },
  {
   "cell_type": "code",
   "execution_count": 4,
   "metadata": {},
   "outputs": [
    {
     "name": "stdout",
     "output_type": "stream",
     "text": [
      "hello world\n"
     ]
    },
    {
     "ename": "NameError",
     "evalue": "name 'name' is not defined",
     "output_type": "error",
     "traceback": [
      "\u001b[1;31m---------------------------------------------------------------------------\u001b[0m",
      "\u001b[1;31mNameError\u001b[0m                                 Traceback (most recent call last)",
      "Input \u001b[1;32mIn [4]\u001b[0m, in \u001b[0;36m<cell line: 2>\u001b[1;34m()\u001b[0m\n\u001b[0;32m      1\u001b[0m \u001b[38;5;28mprint\u001b[39m(\u001b[38;5;124m\"\u001b[39m\u001b[38;5;124mhello world\u001b[39m\u001b[38;5;124m\"\u001b[39m)\n\u001b[1;32m----> 2\u001b[0m \u001b[38;5;28mprint\u001b[39m(\u001b[43mname\u001b[49m)\n\u001b[0;32m      3\u001b[0m \u001b[38;5;28mprint\u001b[39m(\u001b[38;5;124m'\u001b[39m\u001b[38;5;124mWelcome to exception handling\u001b[39m\u001b[38;5;124m'\u001b[39m)\n\u001b[0;32m      4\u001b[0m \u001b[38;5;28mprint\u001b[39m(\u001b[38;5;124m'\u001b[39m\u001b[38;5;124mThank you\u001b[39m\u001b[38;5;124m'\u001b[39m)\n",
      "\u001b[1;31mNameError\u001b[0m: name 'name' is not defined"
     ]
    }
   ],
   "source": [
    "print(\"hello world\")\n",
    "print(name)\n",
    "print('Welcome to exception handling')\n",
    "print('Thank you')"
   ]
  },
  {
   "cell_type": "markdown",
   "metadata": {},
   "source": [
    "## try:\n",
    "* **try** block will check if there are any exceptions in our code. \n",
    "* If there are exception, then it will pass the control to **except** block\n",
    "* If there is no exception then it will not do anything\n",
    "\n",
    "## except:\n",
    "* **except** block will handle the exception.\n",
    "* It prevents the abrupt termination of the program"
   ]
  },
  {
   "cell_type": "code",
   "execution_count": 5,
   "metadata": {},
   "outputs": [
    {
     "data": {
      "text/plain": [
       "'\\nsyntax ---->\\n\\ntry:\\n    statement1\\n    statement2\\n    .......\\nexcept:\\n    statement1\\n    statement2\\n    .......\\n'"
      ]
     },
     "execution_count": 5,
     "metadata": {},
     "output_type": "execute_result"
    }
   ],
   "source": [
    "\"\"\"\n",
    "syntax ---->\n",
    "\n",
    "try:\n",
    "    statement1\n",
    "    statement2\n",
    "    .......\n",
    "except:\n",
    "    statement1\n",
    "    statement2\n",
    "    .......\n",
    "\"\"\""
   ]
  },
  {
   "cell_type": "code",
   "execution_count": 6,
   "metadata": {},
   "outputs": [
    {
     "name": "stdout",
     "output_type": "stream",
     "text": [
      "hello world\n",
      "Name variable is not defined\n",
      "Welcome to exception handling\n",
      "Thank you\n"
     ]
    }
   ],
   "source": [
    "print(\"hello world\")\n",
    "\n",
    "try:\n",
    "    print(name)\n",
    "except:\n",
    "    print(\"Name variable is not defined\")\n",
    "      \n",
    "print('Welcome to exception handling')\n",
    "print('Thank you')"
   ]
  },
  {
   "cell_type": "markdown",
   "metadata": {},
   "source": [
    "### Ex2)"
   ]
  },
  {
   "cell_type": "code",
   "execution_count": 7,
   "metadata": {},
   "outputs": [],
   "source": [
    "#list\n",
    "list1 = [1,2,3,4,5]"
   ]
  },
  {
   "cell_type": "code",
   "execution_count": 8,
   "metadata": {},
   "outputs": [
    {
     "ename": "IndexError",
     "evalue": "list index out of range",
     "output_type": "error",
     "traceback": [
      "\u001b[1;31m---------------------------------------------------------------------------\u001b[0m",
      "\u001b[1;31mIndexError\u001b[0m                                Traceback (most recent call last)",
      "Input \u001b[1;32mIn [8]\u001b[0m, in \u001b[0;36m<cell line: 3>\u001b[1;34m()\u001b[0m\n\u001b[0;32m      1\u001b[0m \u001b[38;5;66;03m#without try except\u001b[39;00m\n\u001b[0;32m      2\u001b[0m index \u001b[38;5;241m=\u001b[39m \u001b[38;5;241m6\u001b[39m\n\u001b[1;32m----> 3\u001b[0m elem \u001b[38;5;241m=\u001b[39m \u001b[43mlist1\u001b[49m\u001b[43m[\u001b[49m\u001b[43mindex\u001b[49m\u001b[43m]\u001b[49m\n\u001b[0;32m      4\u001b[0m \u001b[38;5;28mprint\u001b[39m(\u001b[38;5;124m'\u001b[39m\u001b[38;5;124melement = \u001b[39m\u001b[38;5;124m'\u001b[39m,elem)\n",
      "\u001b[1;31mIndexError\u001b[0m: list index out of range"
     ]
    }
   ],
   "source": [
    "#without try except\n",
    "index = 6\n",
    "elem = list1[index]\n",
    "print('element = ',elem)"
   ]
  },
  {
   "cell_type": "code",
   "execution_count": 9,
   "metadata": {},
   "outputs": [
    {
     "name": "stdout",
     "output_type": "stream",
     "text": [
      "Invalid index\n"
     ]
    }
   ],
   "source": [
    "#with try except\n",
    "try:\n",
    "    index = 6\n",
    "    elem = list1[index]\n",
    "    print('element = ',elem)\n",
    "except:\n",
    "    print('Invalid index')"
   ]
  },
  {
   "cell_type": "markdown",
   "metadata": {},
   "source": [
    "## finally:\n",
    "* No matter if the exception occurs or not this block will compulsorily get executed"
   ]
  },
  {
   "cell_type": "code",
   "execution_count": 10,
   "metadata": {},
   "outputs": [
    {
     "data": {
      "text/plain": [
       "'\\nsyntax ---->\\n\\ntry:\\n    statement1\\n    statement2\\n    .......\\nexcept:\\n    statement1\\n    statement2\\n    .......\\nfinally:\\n    statement1\\n    statement2\\n    .......\\n'"
      ]
     },
     "execution_count": 10,
     "metadata": {},
     "output_type": "execute_result"
    }
   ],
   "source": [
    "\"\"\"\n",
    "syntax ---->\n",
    "\n",
    "try:\n",
    "    statement1\n",
    "    statement2\n",
    "    .......\n",
    "except:\n",
    "    statement1\n",
    "    statement2\n",
    "    .......\n",
    "finally:\n",
    "    statement1\n",
    "    statement2\n",
    "    .......\n",
    "\"\"\""
   ]
  },
  {
   "cell_type": "markdown",
   "metadata": {},
   "source": [
    "### Ex3)"
   ]
  },
  {
   "cell_type": "code",
   "execution_count": 11,
   "metadata": {},
   "outputs": [
    {
     "name": "stdout",
     "output_type": "stream",
     "text": [
      "Invalid index\n",
      "End of program\n"
     ]
    }
   ],
   "source": [
    "try:\n",
    "    index = 6\n",
    "    elem = list1[index]\n",
    "    print('element = ',elem)\n",
    "except:\n",
    "    print('Invalid index')\n",
    "finally:\n",
    "    print(\"End of program\")\n"
   ]
  },
  {
   "cell_type": "markdown",
   "metadata": {},
   "source": [
    "## else:\n",
    "* You can also use else block along with try except\n",
    "* else block will get execute only if there is no exception\n",
    "* it should be placed after the except block and before the finally block"
   ]
  },
  {
   "cell_type": "code",
   "execution_count": 12,
   "metadata": {},
   "outputs": [
    {
     "data": {
      "text/plain": [
       "'\\nsyntax ---->\\n\\ntry:\\n    statement1\\n    statement2\\n    .......\\nexcept:\\n    statement1\\n    statement2\\n    .......\\nelse:\\n    statement1\\n    statement2\\n    .......\\nfinally:\\n    statement1\\n    statement2\\n    .......\\n'"
      ]
     },
     "execution_count": 12,
     "metadata": {},
     "output_type": "execute_result"
    }
   ],
   "source": [
    "\"\"\"\n",
    "syntax ---->\n",
    "\n",
    "try:\n",
    "    statement1\n",
    "    statement2\n",
    "    .......\n",
    "except:\n",
    "    statement1\n",
    "    statement2\n",
    "    .......\n",
    "else:\n",
    "    statement1\n",
    "    statement2\n",
    "    .......\n",
    "finally:\n",
    "    statement1\n",
    "    statement2\n",
    "    .......\n",
    "\"\"\""
   ]
  },
  {
   "cell_type": "markdown",
   "metadata": {},
   "source": [
    "### Ex4)"
   ]
  },
  {
   "cell_type": "code",
   "execution_count": 13,
   "metadata": {},
   "outputs": [
    {
     "name": "stdout",
     "output_type": "stream",
     "text": [
      "Invalid index\n",
      "End of program\n"
     ]
    }
   ],
   "source": [
    "try:\n",
    "    index = 6\n",
    "    elem = list1[index]\n",
    "    print('element = ',elem)\n",
    "except:\n",
    "    print('Invalid index')\n",
    "else:\n",
    "    print('No exception')\n",
    "finally:\n",
    "    print(\"End of program\")\n"
   ]
  },
  {
   "cell_type": "markdown",
   "metadata": {},
   "source": [
    "## Excepting multiple errors"
   ]
  },
  {
   "cell_type": "markdown",
   "metadata": {},
   "source": [
    "### Ex 5.1 : Dividing two numbers without try except blocks"
   ]
  },
  {
   "cell_type": "code",
   "execution_count": 11,
   "metadata": {
    "scrolled": true
   },
   "outputs": [
    {
     "name": "stdout",
     "output_type": "stream",
     "text": [
      "start of the program\n",
      "Enter the numerator : 100\n",
      "Enter the denominator : 10\n",
      "Numerator = 100 , Denominator = 10\n",
      "result =  10.0\n",
      "End of program\n"
     ]
    }
   ],
   "source": [
    "print(\"start of the program\")\n",
    "\n",
    "num1 = int(input(\"Enter the numerator : \"))\n",
    "num2 = int(input(\"Enter the denominator : \"))\n",
    "\n",
    "print('Numerator = {} , Denominator = {}'.format(num1,num2))\n",
    "\n",
    "result = num1/num2\n",
    "\n",
    "print(\"result = \",result)\n",
    "print(\"End of program\")"
   ]
  },
  {
   "cell_type": "code",
   "execution_count": null,
   "metadata": {},
   "outputs": [],
   "source": []
  },
  {
   "cell_type": "markdown",
   "metadata": {},
   "source": [
    "### Ex 5.2 : Dividing two numbers with only one except block"
   ]
  },
  {
   "cell_type": "code",
   "execution_count": 12,
   "metadata": {},
   "outputs": [
    {
     "name": "stdout",
     "output_type": "stream",
     "text": [
      "start of the program\n",
      "Enter the numerator : python\n",
      "Something went wrong\n",
      "End of program\n"
     ]
    }
   ],
   "source": [
    "print(\"start of the program\")\n",
    "\n",
    "try:\n",
    "    num1 = int(input(\"Enter the numerator : \"))\n",
    "    num2 = int(input(\"Enter the denominator : \"))\n",
    "\n",
    "    print('Numerator = {} , Denominator = {}'.format(num1,num2))\n",
    "\n",
    "    result = num1/num2\n",
    "    print(\"result = \",result)\n",
    "except:\n",
    "    print(\"Something went wrong\")\n",
    "finally:\n",
    "    print(\"End of program\")\n"
   ]
  },
  {
   "cell_type": "code",
   "execution_count": null,
   "metadata": {},
   "outputs": [],
   "source": []
  },
  {
   "cell_type": "markdown",
   "metadata": {},
   "source": [
    "### Ex 5.3 : Dividing two numbers with multiple except blocks"
   ]
  },
  {
   "cell_type": "code",
   "execution_count": null,
   "metadata": {},
   "outputs": [],
   "source": [
    "\"\"\"\n",
    "syntax for excepting multiple exceptions\n",
    "\n",
    "try:\n",
    "    statement1\n",
    "    .......\n",
    "except Exception1:\n",
    "    statement1\n",
    "    .......\n",
    "except Exception2:\n",
    "    statement1\n",
    "    .......\n",
    "except:\n",
    "    statement1\n",
    "    .......\n",
    "\n",
    "\"\"\""
   ]
  },
  {
   "cell_type": "code",
   "execution_count": 13,
   "metadata": {},
   "outputs": [
    {
     "name": "stdout",
     "output_type": "stream",
     "text": [
      "start of the program\n",
      "Enter the numerator : 100\n",
      "Enter the denominator : 0\n",
      "Numerator = 100 , Denominator = 0\n",
      "Enter a non-zero denominator\n",
      "End of program\n"
     ]
    }
   ],
   "source": [
    "print(\"start of the program\")\n",
    "\n",
    "try:\n",
    "    num1 = int(input(\"Enter the numerator : \"))\n",
    "    num2 = int(input(\"Enter the denominator : \"))\n",
    "\n",
    "    print('Numerator = {} , Denominator = {}'.format(num1,num2))\n",
    "\n",
    "    result = num1/num2\n",
    "    print(\"result = \",result)\n",
    "    \n",
    "except ZeroDivisionError:\n",
    "    print(\"Enter a non-zero denominator\")\n",
    "    \n",
    "except ValueError:\n",
    "    print(\"Please enter the numbers only\")\n",
    "    \n",
    "except:\n",
    "    print(\"Something went wrong\")\n",
    "    \n",
    "finally:\n",
    "    print(\"End of program\")\n"
   ]
  },
  {
   "cell_type": "code",
   "execution_count": null,
   "metadata": {},
   "outputs": [],
   "source": []
  }
 ],
 "metadata": {
  "kernelspec": {
   "display_name": "Python 3 (ipykernel)",
   "language": "python",
   "name": "python3"
  },
  "language_info": {
   "codemirror_mode": {
    "name": "ipython",
    "version": 3
   },
   "file_extension": ".py",
   "mimetype": "text/x-python",
   "name": "python",
   "nbconvert_exporter": "python",
   "pygments_lexer": "ipython3",
   "version": "3.9.13"
  }
 },
 "nbformat": 4,
 "nbformat_minor": 2
}
